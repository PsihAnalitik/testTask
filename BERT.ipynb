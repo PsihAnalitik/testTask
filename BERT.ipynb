{
  "nbformat": 4,
  "nbformat_minor": 0,
  "metadata": {
    "colab": {
      "provenance": [],
      "gpuType": "T4",
      "authorship_tag": "ABX9TyPCFVhbvzCN58j/v3XGCf1N",
      "include_colab_link": true
    },
    "kernelspec": {
      "name": "python3",
      "display_name": "Python 3"
    },
    "language_info": {
      "name": "python"
    },
    "accelerator": "GPU",
    "widgets": {
      "application/vnd.jupyter.widget-state+json": {
        "4d2863fb8e924c1181c987d1f977ee81": {
          "model_module": "@jupyter-widgets/controls",
          "model_name": "HBoxModel",
          "model_module_version": "1.5.0",
          "state": {
            "_dom_classes": [],
            "_model_module": "@jupyter-widgets/controls",
            "_model_module_version": "1.5.0",
            "_model_name": "HBoxModel",
            "_view_count": null,
            "_view_module": "@jupyter-widgets/controls",
            "_view_module_version": "1.5.0",
            "_view_name": "HBoxView",
            "box_style": "",
            "children": [
              "IPY_MODEL_958ad0896c30405583721d59d8b5f4f1",
              "IPY_MODEL_b154b3ce6e9b49d48fa0d9a9eef3b1d8",
              "IPY_MODEL_91514793ef5e42e497bb80c1dc0aeed5"
            ],
            "layout": "IPY_MODEL_47a6c2f2720f44d7ad3efa564e46e602"
          }
        },
        "958ad0896c30405583721d59d8b5f4f1": {
          "model_module": "@jupyter-widgets/controls",
          "model_name": "HTMLModel",
          "model_module_version": "1.5.0",
          "state": {
            "_dom_classes": [],
            "_model_module": "@jupyter-widgets/controls",
            "_model_module_version": "1.5.0",
            "_model_name": "HTMLModel",
            "_view_count": null,
            "_view_module": "@jupyter-widgets/controls",
            "_view_module_version": "1.5.0",
            "_view_name": "HTMLView",
            "description": "",
            "description_tooltip": null,
            "layout": "IPY_MODEL_8af226eaa22348c280ae89c635e9d762",
            "placeholder": "​",
            "style": "IPY_MODEL_b4a3467f3c16407684b5c2c6d8997bd9",
            "value": "Downloading (…)lve/main/config.json: 100%"
          }
        },
        "b154b3ce6e9b49d48fa0d9a9eef3b1d8": {
          "model_module": "@jupyter-widgets/controls",
          "model_name": "FloatProgressModel",
          "model_module_version": "1.5.0",
          "state": {
            "_dom_classes": [],
            "_model_module": "@jupyter-widgets/controls",
            "_model_module_version": "1.5.0",
            "_model_name": "FloatProgressModel",
            "_view_count": null,
            "_view_module": "@jupyter-widgets/controls",
            "_view_module_version": "1.5.0",
            "_view_name": "ProgressView",
            "bar_style": "success",
            "description": "",
            "description_tooltip": null,
            "layout": "IPY_MODEL_5997baf61a4a43e9a31b6d064da6a7b1",
            "max": 570,
            "min": 0,
            "orientation": "horizontal",
            "style": "IPY_MODEL_733460b5fdf648908c210fd28eb03580",
            "value": 570
          }
        },
        "91514793ef5e42e497bb80c1dc0aeed5": {
          "model_module": "@jupyter-widgets/controls",
          "model_name": "HTMLModel",
          "model_module_version": "1.5.0",
          "state": {
            "_dom_classes": [],
            "_model_module": "@jupyter-widgets/controls",
            "_model_module_version": "1.5.0",
            "_model_name": "HTMLModel",
            "_view_count": null,
            "_view_module": "@jupyter-widgets/controls",
            "_view_module_version": "1.5.0",
            "_view_name": "HTMLView",
            "description": "",
            "description_tooltip": null,
            "layout": "IPY_MODEL_4833b29d9f0249ac98c7e700d1eca4ce",
            "placeholder": "​",
            "style": "IPY_MODEL_9d9d239e4df14b8fa75ff461623efa8c",
            "value": " 570/570 [00:00&lt;00:00, 32.0kB/s]"
          }
        },
        "47a6c2f2720f44d7ad3efa564e46e602": {
          "model_module": "@jupyter-widgets/base",
          "model_name": "LayoutModel",
          "model_module_version": "1.2.0",
          "state": {
            "_model_module": "@jupyter-widgets/base",
            "_model_module_version": "1.2.0",
            "_model_name": "LayoutModel",
            "_view_count": null,
            "_view_module": "@jupyter-widgets/base",
            "_view_module_version": "1.2.0",
            "_view_name": "LayoutView",
            "align_content": null,
            "align_items": null,
            "align_self": null,
            "border": null,
            "bottom": null,
            "display": null,
            "flex": null,
            "flex_flow": null,
            "grid_area": null,
            "grid_auto_columns": null,
            "grid_auto_flow": null,
            "grid_auto_rows": null,
            "grid_column": null,
            "grid_gap": null,
            "grid_row": null,
            "grid_template_areas": null,
            "grid_template_columns": null,
            "grid_template_rows": null,
            "height": null,
            "justify_content": null,
            "justify_items": null,
            "left": null,
            "margin": null,
            "max_height": null,
            "max_width": null,
            "min_height": null,
            "min_width": null,
            "object_fit": null,
            "object_position": null,
            "order": null,
            "overflow": null,
            "overflow_x": null,
            "overflow_y": null,
            "padding": null,
            "right": null,
            "top": null,
            "visibility": null,
            "width": null
          }
        },
        "8af226eaa22348c280ae89c635e9d762": {
          "model_module": "@jupyter-widgets/base",
          "model_name": "LayoutModel",
          "model_module_version": "1.2.0",
          "state": {
            "_model_module": "@jupyter-widgets/base",
            "_model_module_version": "1.2.0",
            "_model_name": "LayoutModel",
            "_view_count": null,
            "_view_module": "@jupyter-widgets/base",
            "_view_module_version": "1.2.0",
            "_view_name": "LayoutView",
            "align_content": null,
            "align_items": null,
            "align_self": null,
            "border": null,
            "bottom": null,
            "display": null,
            "flex": null,
            "flex_flow": null,
            "grid_area": null,
            "grid_auto_columns": null,
            "grid_auto_flow": null,
            "grid_auto_rows": null,
            "grid_column": null,
            "grid_gap": null,
            "grid_row": null,
            "grid_template_areas": null,
            "grid_template_columns": null,
            "grid_template_rows": null,
            "height": null,
            "justify_content": null,
            "justify_items": null,
            "left": null,
            "margin": null,
            "max_height": null,
            "max_width": null,
            "min_height": null,
            "min_width": null,
            "object_fit": null,
            "object_position": null,
            "order": null,
            "overflow": null,
            "overflow_x": null,
            "overflow_y": null,
            "padding": null,
            "right": null,
            "top": null,
            "visibility": null,
            "width": null
          }
        },
        "b4a3467f3c16407684b5c2c6d8997bd9": {
          "model_module": "@jupyter-widgets/controls",
          "model_name": "DescriptionStyleModel",
          "model_module_version": "1.5.0",
          "state": {
            "_model_module": "@jupyter-widgets/controls",
            "_model_module_version": "1.5.0",
            "_model_name": "DescriptionStyleModel",
            "_view_count": null,
            "_view_module": "@jupyter-widgets/base",
            "_view_module_version": "1.2.0",
            "_view_name": "StyleView",
            "description_width": ""
          }
        },
        "5997baf61a4a43e9a31b6d064da6a7b1": {
          "model_module": "@jupyter-widgets/base",
          "model_name": "LayoutModel",
          "model_module_version": "1.2.0",
          "state": {
            "_model_module": "@jupyter-widgets/base",
            "_model_module_version": "1.2.0",
            "_model_name": "LayoutModel",
            "_view_count": null,
            "_view_module": "@jupyter-widgets/base",
            "_view_module_version": "1.2.0",
            "_view_name": "LayoutView",
            "align_content": null,
            "align_items": null,
            "align_self": null,
            "border": null,
            "bottom": null,
            "display": null,
            "flex": null,
            "flex_flow": null,
            "grid_area": null,
            "grid_auto_columns": null,
            "grid_auto_flow": null,
            "grid_auto_rows": null,
            "grid_column": null,
            "grid_gap": null,
            "grid_row": null,
            "grid_template_areas": null,
            "grid_template_columns": null,
            "grid_template_rows": null,
            "height": null,
            "justify_content": null,
            "justify_items": null,
            "left": null,
            "margin": null,
            "max_height": null,
            "max_width": null,
            "min_height": null,
            "min_width": null,
            "object_fit": null,
            "object_position": null,
            "order": null,
            "overflow": null,
            "overflow_x": null,
            "overflow_y": null,
            "padding": null,
            "right": null,
            "top": null,
            "visibility": null,
            "width": null
          }
        },
        "733460b5fdf648908c210fd28eb03580": {
          "model_module": "@jupyter-widgets/controls",
          "model_name": "ProgressStyleModel",
          "model_module_version": "1.5.0",
          "state": {
            "_model_module": "@jupyter-widgets/controls",
            "_model_module_version": "1.5.0",
            "_model_name": "ProgressStyleModel",
            "_view_count": null,
            "_view_module": "@jupyter-widgets/base",
            "_view_module_version": "1.2.0",
            "_view_name": "StyleView",
            "bar_color": null,
            "description_width": ""
          }
        },
        "4833b29d9f0249ac98c7e700d1eca4ce": {
          "model_module": "@jupyter-widgets/base",
          "model_name": "LayoutModel",
          "model_module_version": "1.2.0",
          "state": {
            "_model_module": "@jupyter-widgets/base",
            "_model_module_version": "1.2.0",
            "_model_name": "LayoutModel",
            "_view_count": null,
            "_view_module": "@jupyter-widgets/base",
            "_view_module_version": "1.2.0",
            "_view_name": "LayoutView",
            "align_content": null,
            "align_items": null,
            "align_self": null,
            "border": null,
            "bottom": null,
            "display": null,
            "flex": null,
            "flex_flow": null,
            "grid_area": null,
            "grid_auto_columns": null,
            "grid_auto_flow": null,
            "grid_auto_rows": null,
            "grid_column": null,
            "grid_gap": null,
            "grid_row": null,
            "grid_template_areas": null,
            "grid_template_columns": null,
            "grid_template_rows": null,
            "height": null,
            "justify_content": null,
            "justify_items": null,
            "left": null,
            "margin": null,
            "max_height": null,
            "max_width": null,
            "min_height": null,
            "min_width": null,
            "object_fit": null,
            "object_position": null,
            "order": null,
            "overflow": null,
            "overflow_x": null,
            "overflow_y": null,
            "padding": null,
            "right": null,
            "top": null,
            "visibility": null,
            "width": null
          }
        },
        "9d9d239e4df14b8fa75ff461623efa8c": {
          "model_module": "@jupyter-widgets/controls",
          "model_name": "DescriptionStyleModel",
          "model_module_version": "1.5.0",
          "state": {
            "_model_module": "@jupyter-widgets/controls",
            "_model_module_version": "1.5.0",
            "_model_name": "DescriptionStyleModel",
            "_view_count": null,
            "_view_module": "@jupyter-widgets/base",
            "_view_module_version": "1.2.0",
            "_view_name": "StyleView",
            "description_width": ""
          }
        },
        "59807394b4024168b792fadbbdc0ac94": {
          "model_module": "@jupyter-widgets/controls",
          "model_name": "HBoxModel",
          "model_module_version": "1.5.0",
          "state": {
            "_dom_classes": [],
            "_model_module": "@jupyter-widgets/controls",
            "_model_module_version": "1.5.0",
            "_model_name": "HBoxModel",
            "_view_count": null,
            "_view_module": "@jupyter-widgets/controls",
            "_view_module_version": "1.5.0",
            "_view_name": "HBoxView",
            "box_style": "",
            "children": [
              "IPY_MODEL_4ef1231d85644ab496b97973c2a50d60",
              "IPY_MODEL_db7347843334497a8f9e11544409f14a",
              "IPY_MODEL_9af05dac8c6c4899a237a139c9859612"
            ],
            "layout": "IPY_MODEL_c40943f9d26a49c991877e5e5bb615c1"
          }
        },
        "4ef1231d85644ab496b97973c2a50d60": {
          "model_module": "@jupyter-widgets/controls",
          "model_name": "HTMLModel",
          "model_module_version": "1.5.0",
          "state": {
            "_dom_classes": [],
            "_model_module": "@jupyter-widgets/controls",
            "_model_module_version": "1.5.0",
            "_model_name": "HTMLModel",
            "_view_count": null,
            "_view_module": "@jupyter-widgets/controls",
            "_view_module_version": "1.5.0",
            "_view_name": "HTMLView",
            "description": "",
            "description_tooltip": null,
            "layout": "IPY_MODEL_a2e1c03ddc8c45e89f1fe139d2fe7b10",
            "placeholder": "​",
            "style": "IPY_MODEL_b91459adf54f4671a46c208a685352c3",
            "value": "Downloading model.safetensors: 100%"
          }
        },
        "db7347843334497a8f9e11544409f14a": {
          "model_module": "@jupyter-widgets/controls",
          "model_name": "FloatProgressModel",
          "model_module_version": "1.5.0",
          "state": {
            "_dom_classes": [],
            "_model_module": "@jupyter-widgets/controls",
            "_model_module_version": "1.5.0",
            "_model_name": "FloatProgressModel",
            "_view_count": null,
            "_view_module": "@jupyter-widgets/controls",
            "_view_module_version": "1.5.0",
            "_view_name": "ProgressView",
            "bar_style": "success",
            "description": "",
            "description_tooltip": null,
            "layout": "IPY_MODEL_8f8223245be4422ba26c1ccd4885af9b",
            "max": 440449768,
            "min": 0,
            "orientation": "horizontal",
            "style": "IPY_MODEL_5f41f1c4e0264d128b2fd3c069f1125f",
            "value": 440449768
          }
        },
        "9af05dac8c6c4899a237a139c9859612": {
          "model_module": "@jupyter-widgets/controls",
          "model_name": "HTMLModel",
          "model_module_version": "1.5.0",
          "state": {
            "_dom_classes": [],
            "_model_module": "@jupyter-widgets/controls",
            "_model_module_version": "1.5.0",
            "_model_name": "HTMLModel",
            "_view_count": null,
            "_view_module": "@jupyter-widgets/controls",
            "_view_module_version": "1.5.0",
            "_view_name": "HTMLView",
            "description": "",
            "description_tooltip": null,
            "layout": "IPY_MODEL_f92b5855841749528a95c7222707eb58",
            "placeholder": "​",
            "style": "IPY_MODEL_5dfe128fd1834295b267213ce6383708",
            "value": " 440M/440M [00:02&lt;00:00, 216MB/s]"
          }
        },
        "c40943f9d26a49c991877e5e5bb615c1": {
          "model_module": "@jupyter-widgets/base",
          "model_name": "LayoutModel",
          "model_module_version": "1.2.0",
          "state": {
            "_model_module": "@jupyter-widgets/base",
            "_model_module_version": "1.2.0",
            "_model_name": "LayoutModel",
            "_view_count": null,
            "_view_module": "@jupyter-widgets/base",
            "_view_module_version": "1.2.0",
            "_view_name": "LayoutView",
            "align_content": null,
            "align_items": null,
            "align_self": null,
            "border": null,
            "bottom": null,
            "display": null,
            "flex": null,
            "flex_flow": null,
            "grid_area": null,
            "grid_auto_columns": null,
            "grid_auto_flow": null,
            "grid_auto_rows": null,
            "grid_column": null,
            "grid_gap": null,
            "grid_row": null,
            "grid_template_areas": null,
            "grid_template_columns": null,
            "grid_template_rows": null,
            "height": null,
            "justify_content": null,
            "justify_items": null,
            "left": null,
            "margin": null,
            "max_height": null,
            "max_width": null,
            "min_height": null,
            "min_width": null,
            "object_fit": null,
            "object_position": null,
            "order": null,
            "overflow": null,
            "overflow_x": null,
            "overflow_y": null,
            "padding": null,
            "right": null,
            "top": null,
            "visibility": null,
            "width": null
          }
        },
        "a2e1c03ddc8c45e89f1fe139d2fe7b10": {
          "model_module": "@jupyter-widgets/base",
          "model_name": "LayoutModel",
          "model_module_version": "1.2.0",
          "state": {
            "_model_module": "@jupyter-widgets/base",
            "_model_module_version": "1.2.0",
            "_model_name": "LayoutModel",
            "_view_count": null,
            "_view_module": "@jupyter-widgets/base",
            "_view_module_version": "1.2.0",
            "_view_name": "LayoutView",
            "align_content": null,
            "align_items": null,
            "align_self": null,
            "border": null,
            "bottom": null,
            "display": null,
            "flex": null,
            "flex_flow": null,
            "grid_area": null,
            "grid_auto_columns": null,
            "grid_auto_flow": null,
            "grid_auto_rows": null,
            "grid_column": null,
            "grid_gap": null,
            "grid_row": null,
            "grid_template_areas": null,
            "grid_template_columns": null,
            "grid_template_rows": null,
            "height": null,
            "justify_content": null,
            "justify_items": null,
            "left": null,
            "margin": null,
            "max_height": null,
            "max_width": null,
            "min_height": null,
            "min_width": null,
            "object_fit": null,
            "object_position": null,
            "order": null,
            "overflow": null,
            "overflow_x": null,
            "overflow_y": null,
            "padding": null,
            "right": null,
            "top": null,
            "visibility": null,
            "width": null
          }
        },
        "b91459adf54f4671a46c208a685352c3": {
          "model_module": "@jupyter-widgets/controls",
          "model_name": "DescriptionStyleModel",
          "model_module_version": "1.5.0",
          "state": {
            "_model_module": "@jupyter-widgets/controls",
            "_model_module_version": "1.5.0",
            "_model_name": "DescriptionStyleModel",
            "_view_count": null,
            "_view_module": "@jupyter-widgets/base",
            "_view_module_version": "1.2.0",
            "_view_name": "StyleView",
            "description_width": ""
          }
        },
        "8f8223245be4422ba26c1ccd4885af9b": {
          "model_module": "@jupyter-widgets/base",
          "model_name": "LayoutModel",
          "model_module_version": "1.2.0",
          "state": {
            "_model_module": "@jupyter-widgets/base",
            "_model_module_version": "1.2.0",
            "_model_name": "LayoutModel",
            "_view_count": null,
            "_view_module": "@jupyter-widgets/base",
            "_view_module_version": "1.2.0",
            "_view_name": "LayoutView",
            "align_content": null,
            "align_items": null,
            "align_self": null,
            "border": null,
            "bottom": null,
            "display": null,
            "flex": null,
            "flex_flow": null,
            "grid_area": null,
            "grid_auto_columns": null,
            "grid_auto_flow": null,
            "grid_auto_rows": null,
            "grid_column": null,
            "grid_gap": null,
            "grid_row": null,
            "grid_template_areas": null,
            "grid_template_columns": null,
            "grid_template_rows": null,
            "height": null,
            "justify_content": null,
            "justify_items": null,
            "left": null,
            "margin": null,
            "max_height": null,
            "max_width": null,
            "min_height": null,
            "min_width": null,
            "object_fit": null,
            "object_position": null,
            "order": null,
            "overflow": null,
            "overflow_x": null,
            "overflow_y": null,
            "padding": null,
            "right": null,
            "top": null,
            "visibility": null,
            "width": null
          }
        },
        "5f41f1c4e0264d128b2fd3c069f1125f": {
          "model_module": "@jupyter-widgets/controls",
          "model_name": "ProgressStyleModel",
          "model_module_version": "1.5.0",
          "state": {
            "_model_module": "@jupyter-widgets/controls",
            "_model_module_version": "1.5.0",
            "_model_name": "ProgressStyleModel",
            "_view_count": null,
            "_view_module": "@jupyter-widgets/base",
            "_view_module_version": "1.2.0",
            "_view_name": "StyleView",
            "bar_color": null,
            "description_width": ""
          }
        },
        "f92b5855841749528a95c7222707eb58": {
          "model_module": "@jupyter-widgets/base",
          "model_name": "LayoutModel",
          "model_module_version": "1.2.0",
          "state": {
            "_model_module": "@jupyter-widgets/base",
            "_model_module_version": "1.2.0",
            "_model_name": "LayoutModel",
            "_view_count": null,
            "_view_module": "@jupyter-widgets/base",
            "_view_module_version": "1.2.0",
            "_view_name": "LayoutView",
            "align_content": null,
            "align_items": null,
            "align_self": null,
            "border": null,
            "bottom": null,
            "display": null,
            "flex": null,
            "flex_flow": null,
            "grid_area": null,
            "grid_auto_columns": null,
            "grid_auto_flow": null,
            "grid_auto_rows": null,
            "grid_column": null,
            "grid_gap": null,
            "grid_row": null,
            "grid_template_areas": null,
            "grid_template_columns": null,
            "grid_template_rows": null,
            "height": null,
            "justify_content": null,
            "justify_items": null,
            "left": null,
            "margin": null,
            "max_height": null,
            "max_width": null,
            "min_height": null,
            "min_width": null,
            "object_fit": null,
            "object_position": null,
            "order": null,
            "overflow": null,
            "overflow_x": null,
            "overflow_y": null,
            "padding": null,
            "right": null,
            "top": null,
            "visibility": null,
            "width": null
          }
        },
        "5dfe128fd1834295b267213ce6383708": {
          "model_module": "@jupyter-widgets/controls",
          "model_name": "DescriptionStyleModel",
          "model_module_version": "1.5.0",
          "state": {
            "_model_module": "@jupyter-widgets/controls",
            "_model_module_version": "1.5.0",
            "_model_name": "DescriptionStyleModel",
            "_view_count": null,
            "_view_module": "@jupyter-widgets/base",
            "_view_module_version": "1.2.0",
            "_view_name": "StyleView",
            "description_width": ""
          }
        },
        "3b1f316761d04df2b62d954ec6417e0c": {
          "model_module": "@jupyter-widgets/controls",
          "model_name": "HBoxModel",
          "model_module_version": "1.5.0",
          "state": {
            "_dom_classes": [],
            "_model_module": "@jupyter-widgets/controls",
            "_model_module_version": "1.5.0",
            "_model_name": "HBoxModel",
            "_view_count": null,
            "_view_module": "@jupyter-widgets/controls",
            "_view_module_version": "1.5.0",
            "_view_name": "HBoxView",
            "box_style": "",
            "children": [
              "IPY_MODEL_9f3d090c88764322b55f1e5b08cd7222",
              "IPY_MODEL_e50dcdb0500a498da716b6298656d029",
              "IPY_MODEL_2113de860f7d48c3af9f5f8661317182"
            ],
            "layout": "IPY_MODEL_3eb1dd59fc074934af8ca6285a3bd3e8"
          }
        },
        "9f3d090c88764322b55f1e5b08cd7222": {
          "model_module": "@jupyter-widgets/controls",
          "model_name": "HTMLModel",
          "model_module_version": "1.5.0",
          "state": {
            "_dom_classes": [],
            "_model_module": "@jupyter-widgets/controls",
            "_model_module_version": "1.5.0",
            "_model_name": "HTMLModel",
            "_view_count": null,
            "_view_module": "@jupyter-widgets/controls",
            "_view_module_version": "1.5.0",
            "_view_name": "HTMLView",
            "description": "",
            "description_tooltip": null,
            "layout": "IPY_MODEL_67820805b1cc4b0f8e3013a014c1acd2",
            "placeholder": "​",
            "style": "IPY_MODEL_46512198811642f787c871012d11276a",
            "value": "Downloading (…)solve/main/vocab.txt: 100%"
          }
        },
        "e50dcdb0500a498da716b6298656d029": {
          "model_module": "@jupyter-widgets/controls",
          "model_name": "FloatProgressModel",
          "model_module_version": "1.5.0",
          "state": {
            "_dom_classes": [],
            "_model_module": "@jupyter-widgets/controls",
            "_model_module_version": "1.5.0",
            "_model_name": "FloatProgressModel",
            "_view_count": null,
            "_view_module": "@jupyter-widgets/controls",
            "_view_module_version": "1.5.0",
            "_view_name": "ProgressView",
            "bar_style": "success",
            "description": "",
            "description_tooltip": null,
            "layout": "IPY_MODEL_5d4bbc0ea69b43edaf44cfdfed9e92d0",
            "max": 231508,
            "min": 0,
            "orientation": "horizontal",
            "style": "IPY_MODEL_9b461f0ac2af46978a0f11a272c4c868",
            "value": 231508
          }
        },
        "2113de860f7d48c3af9f5f8661317182": {
          "model_module": "@jupyter-widgets/controls",
          "model_name": "HTMLModel",
          "model_module_version": "1.5.0",
          "state": {
            "_dom_classes": [],
            "_model_module": "@jupyter-widgets/controls",
            "_model_module_version": "1.5.0",
            "_model_name": "HTMLModel",
            "_view_count": null,
            "_view_module": "@jupyter-widgets/controls",
            "_view_module_version": "1.5.0",
            "_view_name": "HTMLView",
            "description": "",
            "description_tooltip": null,
            "layout": "IPY_MODEL_fc19929366ad4ffd9eb7bd64c6f4e590",
            "placeholder": "​",
            "style": "IPY_MODEL_892179643dd94e3a915404eb9a3f753a",
            "value": " 232k/232k [00:00&lt;00:00, 3.95MB/s]"
          }
        },
        "3eb1dd59fc074934af8ca6285a3bd3e8": {
          "model_module": "@jupyter-widgets/base",
          "model_name": "LayoutModel",
          "model_module_version": "1.2.0",
          "state": {
            "_model_module": "@jupyter-widgets/base",
            "_model_module_version": "1.2.0",
            "_model_name": "LayoutModel",
            "_view_count": null,
            "_view_module": "@jupyter-widgets/base",
            "_view_module_version": "1.2.0",
            "_view_name": "LayoutView",
            "align_content": null,
            "align_items": null,
            "align_self": null,
            "border": null,
            "bottom": null,
            "display": null,
            "flex": null,
            "flex_flow": null,
            "grid_area": null,
            "grid_auto_columns": null,
            "grid_auto_flow": null,
            "grid_auto_rows": null,
            "grid_column": null,
            "grid_gap": null,
            "grid_row": null,
            "grid_template_areas": null,
            "grid_template_columns": null,
            "grid_template_rows": null,
            "height": null,
            "justify_content": null,
            "justify_items": null,
            "left": null,
            "margin": null,
            "max_height": null,
            "max_width": null,
            "min_height": null,
            "min_width": null,
            "object_fit": null,
            "object_position": null,
            "order": null,
            "overflow": null,
            "overflow_x": null,
            "overflow_y": null,
            "padding": null,
            "right": null,
            "top": null,
            "visibility": null,
            "width": null
          }
        },
        "67820805b1cc4b0f8e3013a014c1acd2": {
          "model_module": "@jupyter-widgets/base",
          "model_name": "LayoutModel",
          "model_module_version": "1.2.0",
          "state": {
            "_model_module": "@jupyter-widgets/base",
            "_model_module_version": "1.2.0",
            "_model_name": "LayoutModel",
            "_view_count": null,
            "_view_module": "@jupyter-widgets/base",
            "_view_module_version": "1.2.0",
            "_view_name": "LayoutView",
            "align_content": null,
            "align_items": null,
            "align_self": null,
            "border": null,
            "bottom": null,
            "display": null,
            "flex": null,
            "flex_flow": null,
            "grid_area": null,
            "grid_auto_columns": null,
            "grid_auto_flow": null,
            "grid_auto_rows": null,
            "grid_column": null,
            "grid_gap": null,
            "grid_row": null,
            "grid_template_areas": null,
            "grid_template_columns": null,
            "grid_template_rows": null,
            "height": null,
            "justify_content": null,
            "justify_items": null,
            "left": null,
            "margin": null,
            "max_height": null,
            "max_width": null,
            "min_height": null,
            "min_width": null,
            "object_fit": null,
            "object_position": null,
            "order": null,
            "overflow": null,
            "overflow_x": null,
            "overflow_y": null,
            "padding": null,
            "right": null,
            "top": null,
            "visibility": null,
            "width": null
          }
        },
        "46512198811642f787c871012d11276a": {
          "model_module": "@jupyter-widgets/controls",
          "model_name": "DescriptionStyleModel",
          "model_module_version": "1.5.0",
          "state": {
            "_model_module": "@jupyter-widgets/controls",
            "_model_module_version": "1.5.0",
            "_model_name": "DescriptionStyleModel",
            "_view_count": null,
            "_view_module": "@jupyter-widgets/base",
            "_view_module_version": "1.2.0",
            "_view_name": "StyleView",
            "description_width": ""
          }
        },
        "5d4bbc0ea69b43edaf44cfdfed9e92d0": {
          "model_module": "@jupyter-widgets/base",
          "model_name": "LayoutModel",
          "model_module_version": "1.2.0",
          "state": {
            "_model_module": "@jupyter-widgets/base",
            "_model_module_version": "1.2.0",
            "_model_name": "LayoutModel",
            "_view_count": null,
            "_view_module": "@jupyter-widgets/base",
            "_view_module_version": "1.2.0",
            "_view_name": "LayoutView",
            "align_content": null,
            "align_items": null,
            "align_self": null,
            "border": null,
            "bottom": null,
            "display": null,
            "flex": null,
            "flex_flow": null,
            "grid_area": null,
            "grid_auto_columns": null,
            "grid_auto_flow": null,
            "grid_auto_rows": null,
            "grid_column": null,
            "grid_gap": null,
            "grid_row": null,
            "grid_template_areas": null,
            "grid_template_columns": null,
            "grid_template_rows": null,
            "height": null,
            "justify_content": null,
            "justify_items": null,
            "left": null,
            "margin": null,
            "max_height": null,
            "max_width": null,
            "min_height": null,
            "min_width": null,
            "object_fit": null,
            "object_position": null,
            "order": null,
            "overflow": null,
            "overflow_x": null,
            "overflow_y": null,
            "padding": null,
            "right": null,
            "top": null,
            "visibility": null,
            "width": null
          }
        },
        "9b461f0ac2af46978a0f11a272c4c868": {
          "model_module": "@jupyter-widgets/controls",
          "model_name": "ProgressStyleModel",
          "model_module_version": "1.5.0",
          "state": {
            "_model_module": "@jupyter-widgets/controls",
            "_model_module_version": "1.5.0",
            "_model_name": "ProgressStyleModel",
            "_view_count": null,
            "_view_module": "@jupyter-widgets/base",
            "_view_module_version": "1.2.0",
            "_view_name": "StyleView",
            "bar_color": null,
            "description_width": ""
          }
        },
        "fc19929366ad4ffd9eb7bd64c6f4e590": {
          "model_module": "@jupyter-widgets/base",
          "model_name": "LayoutModel",
          "model_module_version": "1.2.0",
          "state": {
            "_model_module": "@jupyter-widgets/base",
            "_model_module_version": "1.2.0",
            "_model_name": "LayoutModel",
            "_view_count": null,
            "_view_module": "@jupyter-widgets/base",
            "_view_module_version": "1.2.0",
            "_view_name": "LayoutView",
            "align_content": null,
            "align_items": null,
            "align_self": null,
            "border": null,
            "bottom": null,
            "display": null,
            "flex": null,
            "flex_flow": null,
            "grid_area": null,
            "grid_auto_columns": null,
            "grid_auto_flow": null,
            "grid_auto_rows": null,
            "grid_column": null,
            "grid_gap": null,
            "grid_row": null,
            "grid_template_areas": null,
            "grid_template_columns": null,
            "grid_template_rows": null,
            "height": null,
            "justify_content": null,
            "justify_items": null,
            "left": null,
            "margin": null,
            "max_height": null,
            "max_width": null,
            "min_height": null,
            "min_width": null,
            "object_fit": null,
            "object_position": null,
            "order": null,
            "overflow": null,
            "overflow_x": null,
            "overflow_y": null,
            "padding": null,
            "right": null,
            "top": null,
            "visibility": null,
            "width": null
          }
        },
        "892179643dd94e3a915404eb9a3f753a": {
          "model_module": "@jupyter-widgets/controls",
          "model_name": "DescriptionStyleModel",
          "model_module_version": "1.5.0",
          "state": {
            "_model_module": "@jupyter-widgets/controls",
            "_model_module_version": "1.5.0",
            "_model_name": "DescriptionStyleModel",
            "_view_count": null,
            "_view_module": "@jupyter-widgets/base",
            "_view_module_version": "1.2.0",
            "_view_name": "StyleView",
            "description_width": ""
          }
        },
        "522b472681bd44d59bb3e10e57720c9e": {
          "model_module": "@jupyter-widgets/controls",
          "model_name": "HBoxModel",
          "model_module_version": "1.5.0",
          "state": {
            "_dom_classes": [],
            "_model_module": "@jupyter-widgets/controls",
            "_model_module_version": "1.5.0",
            "_model_name": "HBoxModel",
            "_view_count": null,
            "_view_module": "@jupyter-widgets/controls",
            "_view_module_version": "1.5.0",
            "_view_name": "HBoxView",
            "box_style": "",
            "children": [
              "IPY_MODEL_f387062fdfdf4b76b7b4ba186859366d",
              "IPY_MODEL_2c79751a30374a72abfc063f613753e3",
              "IPY_MODEL_11355de6972749a488da9aa838bdd29e"
            ],
            "layout": "IPY_MODEL_b7ed01aa715f4b2c8a1b6d49000c05d6"
          }
        },
        "f387062fdfdf4b76b7b4ba186859366d": {
          "model_module": "@jupyter-widgets/controls",
          "model_name": "HTMLModel",
          "model_module_version": "1.5.0",
          "state": {
            "_dom_classes": [],
            "_model_module": "@jupyter-widgets/controls",
            "_model_module_version": "1.5.0",
            "_model_name": "HTMLModel",
            "_view_count": null,
            "_view_module": "@jupyter-widgets/controls",
            "_view_module_version": "1.5.0",
            "_view_name": "HTMLView",
            "description": "",
            "description_tooltip": null,
            "layout": "IPY_MODEL_0bc5455664ce479ba1c78d2fd9dd1909",
            "placeholder": "​",
            "style": "IPY_MODEL_2f515e88380a4efc911190af8bf55cd8",
            "value": "Downloading (…)okenizer_config.json: 100%"
          }
        },
        "2c79751a30374a72abfc063f613753e3": {
          "model_module": "@jupyter-widgets/controls",
          "model_name": "FloatProgressModel",
          "model_module_version": "1.5.0",
          "state": {
            "_dom_classes": [],
            "_model_module": "@jupyter-widgets/controls",
            "_model_module_version": "1.5.0",
            "_model_name": "FloatProgressModel",
            "_view_count": null,
            "_view_module": "@jupyter-widgets/controls",
            "_view_module_version": "1.5.0",
            "_view_name": "ProgressView",
            "bar_style": "success",
            "description": "",
            "description_tooltip": null,
            "layout": "IPY_MODEL_d3a8fec52bea4ad79b576f68a11f09cc",
            "max": 28,
            "min": 0,
            "orientation": "horizontal",
            "style": "IPY_MODEL_f1b05e6c7b7a489e9b3f3bab0f1ff08d",
            "value": 28
          }
        },
        "11355de6972749a488da9aa838bdd29e": {
          "model_module": "@jupyter-widgets/controls",
          "model_name": "HTMLModel",
          "model_module_version": "1.5.0",
          "state": {
            "_dom_classes": [],
            "_model_module": "@jupyter-widgets/controls",
            "_model_module_version": "1.5.0",
            "_model_name": "HTMLModel",
            "_view_count": null,
            "_view_module": "@jupyter-widgets/controls",
            "_view_module_version": "1.5.0",
            "_view_name": "HTMLView",
            "description": "",
            "description_tooltip": null,
            "layout": "IPY_MODEL_2f2223d89ff64e868c990a8d8ba86537",
            "placeholder": "​",
            "style": "IPY_MODEL_036ba5ab11f4422f9ca55cefce9c742f",
            "value": " 28.0/28.0 [00:00&lt;00:00, 2.13kB/s]"
          }
        },
        "b7ed01aa715f4b2c8a1b6d49000c05d6": {
          "model_module": "@jupyter-widgets/base",
          "model_name": "LayoutModel",
          "model_module_version": "1.2.0",
          "state": {
            "_model_module": "@jupyter-widgets/base",
            "_model_module_version": "1.2.0",
            "_model_name": "LayoutModel",
            "_view_count": null,
            "_view_module": "@jupyter-widgets/base",
            "_view_module_version": "1.2.0",
            "_view_name": "LayoutView",
            "align_content": null,
            "align_items": null,
            "align_self": null,
            "border": null,
            "bottom": null,
            "display": null,
            "flex": null,
            "flex_flow": null,
            "grid_area": null,
            "grid_auto_columns": null,
            "grid_auto_flow": null,
            "grid_auto_rows": null,
            "grid_column": null,
            "grid_gap": null,
            "grid_row": null,
            "grid_template_areas": null,
            "grid_template_columns": null,
            "grid_template_rows": null,
            "height": null,
            "justify_content": null,
            "justify_items": null,
            "left": null,
            "margin": null,
            "max_height": null,
            "max_width": null,
            "min_height": null,
            "min_width": null,
            "object_fit": null,
            "object_position": null,
            "order": null,
            "overflow": null,
            "overflow_x": null,
            "overflow_y": null,
            "padding": null,
            "right": null,
            "top": null,
            "visibility": null,
            "width": null
          }
        },
        "0bc5455664ce479ba1c78d2fd9dd1909": {
          "model_module": "@jupyter-widgets/base",
          "model_name": "LayoutModel",
          "model_module_version": "1.2.0",
          "state": {
            "_model_module": "@jupyter-widgets/base",
            "_model_module_version": "1.2.0",
            "_model_name": "LayoutModel",
            "_view_count": null,
            "_view_module": "@jupyter-widgets/base",
            "_view_module_version": "1.2.0",
            "_view_name": "LayoutView",
            "align_content": null,
            "align_items": null,
            "align_self": null,
            "border": null,
            "bottom": null,
            "display": null,
            "flex": null,
            "flex_flow": null,
            "grid_area": null,
            "grid_auto_columns": null,
            "grid_auto_flow": null,
            "grid_auto_rows": null,
            "grid_column": null,
            "grid_gap": null,
            "grid_row": null,
            "grid_template_areas": null,
            "grid_template_columns": null,
            "grid_template_rows": null,
            "height": null,
            "justify_content": null,
            "justify_items": null,
            "left": null,
            "margin": null,
            "max_height": null,
            "max_width": null,
            "min_height": null,
            "min_width": null,
            "object_fit": null,
            "object_position": null,
            "order": null,
            "overflow": null,
            "overflow_x": null,
            "overflow_y": null,
            "padding": null,
            "right": null,
            "top": null,
            "visibility": null,
            "width": null
          }
        },
        "2f515e88380a4efc911190af8bf55cd8": {
          "model_module": "@jupyter-widgets/controls",
          "model_name": "DescriptionStyleModel",
          "model_module_version": "1.5.0",
          "state": {
            "_model_module": "@jupyter-widgets/controls",
            "_model_module_version": "1.5.0",
            "_model_name": "DescriptionStyleModel",
            "_view_count": null,
            "_view_module": "@jupyter-widgets/base",
            "_view_module_version": "1.2.0",
            "_view_name": "StyleView",
            "description_width": ""
          }
        },
        "d3a8fec52bea4ad79b576f68a11f09cc": {
          "model_module": "@jupyter-widgets/base",
          "model_name": "LayoutModel",
          "model_module_version": "1.2.0",
          "state": {
            "_model_module": "@jupyter-widgets/base",
            "_model_module_version": "1.2.0",
            "_model_name": "LayoutModel",
            "_view_count": null,
            "_view_module": "@jupyter-widgets/base",
            "_view_module_version": "1.2.0",
            "_view_name": "LayoutView",
            "align_content": null,
            "align_items": null,
            "align_self": null,
            "border": null,
            "bottom": null,
            "display": null,
            "flex": null,
            "flex_flow": null,
            "grid_area": null,
            "grid_auto_columns": null,
            "grid_auto_flow": null,
            "grid_auto_rows": null,
            "grid_column": null,
            "grid_gap": null,
            "grid_row": null,
            "grid_template_areas": null,
            "grid_template_columns": null,
            "grid_template_rows": null,
            "height": null,
            "justify_content": null,
            "justify_items": null,
            "left": null,
            "margin": null,
            "max_height": null,
            "max_width": null,
            "min_height": null,
            "min_width": null,
            "object_fit": null,
            "object_position": null,
            "order": null,
            "overflow": null,
            "overflow_x": null,
            "overflow_y": null,
            "padding": null,
            "right": null,
            "top": null,
            "visibility": null,
            "width": null
          }
        },
        "f1b05e6c7b7a489e9b3f3bab0f1ff08d": {
          "model_module": "@jupyter-widgets/controls",
          "model_name": "ProgressStyleModel",
          "model_module_version": "1.5.0",
          "state": {
            "_model_module": "@jupyter-widgets/controls",
            "_model_module_version": "1.5.0",
            "_model_name": "ProgressStyleModel",
            "_view_count": null,
            "_view_module": "@jupyter-widgets/base",
            "_view_module_version": "1.2.0",
            "_view_name": "StyleView",
            "bar_color": null,
            "description_width": ""
          }
        },
        "2f2223d89ff64e868c990a8d8ba86537": {
          "model_module": "@jupyter-widgets/base",
          "model_name": "LayoutModel",
          "model_module_version": "1.2.0",
          "state": {
            "_model_module": "@jupyter-widgets/base",
            "_model_module_version": "1.2.0",
            "_model_name": "LayoutModel",
            "_view_count": null,
            "_view_module": "@jupyter-widgets/base",
            "_view_module_version": "1.2.0",
            "_view_name": "LayoutView",
            "align_content": null,
            "align_items": null,
            "align_self": null,
            "border": null,
            "bottom": null,
            "display": null,
            "flex": null,
            "flex_flow": null,
            "grid_area": null,
            "grid_auto_columns": null,
            "grid_auto_flow": null,
            "grid_auto_rows": null,
            "grid_column": null,
            "grid_gap": null,
            "grid_row": null,
            "grid_template_areas": null,
            "grid_template_columns": null,
            "grid_template_rows": null,
            "height": null,
            "justify_content": null,
            "justify_items": null,
            "left": null,
            "margin": null,
            "max_height": null,
            "max_width": null,
            "min_height": null,
            "min_width": null,
            "object_fit": null,
            "object_position": null,
            "order": null,
            "overflow": null,
            "overflow_x": null,
            "overflow_y": null,
            "padding": null,
            "right": null,
            "top": null,
            "visibility": null,
            "width": null
          }
        },
        "036ba5ab11f4422f9ca55cefce9c742f": {
          "model_module": "@jupyter-widgets/controls",
          "model_name": "DescriptionStyleModel",
          "model_module_version": "1.5.0",
          "state": {
            "_model_module": "@jupyter-widgets/controls",
            "_model_module_version": "1.5.0",
            "_model_name": "DescriptionStyleModel",
            "_view_count": null,
            "_view_module": "@jupyter-widgets/base",
            "_view_module_version": "1.2.0",
            "_view_name": "StyleView",
            "description_width": ""
          }
        },
        "9b5230f2860d42ea81838647327dbe29": {
          "model_module": "@jupyter-widgets/controls",
          "model_name": "HBoxModel",
          "model_module_version": "1.5.0",
          "state": {
            "_dom_classes": [],
            "_model_module": "@jupyter-widgets/controls",
            "_model_module_version": "1.5.0",
            "_model_name": "HBoxModel",
            "_view_count": null,
            "_view_module": "@jupyter-widgets/controls",
            "_view_module_version": "1.5.0",
            "_view_name": "HBoxView",
            "box_style": "",
            "children": [
              "IPY_MODEL_d41ca229c637471481ad69f6353added",
              "IPY_MODEL_4974b14ecf784f80b94754b46acc131c",
              "IPY_MODEL_6947a1de07b542b39eb71b2f8fe0b022"
            ],
            "layout": "IPY_MODEL_0017b7dc3bb146dfaecde7a45ef86b8b"
          }
        },
        "d41ca229c637471481ad69f6353added": {
          "model_module": "@jupyter-widgets/controls",
          "model_name": "HTMLModel",
          "model_module_version": "1.5.0",
          "state": {
            "_dom_classes": [],
            "_model_module": "@jupyter-widgets/controls",
            "_model_module_version": "1.5.0",
            "_model_name": "HTMLModel",
            "_view_count": null,
            "_view_module": "@jupyter-widgets/controls",
            "_view_module_version": "1.5.0",
            "_view_name": "HTMLView",
            "description": "",
            "description_tooltip": null,
            "layout": "IPY_MODEL_eb1d24d0a39a40798dbe3e7cfd24b125",
            "placeholder": "​",
            "style": "IPY_MODEL_b52d2a8542104cdeb2e71cc7174eb76c",
            "value": "Downloading (…)lve/main/config.json: 100%"
          }
        },
        "4974b14ecf784f80b94754b46acc131c": {
          "model_module": "@jupyter-widgets/controls",
          "model_name": "FloatProgressModel",
          "model_module_version": "1.5.0",
          "state": {
            "_dom_classes": [],
            "_model_module": "@jupyter-widgets/controls",
            "_model_module_version": "1.5.0",
            "_model_name": "FloatProgressModel",
            "_view_count": null,
            "_view_module": "@jupyter-widgets/controls",
            "_view_module_version": "1.5.0",
            "_view_name": "ProgressView",
            "bar_style": "success",
            "description": "",
            "description_tooltip": null,
            "layout": "IPY_MODEL_eede547d3e5d4630a21b5bf55b6702a9",
            "max": 570,
            "min": 0,
            "orientation": "horizontal",
            "style": "IPY_MODEL_2a6551410aea4beca23a83a034cafd21",
            "value": 570
          }
        },
        "6947a1de07b542b39eb71b2f8fe0b022": {
          "model_module": "@jupyter-widgets/controls",
          "model_name": "HTMLModel",
          "model_module_version": "1.5.0",
          "state": {
            "_dom_classes": [],
            "_model_module": "@jupyter-widgets/controls",
            "_model_module_version": "1.5.0",
            "_model_name": "HTMLModel",
            "_view_count": null,
            "_view_module": "@jupyter-widgets/controls",
            "_view_module_version": "1.5.0",
            "_view_name": "HTMLView",
            "description": "",
            "description_tooltip": null,
            "layout": "IPY_MODEL_1e717724b8a746adbb76114b8e9a8092",
            "placeholder": "​",
            "style": "IPY_MODEL_c5bc77b93fe84c10a10bb497a7b686b1",
            "value": " 570/570 [00:00&lt;00:00, 21.3kB/s]"
          }
        },
        "0017b7dc3bb146dfaecde7a45ef86b8b": {
          "model_module": "@jupyter-widgets/base",
          "model_name": "LayoutModel",
          "model_module_version": "1.2.0",
          "state": {
            "_model_module": "@jupyter-widgets/base",
            "_model_module_version": "1.2.0",
            "_model_name": "LayoutModel",
            "_view_count": null,
            "_view_module": "@jupyter-widgets/base",
            "_view_module_version": "1.2.0",
            "_view_name": "LayoutView",
            "align_content": null,
            "align_items": null,
            "align_self": null,
            "border": null,
            "bottom": null,
            "display": null,
            "flex": null,
            "flex_flow": null,
            "grid_area": null,
            "grid_auto_columns": null,
            "grid_auto_flow": null,
            "grid_auto_rows": null,
            "grid_column": null,
            "grid_gap": null,
            "grid_row": null,
            "grid_template_areas": null,
            "grid_template_columns": null,
            "grid_template_rows": null,
            "height": null,
            "justify_content": null,
            "justify_items": null,
            "left": null,
            "margin": null,
            "max_height": null,
            "max_width": null,
            "min_height": null,
            "min_width": null,
            "object_fit": null,
            "object_position": null,
            "order": null,
            "overflow": null,
            "overflow_x": null,
            "overflow_y": null,
            "padding": null,
            "right": null,
            "top": null,
            "visibility": null,
            "width": null
          }
        },
        "eb1d24d0a39a40798dbe3e7cfd24b125": {
          "model_module": "@jupyter-widgets/base",
          "model_name": "LayoutModel",
          "model_module_version": "1.2.0",
          "state": {
            "_model_module": "@jupyter-widgets/base",
            "_model_module_version": "1.2.0",
            "_model_name": "LayoutModel",
            "_view_count": null,
            "_view_module": "@jupyter-widgets/base",
            "_view_module_version": "1.2.0",
            "_view_name": "LayoutView",
            "align_content": null,
            "align_items": null,
            "align_self": null,
            "border": null,
            "bottom": null,
            "display": null,
            "flex": null,
            "flex_flow": null,
            "grid_area": null,
            "grid_auto_columns": null,
            "grid_auto_flow": null,
            "grid_auto_rows": null,
            "grid_column": null,
            "grid_gap": null,
            "grid_row": null,
            "grid_template_areas": null,
            "grid_template_columns": null,
            "grid_template_rows": null,
            "height": null,
            "justify_content": null,
            "justify_items": null,
            "left": null,
            "margin": null,
            "max_height": null,
            "max_width": null,
            "min_height": null,
            "min_width": null,
            "object_fit": null,
            "object_position": null,
            "order": null,
            "overflow": null,
            "overflow_x": null,
            "overflow_y": null,
            "padding": null,
            "right": null,
            "top": null,
            "visibility": null,
            "width": null
          }
        },
        "b52d2a8542104cdeb2e71cc7174eb76c": {
          "model_module": "@jupyter-widgets/controls",
          "model_name": "DescriptionStyleModel",
          "model_module_version": "1.5.0",
          "state": {
            "_model_module": "@jupyter-widgets/controls",
            "_model_module_version": "1.5.0",
            "_model_name": "DescriptionStyleModel",
            "_view_count": null,
            "_view_module": "@jupyter-widgets/base",
            "_view_module_version": "1.2.0",
            "_view_name": "StyleView",
            "description_width": ""
          }
        },
        "eede547d3e5d4630a21b5bf55b6702a9": {
          "model_module": "@jupyter-widgets/base",
          "model_name": "LayoutModel",
          "model_module_version": "1.2.0",
          "state": {
            "_model_module": "@jupyter-widgets/base",
            "_model_module_version": "1.2.0",
            "_model_name": "LayoutModel",
            "_view_count": null,
            "_view_module": "@jupyter-widgets/base",
            "_view_module_version": "1.2.0",
            "_view_name": "LayoutView",
            "align_content": null,
            "align_items": null,
            "align_self": null,
            "border": null,
            "bottom": null,
            "display": null,
            "flex": null,
            "flex_flow": null,
            "grid_area": null,
            "grid_auto_columns": null,
            "grid_auto_flow": null,
            "grid_auto_rows": null,
            "grid_column": null,
            "grid_gap": null,
            "grid_row": null,
            "grid_template_areas": null,
            "grid_template_columns": null,
            "grid_template_rows": null,
            "height": null,
            "justify_content": null,
            "justify_items": null,
            "left": null,
            "margin": null,
            "max_height": null,
            "max_width": null,
            "min_height": null,
            "min_width": null,
            "object_fit": null,
            "object_position": null,
            "order": null,
            "overflow": null,
            "overflow_x": null,
            "overflow_y": null,
            "padding": null,
            "right": null,
            "top": null,
            "visibility": null,
            "width": null
          }
        },
        "2a6551410aea4beca23a83a034cafd21": {
          "model_module": "@jupyter-widgets/controls",
          "model_name": "ProgressStyleModel",
          "model_module_version": "1.5.0",
          "state": {
            "_model_module": "@jupyter-widgets/controls",
            "_model_module_version": "1.5.0",
            "_model_name": "ProgressStyleModel",
            "_view_count": null,
            "_view_module": "@jupyter-widgets/base",
            "_view_module_version": "1.2.0",
            "_view_name": "StyleView",
            "bar_color": null,
            "description_width": ""
          }
        },
        "1e717724b8a746adbb76114b8e9a8092": {
          "model_module": "@jupyter-widgets/base",
          "model_name": "LayoutModel",
          "model_module_version": "1.2.0",
          "state": {
            "_model_module": "@jupyter-widgets/base",
            "_model_module_version": "1.2.0",
            "_model_name": "LayoutModel",
            "_view_count": null,
            "_view_module": "@jupyter-widgets/base",
            "_view_module_version": "1.2.0",
            "_view_name": "LayoutView",
            "align_content": null,
            "align_items": null,
            "align_self": null,
            "border": null,
            "bottom": null,
            "display": null,
            "flex": null,
            "flex_flow": null,
            "grid_area": null,
            "grid_auto_columns": null,
            "grid_auto_flow": null,
            "grid_auto_rows": null,
            "grid_column": null,
            "grid_gap": null,
            "grid_row": null,
            "grid_template_areas": null,
            "grid_template_columns": null,
            "grid_template_rows": null,
            "height": null,
            "justify_content": null,
            "justify_items": null,
            "left": null,
            "margin": null,
            "max_height": null,
            "max_width": null,
            "min_height": null,
            "min_width": null,
            "object_fit": null,
            "object_position": null,
            "order": null,
            "overflow": null,
            "overflow_x": null,
            "overflow_y": null,
            "padding": null,
            "right": null,
            "top": null,
            "visibility": null,
            "width": null
          }
        },
        "c5bc77b93fe84c10a10bb497a7b686b1": {
          "model_module": "@jupyter-widgets/controls",
          "model_name": "DescriptionStyleModel",
          "model_module_version": "1.5.0",
          "state": {
            "_model_module": "@jupyter-widgets/controls",
            "_model_module_version": "1.5.0",
            "_model_name": "DescriptionStyleModel",
            "_view_count": null,
            "_view_module": "@jupyter-widgets/base",
            "_view_module_version": "1.2.0",
            "_view_name": "StyleView",
            "description_width": ""
          }
        },
        "a9e662aa5ed7404eada51983f4c1dffd": {
          "model_module": "@jupyter-widgets/controls",
          "model_name": "HBoxModel",
          "model_module_version": "1.5.0",
          "state": {
            "_dom_classes": [],
            "_model_module": "@jupyter-widgets/controls",
            "_model_module_version": "1.5.0",
            "_model_name": "HBoxModel",
            "_view_count": null,
            "_view_module": "@jupyter-widgets/controls",
            "_view_module_version": "1.5.0",
            "_view_name": "HBoxView",
            "box_style": "",
            "children": [
              "IPY_MODEL_7462f7771c30473da6e6451aeda61998",
              "IPY_MODEL_fbf4d7cb7f61442c9520068a9af1fe72",
              "IPY_MODEL_77faacaaed9f46718228c3d4308f1809"
            ],
            "layout": "IPY_MODEL_0ea135b3e93c41139fe227982eeaf9cc"
          }
        },
        "7462f7771c30473da6e6451aeda61998": {
          "model_module": "@jupyter-widgets/controls",
          "model_name": "HTMLModel",
          "model_module_version": "1.5.0",
          "state": {
            "_dom_classes": [],
            "_model_module": "@jupyter-widgets/controls",
            "_model_module_version": "1.5.0",
            "_model_name": "HTMLModel",
            "_view_count": null,
            "_view_module": "@jupyter-widgets/controls",
            "_view_module_version": "1.5.0",
            "_view_name": "HTMLView",
            "description": "",
            "description_tooltip": null,
            "layout": "IPY_MODEL_71b478fe2af2449e9750a2695dd448dc",
            "placeholder": "​",
            "style": "IPY_MODEL_2e28aba1b8c9472f9796f8039f789127",
            "value": "Downloading model.safetensors: 100%"
          }
        },
        "fbf4d7cb7f61442c9520068a9af1fe72": {
          "model_module": "@jupyter-widgets/controls",
          "model_name": "FloatProgressModel",
          "model_module_version": "1.5.0",
          "state": {
            "_dom_classes": [],
            "_model_module": "@jupyter-widgets/controls",
            "_model_module_version": "1.5.0",
            "_model_name": "FloatProgressModel",
            "_view_count": null,
            "_view_module": "@jupyter-widgets/controls",
            "_view_module_version": "1.5.0",
            "_view_name": "ProgressView",
            "bar_style": "success",
            "description": "",
            "description_tooltip": null,
            "layout": "IPY_MODEL_beec3dc950e849aa84f765c59f69587b",
            "max": 440449768,
            "min": 0,
            "orientation": "horizontal",
            "style": "IPY_MODEL_bd2b37e023d146c5b82d2180203703be",
            "value": 440449768
          }
        },
        "77faacaaed9f46718228c3d4308f1809": {
          "model_module": "@jupyter-widgets/controls",
          "model_name": "HTMLModel",
          "model_module_version": "1.5.0",
          "state": {
            "_dom_classes": [],
            "_model_module": "@jupyter-widgets/controls",
            "_model_module_version": "1.5.0",
            "_model_name": "HTMLModel",
            "_view_count": null,
            "_view_module": "@jupyter-widgets/controls",
            "_view_module_version": "1.5.0",
            "_view_name": "HTMLView",
            "description": "",
            "description_tooltip": null,
            "layout": "IPY_MODEL_fe8445bba0d04da5b912c340ab3d71ce",
            "placeholder": "​",
            "style": "IPY_MODEL_a0cf36e56f8a4fe383825b0f36f6e613",
            "value": " 440M/440M [00:05&lt;00:00, 119MB/s]"
          }
        },
        "0ea135b3e93c41139fe227982eeaf9cc": {
          "model_module": "@jupyter-widgets/base",
          "model_name": "LayoutModel",
          "model_module_version": "1.2.0",
          "state": {
            "_model_module": "@jupyter-widgets/base",
            "_model_module_version": "1.2.0",
            "_model_name": "LayoutModel",
            "_view_count": null,
            "_view_module": "@jupyter-widgets/base",
            "_view_module_version": "1.2.0",
            "_view_name": "LayoutView",
            "align_content": null,
            "align_items": null,
            "align_self": null,
            "border": null,
            "bottom": null,
            "display": null,
            "flex": null,
            "flex_flow": null,
            "grid_area": null,
            "grid_auto_columns": null,
            "grid_auto_flow": null,
            "grid_auto_rows": null,
            "grid_column": null,
            "grid_gap": null,
            "grid_row": null,
            "grid_template_areas": null,
            "grid_template_columns": null,
            "grid_template_rows": null,
            "height": null,
            "justify_content": null,
            "justify_items": null,
            "left": null,
            "margin": null,
            "max_height": null,
            "max_width": null,
            "min_height": null,
            "min_width": null,
            "object_fit": null,
            "object_position": null,
            "order": null,
            "overflow": null,
            "overflow_x": null,
            "overflow_y": null,
            "padding": null,
            "right": null,
            "top": null,
            "visibility": null,
            "width": null
          }
        },
        "71b478fe2af2449e9750a2695dd448dc": {
          "model_module": "@jupyter-widgets/base",
          "model_name": "LayoutModel",
          "model_module_version": "1.2.0",
          "state": {
            "_model_module": "@jupyter-widgets/base",
            "_model_module_version": "1.2.0",
            "_model_name": "LayoutModel",
            "_view_count": null,
            "_view_module": "@jupyter-widgets/base",
            "_view_module_version": "1.2.0",
            "_view_name": "LayoutView",
            "align_content": null,
            "align_items": null,
            "align_self": null,
            "border": null,
            "bottom": null,
            "display": null,
            "flex": null,
            "flex_flow": null,
            "grid_area": null,
            "grid_auto_columns": null,
            "grid_auto_flow": null,
            "grid_auto_rows": null,
            "grid_column": null,
            "grid_gap": null,
            "grid_row": null,
            "grid_template_areas": null,
            "grid_template_columns": null,
            "grid_template_rows": null,
            "height": null,
            "justify_content": null,
            "justify_items": null,
            "left": null,
            "margin": null,
            "max_height": null,
            "max_width": null,
            "min_height": null,
            "min_width": null,
            "object_fit": null,
            "object_position": null,
            "order": null,
            "overflow": null,
            "overflow_x": null,
            "overflow_y": null,
            "padding": null,
            "right": null,
            "top": null,
            "visibility": null,
            "width": null
          }
        },
        "2e28aba1b8c9472f9796f8039f789127": {
          "model_module": "@jupyter-widgets/controls",
          "model_name": "DescriptionStyleModel",
          "model_module_version": "1.5.0",
          "state": {
            "_model_module": "@jupyter-widgets/controls",
            "_model_module_version": "1.5.0",
            "_model_name": "DescriptionStyleModel",
            "_view_count": null,
            "_view_module": "@jupyter-widgets/base",
            "_view_module_version": "1.2.0",
            "_view_name": "StyleView",
            "description_width": ""
          }
        },
        "beec3dc950e849aa84f765c59f69587b": {
          "model_module": "@jupyter-widgets/base",
          "model_name": "LayoutModel",
          "model_module_version": "1.2.0",
          "state": {
            "_model_module": "@jupyter-widgets/base",
            "_model_module_version": "1.2.0",
            "_model_name": "LayoutModel",
            "_view_count": null,
            "_view_module": "@jupyter-widgets/base",
            "_view_module_version": "1.2.0",
            "_view_name": "LayoutView",
            "align_content": null,
            "align_items": null,
            "align_self": null,
            "border": null,
            "bottom": null,
            "display": null,
            "flex": null,
            "flex_flow": null,
            "grid_area": null,
            "grid_auto_columns": null,
            "grid_auto_flow": null,
            "grid_auto_rows": null,
            "grid_column": null,
            "grid_gap": null,
            "grid_row": null,
            "grid_template_areas": null,
            "grid_template_columns": null,
            "grid_template_rows": null,
            "height": null,
            "justify_content": null,
            "justify_items": null,
            "left": null,
            "margin": null,
            "max_height": null,
            "max_width": null,
            "min_height": null,
            "min_width": null,
            "object_fit": null,
            "object_position": null,
            "order": null,
            "overflow": null,
            "overflow_x": null,
            "overflow_y": null,
            "padding": null,
            "right": null,
            "top": null,
            "visibility": null,
            "width": null
          }
        },
        "bd2b37e023d146c5b82d2180203703be": {
          "model_module": "@jupyter-widgets/controls",
          "model_name": "ProgressStyleModel",
          "model_module_version": "1.5.0",
          "state": {
            "_model_module": "@jupyter-widgets/controls",
            "_model_module_version": "1.5.0",
            "_model_name": "ProgressStyleModel",
            "_view_count": null,
            "_view_module": "@jupyter-widgets/base",
            "_view_module_version": "1.2.0",
            "_view_name": "StyleView",
            "bar_color": null,
            "description_width": ""
          }
        },
        "fe8445bba0d04da5b912c340ab3d71ce": {
          "model_module": "@jupyter-widgets/base",
          "model_name": "LayoutModel",
          "model_module_version": "1.2.0",
          "state": {
            "_model_module": "@jupyter-widgets/base",
            "_model_module_version": "1.2.0",
            "_model_name": "LayoutModel",
            "_view_count": null,
            "_view_module": "@jupyter-widgets/base",
            "_view_module_version": "1.2.0",
            "_view_name": "LayoutView",
            "align_content": null,
            "align_items": null,
            "align_self": null,
            "border": null,
            "bottom": null,
            "display": null,
            "flex": null,
            "flex_flow": null,
            "grid_area": null,
            "grid_auto_columns": null,
            "grid_auto_flow": null,
            "grid_auto_rows": null,
            "grid_column": null,
            "grid_gap": null,
            "grid_row": null,
            "grid_template_areas": null,
            "grid_template_columns": null,
            "grid_template_rows": null,
            "height": null,
            "justify_content": null,
            "justify_items": null,
            "left": null,
            "margin": null,
            "max_height": null,
            "max_width": null,
            "min_height": null,
            "min_width": null,
            "object_fit": null,
            "object_position": null,
            "order": null,
            "overflow": null,
            "overflow_x": null,
            "overflow_y": null,
            "padding": null,
            "right": null,
            "top": null,
            "visibility": null,
            "width": null
          }
        },
        "a0cf36e56f8a4fe383825b0f36f6e613": {
          "model_module": "@jupyter-widgets/controls",
          "model_name": "DescriptionStyleModel",
          "model_module_version": "1.5.0",
          "state": {
            "_model_module": "@jupyter-widgets/controls",
            "_model_module_version": "1.5.0",
            "_model_name": "DescriptionStyleModel",
            "_view_count": null,
            "_view_module": "@jupyter-widgets/base",
            "_view_module_version": "1.2.0",
            "_view_name": "StyleView",
            "description_width": ""
          }
        },
        "e2f33b59d35d4b78a440722f1b668668": {
          "model_module": "@jupyter-widgets/controls",
          "model_name": "HBoxModel",
          "model_module_version": "1.5.0",
          "state": {
            "_dom_classes": [],
            "_model_module": "@jupyter-widgets/controls",
            "_model_module_version": "1.5.0",
            "_model_name": "HBoxModel",
            "_view_count": null,
            "_view_module": "@jupyter-widgets/controls",
            "_view_module_version": "1.5.0",
            "_view_name": "HBoxView",
            "box_style": "",
            "children": [
              "IPY_MODEL_396df4837dc64b1e9eacfeb2de787355",
              "IPY_MODEL_647c8f16c0a74ed8949f61297344ae52",
              "IPY_MODEL_a39d7e65481c496a85f96dba7010bef8"
            ],
            "layout": "IPY_MODEL_e0c022ada4904ffbbb0260a0f8645a98"
          }
        },
        "396df4837dc64b1e9eacfeb2de787355": {
          "model_module": "@jupyter-widgets/controls",
          "model_name": "HTMLModel",
          "model_module_version": "1.5.0",
          "state": {
            "_dom_classes": [],
            "_model_module": "@jupyter-widgets/controls",
            "_model_module_version": "1.5.0",
            "_model_name": "HTMLModel",
            "_view_count": null,
            "_view_module": "@jupyter-widgets/controls",
            "_view_module_version": "1.5.0",
            "_view_name": "HTMLView",
            "description": "",
            "description_tooltip": null,
            "layout": "IPY_MODEL_8b3c5eec2e684a28869d68d432a5b30f",
            "placeholder": "​",
            "style": "IPY_MODEL_2352809b1d8d49119c0b1ebb0d7b0fc1",
            "value": "Downloading (…)solve/main/vocab.txt: 100%"
          }
        },
        "647c8f16c0a74ed8949f61297344ae52": {
          "model_module": "@jupyter-widgets/controls",
          "model_name": "FloatProgressModel",
          "model_module_version": "1.5.0",
          "state": {
            "_dom_classes": [],
            "_model_module": "@jupyter-widgets/controls",
            "_model_module_version": "1.5.0",
            "_model_name": "FloatProgressModel",
            "_view_count": null,
            "_view_module": "@jupyter-widgets/controls",
            "_view_module_version": "1.5.0",
            "_view_name": "ProgressView",
            "bar_style": "success",
            "description": "",
            "description_tooltip": null,
            "layout": "IPY_MODEL_fe07862bfbae4443b32a01f24403c8d0",
            "max": 231508,
            "min": 0,
            "orientation": "horizontal",
            "style": "IPY_MODEL_a105408da77b44d2aee44b97b06f5b89",
            "value": 231508
          }
        },
        "a39d7e65481c496a85f96dba7010bef8": {
          "model_module": "@jupyter-widgets/controls",
          "model_name": "HTMLModel",
          "model_module_version": "1.5.0",
          "state": {
            "_dom_classes": [],
            "_model_module": "@jupyter-widgets/controls",
            "_model_module_version": "1.5.0",
            "_model_name": "HTMLModel",
            "_view_count": null,
            "_view_module": "@jupyter-widgets/controls",
            "_view_module_version": "1.5.0",
            "_view_name": "HTMLView",
            "description": "",
            "description_tooltip": null,
            "layout": "IPY_MODEL_ee8e1bc736b34408a37ada12ebea507d",
            "placeholder": "​",
            "style": "IPY_MODEL_5bc6a31b271f484f878eb27a4970370e",
            "value": " 232k/232k [00:00&lt;00:00, 1.43MB/s]"
          }
        },
        "e0c022ada4904ffbbb0260a0f8645a98": {
          "model_module": "@jupyter-widgets/base",
          "model_name": "LayoutModel",
          "model_module_version": "1.2.0",
          "state": {
            "_model_module": "@jupyter-widgets/base",
            "_model_module_version": "1.2.0",
            "_model_name": "LayoutModel",
            "_view_count": null,
            "_view_module": "@jupyter-widgets/base",
            "_view_module_version": "1.2.0",
            "_view_name": "LayoutView",
            "align_content": null,
            "align_items": null,
            "align_self": null,
            "border": null,
            "bottom": null,
            "display": null,
            "flex": null,
            "flex_flow": null,
            "grid_area": null,
            "grid_auto_columns": null,
            "grid_auto_flow": null,
            "grid_auto_rows": null,
            "grid_column": null,
            "grid_gap": null,
            "grid_row": null,
            "grid_template_areas": null,
            "grid_template_columns": null,
            "grid_template_rows": null,
            "height": null,
            "justify_content": null,
            "justify_items": null,
            "left": null,
            "margin": null,
            "max_height": null,
            "max_width": null,
            "min_height": null,
            "min_width": null,
            "object_fit": null,
            "object_position": null,
            "order": null,
            "overflow": null,
            "overflow_x": null,
            "overflow_y": null,
            "padding": null,
            "right": null,
            "top": null,
            "visibility": null,
            "width": null
          }
        },
        "8b3c5eec2e684a28869d68d432a5b30f": {
          "model_module": "@jupyter-widgets/base",
          "model_name": "LayoutModel",
          "model_module_version": "1.2.0",
          "state": {
            "_model_module": "@jupyter-widgets/base",
            "_model_module_version": "1.2.0",
            "_model_name": "LayoutModel",
            "_view_count": null,
            "_view_module": "@jupyter-widgets/base",
            "_view_module_version": "1.2.0",
            "_view_name": "LayoutView",
            "align_content": null,
            "align_items": null,
            "align_self": null,
            "border": null,
            "bottom": null,
            "display": null,
            "flex": null,
            "flex_flow": null,
            "grid_area": null,
            "grid_auto_columns": null,
            "grid_auto_flow": null,
            "grid_auto_rows": null,
            "grid_column": null,
            "grid_gap": null,
            "grid_row": null,
            "grid_template_areas": null,
            "grid_template_columns": null,
            "grid_template_rows": null,
            "height": null,
            "justify_content": null,
            "justify_items": null,
            "left": null,
            "margin": null,
            "max_height": null,
            "max_width": null,
            "min_height": null,
            "min_width": null,
            "object_fit": null,
            "object_position": null,
            "order": null,
            "overflow": null,
            "overflow_x": null,
            "overflow_y": null,
            "padding": null,
            "right": null,
            "top": null,
            "visibility": null,
            "width": null
          }
        },
        "2352809b1d8d49119c0b1ebb0d7b0fc1": {
          "model_module": "@jupyter-widgets/controls",
          "model_name": "DescriptionStyleModel",
          "model_module_version": "1.5.0",
          "state": {
            "_model_module": "@jupyter-widgets/controls",
            "_model_module_version": "1.5.0",
            "_model_name": "DescriptionStyleModel",
            "_view_count": null,
            "_view_module": "@jupyter-widgets/base",
            "_view_module_version": "1.2.0",
            "_view_name": "StyleView",
            "description_width": ""
          }
        },
        "fe07862bfbae4443b32a01f24403c8d0": {
          "model_module": "@jupyter-widgets/base",
          "model_name": "LayoutModel",
          "model_module_version": "1.2.0",
          "state": {
            "_model_module": "@jupyter-widgets/base",
            "_model_module_version": "1.2.0",
            "_model_name": "LayoutModel",
            "_view_count": null,
            "_view_module": "@jupyter-widgets/base",
            "_view_module_version": "1.2.0",
            "_view_name": "LayoutView",
            "align_content": null,
            "align_items": null,
            "align_self": null,
            "border": null,
            "bottom": null,
            "display": null,
            "flex": null,
            "flex_flow": null,
            "grid_area": null,
            "grid_auto_columns": null,
            "grid_auto_flow": null,
            "grid_auto_rows": null,
            "grid_column": null,
            "grid_gap": null,
            "grid_row": null,
            "grid_template_areas": null,
            "grid_template_columns": null,
            "grid_template_rows": null,
            "height": null,
            "justify_content": null,
            "justify_items": null,
            "left": null,
            "margin": null,
            "max_height": null,
            "max_width": null,
            "min_height": null,
            "min_width": null,
            "object_fit": null,
            "object_position": null,
            "order": null,
            "overflow": null,
            "overflow_x": null,
            "overflow_y": null,
            "padding": null,
            "right": null,
            "top": null,
            "visibility": null,
            "width": null
          }
        },
        "a105408da77b44d2aee44b97b06f5b89": {
          "model_module": "@jupyter-widgets/controls",
          "model_name": "ProgressStyleModel",
          "model_module_version": "1.5.0",
          "state": {
            "_model_module": "@jupyter-widgets/controls",
            "_model_module_version": "1.5.0",
            "_model_name": "ProgressStyleModel",
            "_view_count": null,
            "_view_module": "@jupyter-widgets/base",
            "_view_module_version": "1.2.0",
            "_view_name": "StyleView",
            "bar_color": null,
            "description_width": ""
          }
        },
        "ee8e1bc736b34408a37ada12ebea507d": {
          "model_module": "@jupyter-widgets/base",
          "model_name": "LayoutModel",
          "model_module_version": "1.2.0",
          "state": {
            "_model_module": "@jupyter-widgets/base",
            "_model_module_version": "1.2.0",
            "_model_name": "LayoutModel",
            "_view_count": null,
            "_view_module": "@jupyter-widgets/base",
            "_view_module_version": "1.2.0",
            "_view_name": "LayoutView",
            "align_content": null,
            "align_items": null,
            "align_self": null,
            "border": null,
            "bottom": null,
            "display": null,
            "flex": null,
            "flex_flow": null,
            "grid_area": null,
            "grid_auto_columns": null,
            "grid_auto_flow": null,
            "grid_auto_rows": null,
            "grid_column": null,
            "grid_gap": null,
            "grid_row": null,
            "grid_template_areas": null,
            "grid_template_columns": null,
            "grid_template_rows": null,
            "height": null,
            "justify_content": null,
            "justify_items": null,
            "left": null,
            "margin": null,
            "max_height": null,
            "max_width": null,
            "min_height": null,
            "min_width": null,
            "object_fit": null,
            "object_position": null,
            "order": null,
            "overflow": null,
            "overflow_x": null,
            "overflow_y": null,
            "padding": null,
            "right": null,
            "top": null,
            "visibility": null,
            "width": null
          }
        },
        "5bc6a31b271f484f878eb27a4970370e": {
          "model_module": "@jupyter-widgets/controls",
          "model_name": "DescriptionStyleModel",
          "model_module_version": "1.5.0",
          "state": {
            "_model_module": "@jupyter-widgets/controls",
            "_model_module_version": "1.5.0",
            "_model_name": "DescriptionStyleModel",
            "_view_count": null,
            "_view_module": "@jupyter-widgets/base",
            "_view_module_version": "1.2.0",
            "_view_name": "StyleView",
            "description_width": ""
          }
        },
        "ef7acaea2abb4fedb31a6c5a2730e09c": {
          "model_module": "@jupyter-widgets/controls",
          "model_name": "HBoxModel",
          "model_module_version": "1.5.0",
          "state": {
            "_dom_classes": [],
            "_model_module": "@jupyter-widgets/controls",
            "_model_module_version": "1.5.0",
            "_model_name": "HBoxModel",
            "_view_count": null,
            "_view_module": "@jupyter-widgets/controls",
            "_view_module_version": "1.5.0",
            "_view_name": "HBoxView",
            "box_style": "",
            "children": [
              "IPY_MODEL_edf1c3bb55044d989b93096c9a41bd04",
              "IPY_MODEL_10cd2f2ba0cd4ce18149cd2b5ddc84ee",
              "IPY_MODEL_f2f9e13e6ad84968be97ad6eb40d568e"
            ],
            "layout": "IPY_MODEL_ef23054887804fd999d58c0cd1715f86"
          }
        },
        "edf1c3bb55044d989b93096c9a41bd04": {
          "model_module": "@jupyter-widgets/controls",
          "model_name": "HTMLModel",
          "model_module_version": "1.5.0",
          "state": {
            "_dom_classes": [],
            "_model_module": "@jupyter-widgets/controls",
            "_model_module_version": "1.5.0",
            "_model_name": "HTMLModel",
            "_view_count": null,
            "_view_module": "@jupyter-widgets/controls",
            "_view_module_version": "1.5.0",
            "_view_name": "HTMLView",
            "description": "",
            "description_tooltip": null,
            "layout": "IPY_MODEL_9dc91390add344c384f938cfd444c90d",
            "placeholder": "​",
            "style": "IPY_MODEL_670e013fc5644d8eb3d4166fc1d1f0ff",
            "value": "Downloading (…)okenizer_config.json: 100%"
          }
        },
        "10cd2f2ba0cd4ce18149cd2b5ddc84ee": {
          "model_module": "@jupyter-widgets/controls",
          "model_name": "FloatProgressModel",
          "model_module_version": "1.5.0",
          "state": {
            "_dom_classes": [],
            "_model_module": "@jupyter-widgets/controls",
            "_model_module_version": "1.5.0",
            "_model_name": "FloatProgressModel",
            "_view_count": null,
            "_view_module": "@jupyter-widgets/controls",
            "_view_module_version": "1.5.0",
            "_view_name": "ProgressView",
            "bar_style": "success",
            "description": "",
            "description_tooltip": null,
            "layout": "IPY_MODEL_3f00e8e768fe463bb61f0bcdb5faf39a",
            "max": 28,
            "min": 0,
            "orientation": "horizontal",
            "style": "IPY_MODEL_353213a2125e4246a236b738dadf0fe9",
            "value": 28
          }
        },
        "f2f9e13e6ad84968be97ad6eb40d568e": {
          "model_module": "@jupyter-widgets/controls",
          "model_name": "HTMLModel",
          "model_module_version": "1.5.0",
          "state": {
            "_dom_classes": [],
            "_model_module": "@jupyter-widgets/controls",
            "_model_module_version": "1.5.0",
            "_model_name": "HTMLModel",
            "_view_count": null,
            "_view_module": "@jupyter-widgets/controls",
            "_view_module_version": "1.5.0",
            "_view_name": "HTMLView",
            "description": "",
            "description_tooltip": null,
            "layout": "IPY_MODEL_bf7a9f202c9b45c895df8531d4bdec81",
            "placeholder": "​",
            "style": "IPY_MODEL_53572e846a0c4d269a663e5bde2a2e3d",
            "value": " 28.0/28.0 [00:00&lt;00:00, 1.14kB/s]"
          }
        },
        "ef23054887804fd999d58c0cd1715f86": {
          "model_module": "@jupyter-widgets/base",
          "model_name": "LayoutModel",
          "model_module_version": "1.2.0",
          "state": {
            "_model_module": "@jupyter-widgets/base",
            "_model_module_version": "1.2.0",
            "_model_name": "LayoutModel",
            "_view_count": null,
            "_view_module": "@jupyter-widgets/base",
            "_view_module_version": "1.2.0",
            "_view_name": "LayoutView",
            "align_content": null,
            "align_items": null,
            "align_self": null,
            "border": null,
            "bottom": null,
            "display": null,
            "flex": null,
            "flex_flow": null,
            "grid_area": null,
            "grid_auto_columns": null,
            "grid_auto_flow": null,
            "grid_auto_rows": null,
            "grid_column": null,
            "grid_gap": null,
            "grid_row": null,
            "grid_template_areas": null,
            "grid_template_columns": null,
            "grid_template_rows": null,
            "height": null,
            "justify_content": null,
            "justify_items": null,
            "left": null,
            "margin": null,
            "max_height": null,
            "max_width": null,
            "min_height": null,
            "min_width": null,
            "object_fit": null,
            "object_position": null,
            "order": null,
            "overflow": null,
            "overflow_x": null,
            "overflow_y": null,
            "padding": null,
            "right": null,
            "top": null,
            "visibility": null,
            "width": null
          }
        },
        "9dc91390add344c384f938cfd444c90d": {
          "model_module": "@jupyter-widgets/base",
          "model_name": "LayoutModel",
          "model_module_version": "1.2.0",
          "state": {
            "_model_module": "@jupyter-widgets/base",
            "_model_module_version": "1.2.0",
            "_model_name": "LayoutModel",
            "_view_count": null,
            "_view_module": "@jupyter-widgets/base",
            "_view_module_version": "1.2.0",
            "_view_name": "LayoutView",
            "align_content": null,
            "align_items": null,
            "align_self": null,
            "border": null,
            "bottom": null,
            "display": null,
            "flex": null,
            "flex_flow": null,
            "grid_area": null,
            "grid_auto_columns": null,
            "grid_auto_flow": null,
            "grid_auto_rows": null,
            "grid_column": null,
            "grid_gap": null,
            "grid_row": null,
            "grid_template_areas": null,
            "grid_template_columns": null,
            "grid_template_rows": null,
            "height": null,
            "justify_content": null,
            "justify_items": null,
            "left": null,
            "margin": null,
            "max_height": null,
            "max_width": null,
            "min_height": null,
            "min_width": null,
            "object_fit": null,
            "object_position": null,
            "order": null,
            "overflow": null,
            "overflow_x": null,
            "overflow_y": null,
            "padding": null,
            "right": null,
            "top": null,
            "visibility": null,
            "width": null
          }
        },
        "670e013fc5644d8eb3d4166fc1d1f0ff": {
          "model_module": "@jupyter-widgets/controls",
          "model_name": "DescriptionStyleModel",
          "model_module_version": "1.5.0",
          "state": {
            "_model_module": "@jupyter-widgets/controls",
            "_model_module_version": "1.5.0",
            "_model_name": "DescriptionStyleModel",
            "_view_count": null,
            "_view_module": "@jupyter-widgets/base",
            "_view_module_version": "1.2.0",
            "_view_name": "StyleView",
            "description_width": ""
          }
        },
        "3f00e8e768fe463bb61f0bcdb5faf39a": {
          "model_module": "@jupyter-widgets/base",
          "model_name": "LayoutModel",
          "model_module_version": "1.2.0",
          "state": {
            "_model_module": "@jupyter-widgets/base",
            "_model_module_version": "1.2.0",
            "_model_name": "LayoutModel",
            "_view_count": null,
            "_view_module": "@jupyter-widgets/base",
            "_view_module_version": "1.2.0",
            "_view_name": "LayoutView",
            "align_content": null,
            "align_items": null,
            "align_self": null,
            "border": null,
            "bottom": null,
            "display": null,
            "flex": null,
            "flex_flow": null,
            "grid_area": null,
            "grid_auto_columns": null,
            "grid_auto_flow": null,
            "grid_auto_rows": null,
            "grid_column": null,
            "grid_gap": null,
            "grid_row": null,
            "grid_template_areas": null,
            "grid_template_columns": null,
            "grid_template_rows": null,
            "height": null,
            "justify_content": null,
            "justify_items": null,
            "left": null,
            "margin": null,
            "max_height": null,
            "max_width": null,
            "min_height": null,
            "min_width": null,
            "object_fit": null,
            "object_position": null,
            "order": null,
            "overflow": null,
            "overflow_x": null,
            "overflow_y": null,
            "padding": null,
            "right": null,
            "top": null,
            "visibility": null,
            "width": null
          }
        },
        "353213a2125e4246a236b738dadf0fe9": {
          "model_module": "@jupyter-widgets/controls",
          "model_name": "ProgressStyleModel",
          "model_module_version": "1.5.0",
          "state": {
            "_model_module": "@jupyter-widgets/controls",
            "_model_module_version": "1.5.0",
            "_model_name": "ProgressStyleModel",
            "_view_count": null,
            "_view_module": "@jupyter-widgets/base",
            "_view_module_version": "1.2.0",
            "_view_name": "StyleView",
            "bar_color": null,
            "description_width": ""
          }
        },
        "bf7a9f202c9b45c895df8531d4bdec81": {
          "model_module": "@jupyter-widgets/base",
          "model_name": "LayoutModel",
          "model_module_version": "1.2.0",
          "state": {
            "_model_module": "@jupyter-widgets/base",
            "_model_module_version": "1.2.0",
            "_model_name": "LayoutModel",
            "_view_count": null,
            "_view_module": "@jupyter-widgets/base",
            "_view_module_version": "1.2.0",
            "_view_name": "LayoutView",
            "align_content": null,
            "align_items": null,
            "align_self": null,
            "border": null,
            "bottom": null,
            "display": null,
            "flex": null,
            "flex_flow": null,
            "grid_area": null,
            "grid_auto_columns": null,
            "grid_auto_flow": null,
            "grid_auto_rows": null,
            "grid_column": null,
            "grid_gap": null,
            "grid_row": null,
            "grid_template_areas": null,
            "grid_template_columns": null,
            "grid_template_rows": null,
            "height": null,
            "justify_content": null,
            "justify_items": null,
            "left": null,
            "margin": null,
            "max_height": null,
            "max_width": null,
            "min_height": null,
            "min_width": null,
            "object_fit": null,
            "object_position": null,
            "order": null,
            "overflow": null,
            "overflow_x": null,
            "overflow_y": null,
            "padding": null,
            "right": null,
            "top": null,
            "visibility": null,
            "width": null
          }
        },
        "53572e846a0c4d269a663e5bde2a2e3d": {
          "model_module": "@jupyter-widgets/controls",
          "model_name": "DescriptionStyleModel",
          "model_module_version": "1.5.0",
          "state": {
            "_model_module": "@jupyter-widgets/controls",
            "_model_module_version": "1.5.0",
            "_model_name": "DescriptionStyleModel",
            "_view_count": null,
            "_view_module": "@jupyter-widgets/base",
            "_view_module_version": "1.2.0",
            "_view_name": "StyleView",
            "description_width": ""
          }
        }
      }
    }
  },
  "cells": [
    {
      "cell_type": "markdown",
      "metadata": {
        "id": "view-in-github",
        "colab_type": "text"
      },
      "source": [
        "<a href=\"https://colab.research.google.com/github/PsihAnalitik/testTask/blob/main/BERT.ipynb\" target=\"_parent\"><img src=\"https://colab.research.google.com/assets/colab-badge.svg\" alt=\"Open In Colab\"/></a>"
      ]
    },
    {
      "cell_type": "code",
      "source": [
        "!pip install transformers"
      ],
      "metadata": {
        "colab": {
          "base_uri": "https://localhost:8080/"
        },
        "id": "Vf773GtP_Dk-",
        "outputId": "d8e90648-8677-4a56-fd2a-ae3e64fe1700"
      },
      "execution_count": 1,
      "outputs": [
        {
          "output_type": "stream",
          "name": "stdout",
          "text": [
            "Collecting transformers\n",
            "  Downloading transformers-4.30.2-py3-none-any.whl (7.2 MB)\n",
            "\u001b[2K     \u001b[90m━━━━━━━━━━━━━━━━━━━━━━━━━━━━━━━━━━━━━━━━\u001b[0m \u001b[32m7.2/7.2 MB\u001b[0m \u001b[31m78.3 MB/s\u001b[0m eta \u001b[36m0:00:00\u001b[0m\n",
            "\u001b[?25hRequirement already satisfied: filelock in /usr/local/lib/python3.10/dist-packages (from transformers) (3.12.2)\n",
            "Collecting huggingface-hub<1.0,>=0.14.1 (from transformers)\n",
            "  Downloading huggingface_hub-0.16.4-py3-none-any.whl (268 kB)\n",
            "\u001b[2K     \u001b[90m━━━━━━━━━━━━━━━━━━━━━━━━━━━━━━━━━━━━━━\u001b[0m \u001b[32m268.8/268.8 kB\u001b[0m \u001b[31m27.9 MB/s\u001b[0m eta \u001b[36m0:00:00\u001b[0m\n",
            "\u001b[?25hRequirement already satisfied: numpy>=1.17 in /usr/local/lib/python3.10/dist-packages (from transformers) (1.22.4)\n",
            "Requirement already satisfied: packaging>=20.0 in /usr/local/lib/python3.10/dist-packages (from transformers) (23.1)\n",
            "Requirement already satisfied: pyyaml>=5.1 in /usr/local/lib/python3.10/dist-packages (from transformers) (6.0)\n",
            "Requirement already satisfied: regex!=2019.12.17 in /usr/local/lib/python3.10/dist-packages (from transformers) (2022.10.31)\n",
            "Requirement already satisfied: requests in /usr/local/lib/python3.10/dist-packages (from transformers) (2.27.1)\n",
            "Collecting tokenizers!=0.11.3,<0.14,>=0.11.1 (from transformers)\n",
            "  Downloading tokenizers-0.13.3-cp310-cp310-manylinux_2_17_x86_64.manylinux2014_x86_64.whl (7.8 MB)\n",
            "\u001b[2K     \u001b[90m━━━━━━━━━━━━━━━━━━━━━━━━━━━━━━━━━━━━━━━━\u001b[0m \u001b[32m7.8/7.8 MB\u001b[0m \u001b[31m70.1 MB/s\u001b[0m eta \u001b[36m0:00:00\u001b[0m\n",
            "\u001b[?25hCollecting safetensors>=0.3.1 (from transformers)\n",
            "  Downloading safetensors-0.3.1-cp310-cp310-manylinux_2_17_x86_64.manylinux2014_x86_64.whl (1.3 MB)\n",
            "\u001b[2K     \u001b[90m━━━━━━━━━━━━━━━━━━━━━━━━━━━━━━━━━━━━━━━━\u001b[0m \u001b[32m1.3/1.3 MB\u001b[0m \u001b[31m38.7 MB/s\u001b[0m eta \u001b[36m0:00:00\u001b[0m\n",
            "\u001b[?25hRequirement already satisfied: tqdm>=4.27 in /usr/local/lib/python3.10/dist-packages (from transformers) (4.65.0)\n",
            "Requirement already satisfied: fsspec in /usr/local/lib/python3.10/dist-packages (from huggingface-hub<1.0,>=0.14.1->transformers) (2023.6.0)\n",
            "Requirement already satisfied: typing-extensions>=3.7.4.3 in /usr/local/lib/python3.10/dist-packages (from huggingface-hub<1.0,>=0.14.1->transformers) (4.6.3)\n",
            "Requirement already satisfied: urllib3<1.27,>=1.21.1 in /usr/local/lib/python3.10/dist-packages (from requests->transformers) (1.26.16)\n",
            "Requirement already satisfied: certifi>=2017.4.17 in /usr/local/lib/python3.10/dist-packages (from requests->transformers) (2023.5.7)\n",
            "Requirement already satisfied: charset-normalizer~=2.0.0 in /usr/local/lib/python3.10/dist-packages (from requests->transformers) (2.0.12)\n",
            "Requirement already satisfied: idna<4,>=2.5 in /usr/local/lib/python3.10/dist-packages (from requests->transformers) (3.4)\n",
            "Installing collected packages: tokenizers, safetensors, huggingface-hub, transformers\n",
            "Successfully installed huggingface-hub-0.16.4 safetensors-0.3.1 tokenizers-0.13.3 transformers-4.30.2\n"
          ]
        }
      ]
    },
    {
      "cell_type": "code",
      "execution_count": 2,
      "metadata": {
        "id": "uaO_nGb8-1jl"
      },
      "outputs": [],
      "source": [
        "import numpy as np\n",
        "from transformers import BertTokenizer, TFBertForSequenceClassification, BertConfig\n",
        "from sklearn.model_selection import train_test_split\n",
        "import tensorflow as tf\n",
        "import os\n",
        "import glob"
      ]
    },
    {
      "cell_type": "code",
      "source": [
        "!pip install pyspellchecker"
      ],
      "metadata": {
        "colab": {
          "base_uri": "https://localhost:8080/"
        },
        "id": "U8nu92OzRb6w",
        "outputId": "e42bd270-32ba-4ca2-fd0c-cfd44a8890ac"
      },
      "execution_count": null,
      "outputs": [
        {
          "output_type": "stream",
          "name": "stdout",
          "text": [
            "Collecting pyspellchecker\n",
            "  Downloading pyspellchecker-0.7.2-py3-none-any.whl (3.4 MB)\n",
            "\u001b[2K     \u001b[90m━━━━━━━━━━━━━━━━━━━━━━━━━━━━━━━━━━━━━━━━\u001b[0m \u001b[32m3.4/3.4 MB\u001b[0m \u001b[31m37.1 MB/s\u001b[0m eta \u001b[36m0:00:00\u001b[0m\n",
            "\u001b[?25hInstalling collected packages: pyspellchecker\n",
            "Successfully installed pyspellchecker-0.7.2\n"
          ]
        }
      ]
    },
    {
      "cell_type": "code",
      "source": [
        "from google.colab import drive\n",
        "drive.mount('/content/drive/')"
      ],
      "metadata": {
        "id": "nvrHfSFJ_SOG",
        "colab": {
          "base_uri": "https://localhost:8080/"
        },
        "outputId": "0a5091e7-2b57-487c-c292-760df465a54a"
      },
      "execution_count": 3,
      "outputs": [
        {
          "output_type": "stream",
          "name": "stdout",
          "text": [
            "Mounted at /content/drive/\n"
          ]
        }
      ]
    },
    {
      "cell_type": "code",
      "source": [
        "path = '/content/drive/MyDrive/GreenAtom/aclImdb_v1/aclImdb/train'"
      ],
      "metadata": {
        "id": "mkEyvSOufr7U"
      },
      "execution_count": null,
      "outputs": []
    },
    {
      "cell_type": "code",
      "source": [
        "X = []\n",
        "y = []\n",
        "file_paths = glob.glob(path + '/all/*.txt')\n",
        "for file_path in file_paths:\n",
        "        with open(file_path,'r') as file:\n",
        "            content = file.read()\n",
        "            file_name = os.path.basename(file_path)\n",
        "            name = file_name.split('.')[0]\n",
        "            X.append(content)\n",
        "            y.append(name[-1])\n",
        "print(len(X))"
      ],
      "metadata": {
        "id": "CDkajEJ9f7n5",
        "colab": {
          "base_uri": "https://localhost:8080/"
        },
        "outputId": "5b3ffe54-b8db-469b-9b95-7b2a5bc1b2b5"
      },
      "execution_count": null,
      "outputs": [
        {
          "output_type": "stream",
          "name": "stdout",
          "text": [
            "25000\n"
          ]
        }
      ]
    },
    {
      "cell_type": "code",
      "source": [
        "import matplotlib.pyplot as plt\n",
        "from collections import Counter\n",
        "# Преобразуйте массив отзывов в одну строку\n",
        "\n",
        "text = ','.join(X)\n",
        "\n",
        "# Разделите строку на отдельные слова\n",
        "words = text.split()\n",
        "\n",
        "# Подсчитайте количество вхождений каждого слова\n",
        "word_counts = Counter(words)\n",
        "\n",
        "# Получите наиболее часто встречающиеся слова и их количество\n",
        "most_common_words = word_counts.most_common(10)  # Здесь можно указать любое желаемое количество слов\n",
        "\n",
        "# Разделите слова и их частоты на два отдельных списка\n",
        "words, counts = zip(*most_common_words)\n",
        "\n",
        "# Создайте график\n",
        "plt.figure(figsize=(10, 6))\n",
        "plt.bar(words, counts)\n",
        "\n",
        "# Настройте оси и заголовок графика\n",
        "plt.xlabel('Слова')\n",
        "plt.ylabel('Частота')\n",
        "plt.title('Наиболее часто встречающиеся слова')\n",
        "\n",
        "# Поворачиваем подписи на оси X для улучшения читаемости\n",
        "plt.xticks(rotation=45)\n",
        "\n",
        "# Отобразите график\n",
        "plt.show()\n"
      ],
      "metadata": {
        "colab": {
          "base_uri": "https://localhost:8080/",
          "height": 580
        },
        "id": "jrFiuk5dKzZL",
        "outputId": "6137b7d4-688a-4089-c26c-dce5ab000d9b"
      },
      "execution_count": null,
      "outputs": [
        {
          "output_type": "display_data",
          "data": {
            "text/plain": [
              "<Figure size 1000x600 with 1 Axes>"
            ],
            "image/png": "[encoded data removed]"
          },
          "metadata": {}
        }
      ]
    },
    {
      "cell_type": "code",
      "source": [
        "import re\n",
        "\n",
        "for i in range(len(X)):\n",
        "    s = str(X[i])\n",
        "    s = s.lower()\n",
        "    X[i] = s"
      ],
      "metadata": {
        "id": "uz2C0xCYOH6X"
      },
      "execution_count": null,
      "outputs": []
    },
    {
      "cell_type": "code",
      "source": [
        "print(X[0])"
      ],
      "metadata": {
        "colab": {
          "base_uri": "https://localhost:8080/"
        },
        "id": "UJep8Puepbqp",
        "outputId": "a0bdbefb-c55b-4496-c85a-c88881dd41f9"
      },
      "execution_count": null,
      "outputs": [
        {
          "output_type": "stream",
          "name": "stdout",
          "text": [
            "i am really surprised that this movie get a ranking like this i haven't seen such a bad movie for this was a really bad movie splatter is not enough to describe the unnecessary nearly funny blood scenes if you didn't like hostel or wolf creek or halloween well this is 10 time worse the story remind me re stone i can't tell about the acting since the script was so all the time why i must write i never understood comes the story is about a butcher killing people all the time in metro we are talking about thousands of killings and no one gets notice actually those people are just missing and there is the good guy that tries to solve the mystery well there is no mystery for us because we know from the beginning the bad guys and as usual no one believes him what a surprise in the end he puts butcher clothes and fights to death with the killer butcher\n"
          ]
        }
      ]
    },
    {
      "cell_type": "code",
      "source": [
        "X_train = X\n",
        "y = np.array(y)\n",
        "y_train = tf.one_hot(y, depth = 10)"
      ],
      "metadata": {
        "id": "wlcG-DYFiGEt"
      },
      "execution_count": null,
      "outputs": []
    },
    {
      "cell_type": "code",
      "source": [
        "model_name = 'bert-base-uncased'\n",
        "model = TFBertForSequenceClassification.from_pretrained(model_name, num_labels=10)\n",
        "tokenizer = BertTokenizer.from_pretrained(model_name)"
      ],
      "metadata": {
        "id": "XE93JKcdqsN0",
        "colab": {
          "base_uri": "https://localhost:8080/",
          "height": 234,
          "referenced_widgets": [
            "4d2863fb8e924c1181c987d1f977ee81",
            "958ad0896c30405583721d59d8b5f4f1",
            "b154b3ce6e9b49d48fa0d9a9eef3b1d8",
            "91514793ef5e42e497bb80c1dc0aeed5",
            "47a6c2f2720f44d7ad3efa564e46e602",
            "8af226eaa22348c280ae89c635e9d762",
            "b4a3467f3c16407684b5c2c6d8997bd9",
            "5997baf61a4a43e9a31b6d064da6a7b1",
            "733460b5fdf648908c210fd28eb03580",
            "4833b29d9f0249ac98c7e700d1eca4ce",
            "9d9d239e4df14b8fa75ff461623efa8c",
            "59807394b4024168b792fadbbdc0ac94",
            "4ef1231d85644ab496b97973c2a50d60",
            "db7347843334497a8f9e11544409f14a",
            "9af05dac8c6c4899a237a139c9859612",
            "c40943f9d26a49c991877e5e5bb615c1",
            "a2e1c03ddc8c45e89f1fe139d2fe7b10",
            "b91459adf54f4671a46c208a685352c3",
            "8f8223245be4422ba26c1ccd4885af9b",
            "5f41f1c4e0264d128b2fd3c069f1125f",
            "f92b5855841749528a95c7222707eb58",
            "5dfe128fd1834295b267213ce6383708",
            "3b1f316761d04df2b62d954ec6417e0c",
            "9f3d090c88764322b55f1e5b08cd7222",
            "e50dcdb0500a498da716b6298656d029",
            "2113de860f7d48c3af9f5f8661317182",
            "3eb1dd59fc074934af8ca6285a3bd3e8",
            "67820805b1cc4b0f8e3013a014c1acd2",
            "46512198811642f787c871012d11276a",
            "5d4bbc0ea69b43edaf44cfdfed9e92d0",
            "9b461f0ac2af46978a0f11a272c4c868",
            "fc19929366ad4ffd9eb7bd64c6f4e590",
            "892179643dd94e3a915404eb9a3f753a",
            "522b472681bd44d59bb3e10e57720c9e",
            "f387062fdfdf4b76b7b4ba186859366d",
            "2c79751a30374a72abfc063f613753e3",
            "11355de6972749a488da9aa838bdd29e",
            "b7ed01aa715f4b2c8a1b6d49000c05d6",
            "0bc5455664ce479ba1c78d2fd9dd1909",
            "2f515e88380a4efc911190af8bf55cd8",
            "d3a8fec52bea4ad79b576f68a11f09cc",
            "f1b05e6c7b7a489e9b3f3bab0f1ff08d",
            "2f2223d89ff64e868c990a8d8ba86537",
            "036ba5ab11f4422f9ca55cefce9c742f"
          ]
        },
        "outputId": "0ae28b2c-e5ee-45bc-e6e1-b5394dfed6aa"
      },
      "execution_count": null,
      "outputs": [
        {
          "output_type": "display_data",
          "data": {
            "text/plain": [
              "Downloading (…)lve/main/config.json:   0%|          | 0.00/570 [00:00<?, ?B/s]"
            ],
            "application/vnd.jupyter.widget-view+json": {
              "version_major": 2,
              "version_minor": 0,
              "model_id": "4d2863fb8e924c1181c987d1f977ee81"
            }
          },
          "metadata": {}
        },
        {
          "output_type": "display_data",
          "data": {
            "text/plain": [
              "Downloading model.safetensors:   0%|          | 0.00/440M [00:00<?, ?B/s]"
            ],
            "application/vnd.jupyter.widget-view+json": {
              "version_major": 2,
              "version_minor": 0,
              "model_id": "59807394b4024168b792fadbbdc0ac94"
            }
          },
          "metadata": {}
        },
        {
          "output_type": "stream",
          "name": "stderr",
          "text": [
            "All PyTorch model weights were used when initializing TFBertForSequenceClassification.\n",
            "\n",
            "Some weights or buffers of the TF 2.0 model TFBertForSequenceClassification were not initialized from the PyTorch model and are newly initialized: ['classifier.weight', 'classifier.bias']\n",
            "You should probably TRAIN this model on a down-stream task to be able to use it for predictions and inference.\n"
          ]
        },
        {
          "output_type": "display_data",
          "data": {
            "text/plain": [
              "Downloading (…)solve/main/vocab.txt:   0%|          | 0.00/232k [00:00<?, ?B/s]"
            ],
            "application/vnd.jupyter.widget-view+json": {
              "version_major": 2,
              "version_minor": 0,
              "model_id": "3b1f316761d04df2b62d954ec6417e0c"
            }
          },
          "metadata": {}
        },
        {
          "output_type": "display_data",
          "data": {
            "text/plain": [
              "Downloading (…)okenizer_config.json:   0%|          | 0.00/28.0 [00:00<?, ?B/s]"
            ],
            "application/vnd.jupyter.widget-view+json": {
              "version_major": 2,
              "version_minor": 0,
              "model_id": "522b472681bd44d59bb3e10e57720c9e"
            }
          },
          "metadata": {}
        }
      ]
    },
    {
      "cell_type": "code",
      "source": [
        "train_encodings = tokenizer(X_train, truncation=True, padding=True, max_length=256, return_tensors = 'tf')\n"
      ],
      "metadata": {
        "id": "BaetgIXLq3l7"
      },
      "execution_count": null,
      "outputs": []
    },
    {
      "cell_type": "code",
      "source": [
        "model.compile(optimizer=tf.keras.optimizers.Adam(learning_rate=1e-5),\n",
        "              loss=tf.keras.losses.CategoricalCrossentropy(from_logits=True),\n",
        "              metrics=['accuracy'])"
      ],
      "metadata": {
        "id": "GL945U4CrkmN"
      },
      "execution_count": null,
      "outputs": []
    },
    {
      "cell_type": "code",
      "source": [
        "from tensorflow.keras.callbacks import EarlyStopping\n",
        "early_stopping = EarlyStopping(patience=3, monitor='val_loss', restore_best_weights=True)"
      ],
      "metadata": {
        "id": "AuwZ8jcQh4O3"
      },
      "execution_count": null,
      "outputs": []
    },
    {
      "cell_type": "markdown",
      "source": [],
      "metadata": {
        "id": "IC69zAWS1OQL"
      }
    },
    {
      "cell_type": "code",
      "source": [
        "model.fit(dict(train_encodings), y_train, epochs=10, batch_size=32, callbacks=[early_stopping])"
      ],
      "metadata": {
        "id": "ZTPgZhRRxD-D",
        "colab": {
          "base_uri": "https://localhost:8080/"
        },
        "outputId": "e75d8f8c-a85e-4178-f944-1d7db9e6cc9a"
      },
      "execution_count": null,
      "outputs": [
        {
          "output_type": "stream",
          "name": "stdout",
          "text": [
            "Epoch 1/10\n",
            "782/782 [==============================] - ETA: 0s - loss: 1.3810 - accuracy: 0.4555"
          ]
        },
        {
          "output_type": "stream",
          "name": "stderr",
          "text": [
            "WARNING:tensorflow:Early stopping conditioned on metric `val_loss` which is not available. Available metrics are: loss,accuracy\n"
          ]
        },
        {
          "output_type": "stream",
          "name": "stdout",
          "text": [
            "\b\b\b\b\b\b\b\b\b\b\b\b\b\b\b\b\b\b\b\b\b\b\b\b\b\b\b\b\b\b\b\b\b\b\b\b\b\b\b\b\b\b\b\b\b\b\b\b\b\b\b\b\b\b\b\b\b\b\b\b\b\b\b\b\b\b\b\b\b\b\b\b\b\b\b\b\b\b\b\b\b\b\b\b\r782/782 [==============================] - 1380s 2s/step - loss: 1.3810 - accuracy: 0.4555\n",
            "Epoch 2/10\n",
            "782/782 [==============================] - ETA: 0s - loss: 1.2499 - accuracy: 0.4953"
          ]
        },
        {
          "output_type": "stream",
          "name": "stderr",
          "text": [
            "WARNING:tensorflow:Early stopping conditioned on metric `val_loss` which is not available. Available metrics are: loss,accuracy\n"
          ]
        },
        {
          "output_type": "stream",
          "name": "stdout",
          "text": [
            "\b\b\b\b\b\b\b\b\b\b\b\b\b\b\b\b\b\b\b\b\b\b\b\b\b\b\b\b\b\b\b\b\b\b\b\b\b\b\b\b\b\b\b\b\b\b\b\b\b\b\b\b\b\b\b\b\b\b\b\b\b\b\b\b\b\b\b\b\b\b\b\b\b\b\b\b\b\b\b\b\b\b\b\b\r782/782 [==============================] - 1296s 2s/step - loss: 1.2499 - accuracy: 0.4953\n",
            "Epoch 3/10\n",
            "782/782 [==============================] - ETA: 0s - loss: 1.1332 - accuracy: 0.5444"
          ]
        },
        {
          "output_type": "stream",
          "name": "stderr",
          "text": [
            "WARNING:tensorflow:Early stopping conditioned on metric `val_loss` which is not available. Available metrics are: loss,accuracy\n"
          ]
        },
        {
          "output_type": "stream",
          "name": "stdout",
          "text": [
            "\b\b\b\b\b\b\b\b\b\b\b\b\b\b\b\b\b\b\b\b\b\b\b\b\b\b\b\b\b\b\b\b\b\b\b\b\b\b\b\b\b\b\b\b\b\b\b\b\b\b\b\b\b\b\b\b\b\b\b\b\b\b\b\b\b\b\b\b\b\b\b\b\b\b\b\b\b\b\b\b\b\b\b\b\r782/782 [==============================] - 1296s 2s/step - loss: 1.1332 - accuracy: 0.5444\n",
            "Epoch 4/10\n",
            "782/782 [==============================] - ETA: 0s - loss: 1.0193 - accuracy: 0.5868"
          ]
        },
        {
          "output_type": "stream",
          "name": "stderr",
          "text": [
            "WARNING:tensorflow:Early stopping conditioned on metric `val_loss` which is not available. Available metrics are: loss,accuracy\n"
          ]
        },
        {
          "output_type": "stream",
          "name": "stdout",
          "text": [
            "\b\b\b\b\b\b\b\b\b\b\b\b\b\b\b\b\b\b\b\b\b\b\b\b\b\b\b\b\b\b\b\b\b\b\b\b\b\b\b\b\b\b\b\b\b\b\b\b\b\b\b\b\b\b\b\b\b\b\b\b\b\b\b\b\b\b\b\b\b\b\b\b\b\b\b\b\b\b\b\b\b\b\b\b\r782/782 [==============================] - 1296s 2s/step - loss: 1.0193 - accuracy: 0.5868\n",
            "Epoch 5/10\n",
            "782/782 [==============================] - ETA: 0s - loss: 0.9080 - accuracy: 0.6360"
          ]
        },
        {
          "output_type": "stream",
          "name": "stderr",
          "text": [
            "WARNING:tensorflow:Early stopping conditioned on metric `val_loss` which is not available. Available metrics are: loss,accuracy\n"
          ]
        },
        {
          "output_type": "stream",
          "name": "stdout",
          "text": [
            "\b\b\b\b\b\b\b\b\b\b\b\b\b\b\b\b\b\b\b\b\b\b\b\b\b\b\b\b\b\b\b\b\b\b\b\b\b\b\b\b\b\b\b\b\b\b\b\b\b\b\b\b\b\b\b\b\b\b\b\b\b\b\b\b\b\b\b\b\b\b\b\b\b\b\b\b\b\b\b\b\b\b\b\b\r782/782 [==============================] - 1295s 2s/step - loss: 0.9080 - accuracy: 0.6360\n",
            "Epoch 6/10\n",
            "782/782 [==============================] - ETA: 0s - loss: 0.7955 - accuracy: 0.6889"
          ]
        },
        {
          "output_type": "stream",
          "name": "stderr",
          "text": [
            "WARNING:tensorflow:Early stopping conditioned on metric `val_loss` which is not available. Available metrics are: loss,accuracy\n"
          ]
        },
        {
          "output_type": "stream",
          "name": "stdout",
          "text": [
            "\b\b\b\b\b\b\b\b\b\b\b\b\b\b\b\b\b\b\b\b\b\b\b\b\b\b\b\b\b\b\b\b\b\b\b\b\b\b\b\b\b\b\b\b\b\b\b\b\b\b\b\b\b\b\b\b\b\b\b\b\b\b\b\b\b\b\b\b\b\b\b\b\b\b\b\b\b\b\b\b\b\b\b\b\r782/782 [==============================] - 1295s 2s/step - loss: 0.7955 - accuracy: 0.6889\n",
            "Epoch 7/10\n",
            "782/782 [==============================] - ETA: 0s - loss: 0.6857 - accuracy: 0.7353"
          ]
        },
        {
          "output_type": "stream",
          "name": "stderr",
          "text": [
            "WARNING:tensorflow:Early stopping conditioned on metric `val_loss` which is not available. Available metrics are: loss,accuracy\n"
          ]
        },
        {
          "output_type": "stream",
          "name": "stdout",
          "text": [
            "\b\b\b\b\b\b\b\b\b\b\b\b\b\b\b\b\b\b\b\b\b\b\b\b\b\b\b\b\b\b\b\b\b\b\b\b\b\b\b\b\b\b\b\b\b\b\b\b\b\b\b\b\b\b\b\b\b\b\b\b\b\b\b\b\b\b\b\b\b\b\b\b\b\b\b\b\b\b\b\b\b\b\b\b\r782/782 [==============================] - 1295s 2s/step - loss: 0.6857 - accuracy: 0.7353\n",
            "Epoch 8/10\n",
            "782/782 [==============================] - ETA: 0s - loss: 0.5938 - accuracy: 0.7722"
          ]
        },
        {
          "output_type": "stream",
          "name": "stderr",
          "text": [
            "WARNING:tensorflow:Early stopping conditioned on metric `val_loss` which is not available. Available metrics are: loss,accuracy\n"
          ]
        },
        {
          "output_type": "stream",
          "name": "stdout",
          "text": [
            "\b\b\b\b\b\b\b\b\b\b\b\b\b\b\b\b\b\b\b\b\b\b\b\b\b\b\b\b\b\b\b\b\b\b\b\b\b\b\b\b\b\b\b\b\b\b\b\b\b\b\b\b\b\b\b\b\b\b\b\b\b\b\b\b\b\b\b\b\b\b\b\b\b\b\b\b\b\b\b\b\b\b\b\b\r782/782 [==============================] - 1294s 2s/step - loss: 0.5938 - accuracy: 0.7722\n",
            "Epoch 9/10\n",
            "782/782 [==============================] - ETA: 0s - loss: 0.5019 - accuracy: 0.8134"
          ]
        },
        {
          "output_type": "stream",
          "name": "stderr",
          "text": [
            "WARNING:tensorflow:Early stopping conditioned on metric `val_loss` which is not available. Available metrics are: loss,accuracy\n"
          ]
        },
        {
          "output_type": "stream",
          "name": "stdout",
          "text": [
            "\b\b\b\b\b\b\b\b\b\b\b\b\b\b\b\b\b\b\b\b\b\b\b\b\b\b\b\b\b\b\b\b\b\b\b\b\b\b\b\b\b\b\b\b\b\b\b\b\b\b\b\b\b\b\b\b\b\b\b\b\b\b\b\b\b\b\b\b\b\b\b\b\b\b\b\b\b\b\b\b\b\b\b\b\r782/782 [==============================] - 1295s 2s/step - loss: 0.5019 - accuracy: 0.8134\n",
            "Epoch 10/10\n",
            "782/782 [==============================] - ETA: 0s - loss: 0.4335 - accuracy: 0.8394"
          ]
        },
        {
          "output_type": "stream",
          "name": "stderr",
          "text": [
            "WARNING:tensorflow:Early stopping conditioned on metric `val_loss` which is not available. Available metrics are: loss,accuracy\n"
          ]
        },
        {
          "output_type": "stream",
          "name": "stdout",
          "text": [
            "\b\b\b\b\b\b\b\b\b\b\b\b\b\b\b\b\b\b\b\b\b\b\b\b\b\b\b\b\b\b\b\b\b\b\b\b\b\b\b\b\b\b\b\b\b\b\b\b\b\b\b\b\b\b\b\b\b\b\b\b\b\b\b\b\b\b\b\b\b\b\b\b\b\b\b\b\b\b\b\b\b\b\b\b\r782/782 [==============================] - 1295s 2s/step - loss: 0.4335 - accuracy: 0.8394\n"
          ]
        },
        {
          "output_type": "execute_result",
          "data": {
            "text/plain": [
              "<keras.callbacks.History at 0x7fd2d2519ff0>"
            ]
          },
          "metadata": {},
          "execution_count": 18
        }
      ]
    },
    {
      "cell_type": "code",
      "source": [
        "model.save('/content/drive/MyDrive/model_04', save_format='tf')"
      ],
      "metadata": {
        "id": "11Mt0hIiIi4H",
        "colab": {
          "base_uri": "https://localhost:8080/"
        },
        "outputId": "ab7640c2-d90b-4ac5-ee78-7ae91b80da67"
      },
      "execution_count": null,
      "outputs": [
        {
          "output_type": "stream",
          "name": "stderr",
          "text": [
            "WARNING:absl:Found untraced functions such as embeddings_layer_call_fn, embeddings_layer_call_and_return_conditional_losses, encoder_layer_call_fn, encoder_layer_call_and_return_conditional_losses, pooler_layer_call_fn while saving (showing 5 of 420). These functions will not be directly callable after loading.\n"
          ]
        }
      ]
    },
    {
      "cell_type": "code",
      "source": [
        "model.save_weights('/content/drive/MyDrive/GreenAtom/model_weights_04.h5')"
      ],
      "metadata": {
        "id": "m1SW99IyJusv"
      },
      "execution_count": null,
      "outputs": []
    },
    {
      "cell_type": "code",
      "source": [
        "model2 = TFBertForSequenceClassification.from_pretrained('bert-base-uncased',num_labels=10)\n",
        "model2.load_weights('/content/drive/MyDrive/GreenAtom/model_weights_04.h5')"
      ],
      "metadata": {
        "colab": {
          "base_uri": "https://localhost:8080/",
          "height": 170,
          "referenced_widgets": [
            "9b5230f2860d42ea81838647327dbe29",
            "d41ca229c637471481ad69f6353added",
            "4974b14ecf784f80b94754b46acc131c",
            "6947a1de07b542b39eb71b2f8fe0b022",
            "0017b7dc3bb146dfaecde7a45ef86b8b",
            "eb1d24d0a39a40798dbe3e7cfd24b125",
            "b52d2a8542104cdeb2e71cc7174eb76c",
            "eede547d3e5d4630a21b5bf55b6702a9",
            "2a6551410aea4beca23a83a034cafd21",
            "1e717724b8a746adbb76114b8e9a8092",
            "c5bc77b93fe84c10a10bb497a7b686b1",
            "a9e662aa5ed7404eada51983f4c1dffd",
            "7462f7771c30473da6e6451aeda61998",
            "fbf4d7cb7f61442c9520068a9af1fe72",
            "77faacaaed9f46718228c3d4308f1809",
            "0ea135b3e93c41139fe227982eeaf9cc",
            "71b478fe2af2449e9750a2695dd448dc",
            "2e28aba1b8c9472f9796f8039f789127",
            "beec3dc950e849aa84f765c59f69587b",
            "bd2b37e023d146c5b82d2180203703be",
            "fe8445bba0d04da5b912c340ab3d71ce",
            "a0cf36e56f8a4fe383825b0f36f6e613"
          ]
        },
        "id": "K2DtyeUIc1hZ",
        "outputId": "a5875e33-a15d-4bc3-a586-d69b43be950a"
      },
      "execution_count": 4,
      "outputs": [
        {
          "output_type": "display_data",
          "data": {
            "text/plain": [
              "Downloading (…)lve/main/config.json:   0%|          | 0.00/570 [00:00<?, ?B/s]"
            ],
            "application/vnd.jupyter.widget-view+json": {
              "version_major": 2,
              "version_minor": 0,
              "model_id": "9b5230f2860d42ea81838647327dbe29"
            }
          },
          "metadata": {}
        },
        {
          "output_type": "display_data",
          "data": {
            "text/plain": [
              "Downloading model.safetensors:   0%|          | 0.00/440M [00:00<?, ?B/s]"
            ],
            "application/vnd.jupyter.widget-view+json": {
              "version_major": 2,
              "version_minor": 0,
              "model_id": "a9e662aa5ed7404eada51983f4c1dffd"
            }
          },
          "metadata": {}
        },
        {
          "output_type": "stream",
          "name": "stderr",
          "text": [
            "All PyTorch model weights were used when initializing TFBertForSequenceClassification.\n",
            "\n",
            "Some weights or buffers of the TF 2.0 model TFBertForSequenceClassification were not initialized from the PyTorch model and are newly initialized: ['classifier.weight', 'classifier.bias']\n",
            "You should probably TRAIN this model on a down-stream task to be able to use it for predictions and inference.\n"
          ]
        }
      ]
    },
    {
      "cell_type": "code",
      "source": [
        "from sklearn.metrics import accuracy_score,precision_score,recall_score, f1_score\n",
        "\n",
        "y_pred = model2.predict(dict(train_encodings))\n",
        "\n",
        "# Получение предсказанных меток классов\n",
        "y_pred_labels = np.argmax(y_pred.logits, axis=1)"
      ],
      "metadata": {
        "id": "0fFCj4CIdTjG"
      },
      "execution_count": null,
      "outputs": []
    },
    {
      "cell_type": "code",
      "source": [
        "print(y_pred_labels)\n",
        "print(y)\n",
        "y1 = [int(y[i]) for i in range(len(y))]\n",
        "print(y1)"
      ],
      "metadata": {
        "colab": {
          "base_uri": "https://localhost:8080/"
        },
        "id": "yfhE6vHZmgUW",
        "outputId": "91ece7be-8f0f-49f8-bdaa-e4127de2b201"
      },
      "execution_count": null,
      "outputs": [
        {
          "output_type": "stream",
          "name": "stdout",
          "text": [
            "[1 3 1 ... 0 0 0]\n",
            "['1' '3' '1' ... '0' '0' '0']\n",
            "[1, 3, 1, 1, 3, 4, 2, 4, 1, 4, 3, 1, 1, 4, 2, 1, 1, 2, 1, 1, 1, 1, 1, 3, 1, 4, 1, 1, 3, 2, 2, 4, 3, 4, 1, 3, 1, 2, 3, 1, 1, 4, 2, 1, 4, 1, 2, 4, 1, 1, 1, 1, 4, 1, 1, 1, 4, 1, 2, 4, 4, 3, 1, 1, 1, 1, 4, 2, 2, 3, 3, 4, 1, 2, 4, 1, 4, 4, 3, 2, 4, 3, 4, 4, 4, 1, 2, 3, 4, 1, 1, 2, 4, 3, 3, 1, 4, 2, 4, 1, 3, 3, 2, 2, 2, 4, 1, 4, 2, 1, 4, 1, 3, 1, 3, 2, 2, 4, 3, 4, 1, 3, 4, 4, 4, 1, 2, 2, 1, 2, 2, 3, 1, 1, 3, 1, 1, 3, 1, 1, 3, 1, 1, 2, 2, 1, 1, 1, 1, 4, 1, 1, 4, 4, 4, 1, 3, 4, 1, 3, 2, 4, 1, 3, 1, 2, 3, 2, 1, 1, 1, 1, 4, 1, 1, 1, 2, 3, 1, 1, 1, 3, 1, 1, 4, 2, 1, 3, 1, 2, 4, 1, 1, 1, 4, 1, 4, 1, 1, 3, 2, 3, 2, 1, 1, 3, 3, 1, 2, 4, 2, 1, 2, 3, 1, 1, 2, 1, 4, 4, 1, 3, 2, 2, 1, 3, 4, 1, 4, 2, 3, 3, 1, 3, 4, 1, 3, 4, 1, 1, 4, 4, 4, 1, 2, 3, 4, 3, 1, 3, 1, 1, 1, 1, 2, 4, 2, 1, 4, 4, 1, 4, 1, 1, 4, 1, 2, 1, 1, 1, 3, 4, 1, 4, 4, 4, 3, 3, 1, 1, 2, 1, 1, 1, 1, 2, 2, 1, 1, 1, 4, 4, 4, 3, 1, 1, 4, 1, 1, 2, 4, 3, 4, 3, 1, 3, 1, 1, 1, 1, 1, 1, 3, 2, 1, 1, 2, 3, 3, 4, 4, 1, 2, 4, 2, 4, 1, 2, 4, 3, 3, 4, 3, 1, 4, 1, 2, 2, 2, 4, 3, 4, 1, 4, 4, 3, 1, 1, 4, 1, 2, 3, 2, 2, 1, 1, 1, 2, 4, 1, 3, 2, 2, 1, 3, 3, 1, 2, 1, 1, 3, 1, 4, 4, 3, 4, 4, 4, 3, 2, 1, 3, 4, 1, 1, 1, 1, 2, 4, 4, 1, 4, 2, 2, 1, 2, 3, 1, 4, 1, 1, 4, 1, 4, 1, 1, 4, 4, 1, 1, 3, 3, 1, 1, 4, 3, 3, 4, 1, 2, 1, 1, 4, 4, 2, 3, 2, 4, 1, 4, 4, 3, 1, 1, 1, 4, 2, 1, 1, 1, 2, 3, 3, 1, 4, 3, 2, 3, 4, 2, 3, 1, 1, 4, 2, 3, 4, 3, 4, 1, 4, 2, 2, 3, 1, 1, 1, 1, 4, 4, 4, 4, 1, 4, 4, 2, 3, 4, 3, 2, 1, 2, 4, 4, 3, 2, 3, 3, 1, 3, 3, 4, 1, 4, 2, 2, 4, 2, 4, 4, 2, 1, 1, 2, 4, 3, 1, 2, 1, 2, 1, 2, 2, 2, 3, 4, 3, 1, 2, 4, 4, 1, 1, 4, 1, 4, 3, 4, 1, 4, 3, 1, 4, 1, 1, 3, 1, 1, 4, 1, 3, 2, 4, 1, 4, 4, 2, 4, 4, 1, 3, 4, 4, 4, 4, 2, 4, 3, 1, 2, 1, 1, 1, 4, 3, 4, 2, 3, 3, 3, 1, 3, 3, 1, 1, 2, 1, 3, 1, 3, 1, 1, 4, 2, 4, 2, 4, 1, 3, 2, 1, 2, 1, 1, 3, 3, 4, 4, 1, 3, 4, 4, 2, 3, 1, 1, 1, 1, 3, 3, 3, 2, 2, 4, 3, 2, 3, 4, 1, 1, 2, 4, 4, 1, 4, 3, 1, 1, 1, 1, 2, 4, 4, 2, 3, 3, 2, 1, 2, 4, 3, 4, 1, 2, 3, 1, 1, 3, 4, 1, 3, 4, 3, 2, 1, 3, 2, 3, 1, 1, 2, 1, 4, 1, 3, 4, 2, 2, 3, 1, 2, 1, 1, 1, 2, 2, 2, 2, 4, 1, 1, 1, 1, 2, 4, 2, 4, 3, 4, 1, 3, 3, 3, 2, 3, 3, 4, 1, 1, 4, 2, 4, 1, 1, 4, 1, 1, 1, 3, 4, 1, 4, 2, 4, 2, 3, 1, 1, 3, 4, 1, 4, 1, 1, 1, 1, 4, 2, 3, 3, 4, 4, 3, 3, 2, 3, 2, 1, 3, 3, 1, 2, 1, 4, 4, 1, 3, 4, 1, 1, 3, 3, 4, 3, 1, 1, 4, 1, 1, 1, 1, 1, 1, 4, 1, 4, 4, 1, 1, 2, 4, 4, 1, 1, 3, 2, 4, 4, 4, 2, 2, 1, 4, 3, 2, 1, 3, 4, 1, 4, 2, 1, 4, 2, 1, 2, 1, 1, 4, 4, 4, 1, 4, 2, 3, 3, 4, 1, 1, 4, 1, 1, 4, 3, 1, 3, 1, 2, 1, 4, 2, 1, 1, 4, 1, 3, 1, 2, 1, 3, 1, 2, 4, 4, 4, 4, 1, 4, 3, 1, 3, 1, 4, 1, 4, 1, 2, 1, 3, 3, 1, 1, 2, 3, 3, 3, 3, 4, 2, 4, 1, 4, 4, 2, 1, 3, 1, 4, 2, 3, 1, 3, 4, 3, 4, 3, 2, 3, 4, 1, 4, 1, 1, 1, 1, 1, 2, 4, 1, 3, 1, 4, 3, 1, 2, 1, 2, 3, 2, 1, 1, 2, 1, 1, 1, 1, 1, 1, 1, 1, 4, 1, 1, 4, 4, 2, 2, 4, 1, 1, 1, 1, 3, 2, 4, 4, 1, 1, 4, 3, 3, 3, 1, 3, 3, 2, 1, 4, 3, 1, 1, 2, 4, 3, 3, 4, 2, 1, 2, 1, 1, 1, 2, 1, 2, 3, 4, 1, 2, 4, 1, 2, 1, 1, 1, 4, 1, 1, 1, 1, 1, 2, 4, 2, 4, 1, 3, 1, 1, 4, 1, 1, 3, 1, 1, 2, 1, 1, 1, 1, 2, 1, 4, 1, 1, 3, 3, 4, 4, 3, 3, 2, 1, 1, 2, 4, 3, 2, 4, 1, 2, 1, 3, 1, 1, 2, 2, 1, 4, 4, 4, 1, 1, 2, 2, 4, 1, 4, 1, 1, 1, 1, 1, 4, 1, 1, 1, 1, 1, 1, 4, 2, 2, 3, 4, 2, 2, 1, 1, 3, 2, 4, 4, 4, 1, 1, 4, 4, 1, 1, 2, 4, 4, 2, 2, 4, 4, 3, 4, 1, 2, 1, 1, 1, 1, 3, 1, 2, 2, 3, 1, 1, 3, 3, 4, 4, 1, 1, 1, 3, 4, 1, 1, 3, 4, 1, 2, 1, 1, 2, 1, 3, 1, 1, 2, 1, 2, 2, 2, 4, 2, 3, 1, 1, 3, 1, 3, 4, 2, 1, 2, 2, 3, 2, 4, 1, 4, 1, 4, 4, 1, 1, 1, 1, 2, 1, 4, 4, 3, 1, 3, 1, 3, 4, 1, 1, 1, 1, 4, 1, 1, 3, 2, 1, 2, 4, 1, 1, 2, 1, 4, 1, 1, 1, 1, 1, 1, 1, 1, 1, 3, 4, 4, 1, 1, 3, 4, 2, 1, 3, 1, 3, 3, 1, 1, 2, 1, 3, 2, 1, 1, 3, 1, 3, 4, 1, 1, 3, 1, 3, 1, 2, 4, 4, 2, 1, 3, 1, 1, 1, 1, 3, 3, 4, 4, 1, 3, 2, 2, 1, 3, 2, 3, 1, 3, 1, 2, 1, 1, 1, 4, 1, 1, 4, 2, 3, 4, 3, 2, 2, 4, 1, 1, 2, 4, 3, 1, 4, 1, 1, 4, 2, 4, 3, 1, 1, 3, 4, 1, 1, 1, 2, 4, 2, 4, 1, 1, 1, 4, 2, 3, 3, 3, 2, 2, 3, 1, 1, 1, 3, 2, 1, 2, 1, 1, 1, 1, 2, 4, 1, 1, 1, 2, 1, 1, 1, 1, 3, 2, 1, 2, 1, 1, 1, 1, 3, 1, 2, 3, 4, 1, 2, 3, 3, 3, 3, 4, 1, 4, 4, 1, 4, 2, 2, 3, 1, 3, 1, 1, 1, 3, 1, 2, 1, 3, 2, 3, 3, 4, 1, 1, 3, 4, 1, 2, 4, 2, 4, 1, 2, 1, 1, 3, 1, 3, 4, 1, 1, 3, 1, 2, 3, 4, 1, 2, 4, 4, 1, 1, 4, 1, 1, 1, 4, 1, 2, 1, 1, 1, 1, 4, 1, 4, 1, 4, 1, 1, 1, 2, 1, 1, 1, 1, 3, 3, 4, 1, 1, 1, 3, 1, 1, 1, 1, 2, 1, 1, 1, 4, 3, 2, 1, 1, 3, 4, 1, 3, 4, 3, 1, 4, 2, 1, 1, 1, 1, 1, 1, 1, 3, 2, 2, 3, 3, 4, 1, 2, 1, 3, 4, 1, 1, 4, 1, 2, 1, 4, 1, 1, 3, 1, 4, 1, 4, 2, 4, 4, 2, 4, 3, 2, 2, 2, 4, 1, 3, 3, 1, 2, 1, 1, 1, 4, 3, 1, 4, 1, 3, 2, 1, 3, 3, 3, 1, 1, 4, 2, 4, 1, 3, 1, 1, 1, 1, 1, 2, 2, 3, 1, 2, 1, 2, 1, 4, 4, 1, 4, 2, 3, 4, 3, 1, 3, 2, 1, 2, 1, 4, 4, 2, 1, 1, 1, 4, 1, 1, 2, 4, 2, 1, 1, 3, 4, 3, 1, 3, 1, 1, 3, 4, 4, 1, 1, 1, 1, 3, 4, 4, 4, 4, 3, 1, 3, 2, 2, 1, 1, 1, 3, 1, 4, 1, 4, 4, 1, 4, 4, 2, 1, 4, 3, 3, 4, 1, 1, 3, 1, 1, 1, 4, 1, 3, 3, 2, 1, 1, 1, 1, 3, 2, 1, 4, 1, 1, 3, 3, 1, 1, 1, 3, 1, 2, 2, 3, 1, 4, 3, 1, 1, 1, 3, 3, 4, 1, 1, 4, 4, 1, 4, 1, 3, 3, 4, 2, 2, 3, 1, 4, 3, 1, 1, 1, 3, 2, 1, 1, 2, 1, 4, 1, 1, 1, 2, 2, 3, 4, 1, 4, 3, 4, 3, 3, 1, 2, 1, 4, 4, 4, 3, 3, 3, 4, 4, 2, 3, 2, 4, 2, 3, 1, 2, 1, 2, 3, 1, 1, 1, 1, 1, 3, 1, 2, 1, 3, 1, 1, 4, 1, 1, 1, 1, 1, 1, 1, 1, 2, 4, 2, 1, 2, 2, 1, 1, 1, 2, 3, 4, 2, 2, 1, 2, 1, 1, 1, 1, 2, 1, 1, 2, 2, 4, 1, 2, 2, 1, 1, 1, 4, 1, 2, 3, 4, 4, 1, 4, 1, 3, 3, 3, 3, 3, 3, 1, 1, 1, 1, 4, 4, 4, 1, 1, 1, 4, 3, 1, 1, 1, 4, 3, 1, 1, 3, 3, 3, 1, 1, 1, 3, 3, 1, 2, 3, 4, 1, 2, 4, 2, 3, 1, 3, 4, 1, 3, 1, 2, 2, 1, 3, 1, 1, 2, 4, 3, 4, 1, 4, 3, 1, 4, 3, 2, 3, 2, 2, 3, 2, 1, 3, 4, 1, 1, 4, 2, 3, 1, 2, 4, 2, 2, 1, 3, 1, 4, 1, 1, 2, 1, 2, 2, 2, 4, 1, 4, 1, 1, 4, 1, 2, 3, 1, 2, 1, 4, 1, 4, 1, 1, 2, 4, 1, 3, 1, 2, 2, 4, 1, 1, 1, 1, 2, 4, 4, 2, 1, 2, 1, 4, 1, 4, 2, 1, 1, 2, 1, 4, 2, 3, 1, 1, 3, 2, 2, 1, 4, 4, 1, 1, 4, 1, 3, 4, 1, 3, 4, 4, 1, 2, 2, 1, 1, 1, 4, 1, 4, 3, 4, 3, 1, 1, 4, 1, 3, 3, 3, 3, 3, 1, 2, 3, 4, 1, 1, 1, 1, 4, 1, 4, 1, 2, 2, 2, 3, 4, 1, 3, 1, 4, 4, 3, 3, 3, 3, 1, 2, 2, 1, 1, 3, 1, 2, 3, 4, 1, 3, 4, 1, 4, 1, 3, 3, 1, 1, 3, 1, 1, 1, 1, 2, 1, 1, 1, 1, 4, 1, 1, 4, 1, 1, 2, 1, 1, 1, 4, 3, 3, 1, 1, 1, 1, 1, 1, 2, 1, 3, 2, 1, 1, 2, 3, 1, 3, 4, 3, 1, 4, 1, 3, 3, 4, 2, 3, 1, 4, 3, 1, 2, 1, 1, 2, 1, 3, 1, 1, 4, 2, 2, 2, 1, 2, 4, 1, 4, 4, 4, 1, 3, 3, 2, 4, 3, 3, 4, 1, 1, 3, 4, 4, 3, 1, 4, 3, 1, 4, 4, 3, 1, 1, 4, 2, 1, 1, 1, 4, 1, 4, 1, 2, 2, 2, 1, 1, 2, 1, 4, 1, 1, 4, 1, 3, 4, 1, 1, 1, 4, 2, 1, 4, 1, 3, 3, 4, 1, 4, 1, 1, 4, 1, 1, 3, 4, 1, 1, 3, 1, 1, 4, 3, 1, 2, 3, 1, 1, 4, 1, 1, 2, 2, 1, 4, 4, 3, 4, 2, 2, 1, 1, 1, 4, 3, 3, 3, 1, 1, 4, 1, 4, 4, 2, 1, 3, 3, 1, 1, 1, 1, 4, 3, 3, 3, 3, 4, 1, 4, 1, 1, 2, 1, 4, 3, 1, 3, 1, 3, 1, 2, 3, 1, 4, 1, 4, 1, 3, 1, 2, 2, 1, 1, 1, 1, 1, 1, 4, 3, 4, 2, 2, 1, 3, 1, 3, 2, 1, 1, 1, 4, 1, 4, 4, 3, 2, 2, 4, 2, 2, 1, 1, 4, 1, 1, 1, 2, 2, 1, 1, 2, 1, 1, 4, 1, 1, 4, 1, 1, 1, 2, 3, 1, 4, 2, 4, 1, 1, 4, 3, 3, 1, 4, 2, 2, 3, 1, 3, 3, 3, 1, 1, 3, 1, 1, 1, 4, 4, 1, 2, 4, 1, 1, 1, 4, 1, 3, 2, 1, 2, 4, 4, 3, 4, 1, 4, 1, 1, 1, 2, 3, 2, 4, 4, 1, 2, 4, 4, 1, 4, 4, 4, 1, 2, 2, 1, 2, 4, 1, 3, 3, 4, 4, 4, 1, 1, 3, 3, 1, 3, 2, 1, 1, 2, 1, 2, 1, 2, 3, 4, 1, 4, 3, 1, 1, 4, 1, 3, 4, 4, 4, 3, 3, 2, 3, 4, 2, 4, 4, 2, 3, 3, 2, 2, 4, 1, 2, 1, 1, 1, 1, 3, 2, 2, 4, 1, 2, 4, 3, 2, 1, 1, 2, 1, 3, 4, 2, 4, 1, 1, 2, 1, 1, 1, 3, 1, 1, 4, 1, 4, 1, 3, 3, 1, 3, 1, 1, 1, 1, 2, 1, 1, 1, 1, 1, 4, 1, 1, 1, 3, 4, 1, 1, 3, 1, 1, 2, 2, 4, 1, 4, 1, 1, 3, 1, 3, 1, 2, 2, 3, 3, 2, 1, 1, 1, 3, 3, 1, 1, 3, 3, 1, 1, 1, 3, 1, 1, 3, 2, 3, 2, 4, 1, 3, 2, 1, 4, 1, 3, 1, 4, 1, 1, 4, 2, 1, 2, 1, 4, 1, 3, 4, 1, 2, 1, 1, 2, 1, 4, 2, 1, 3, 4, 2, 1, 3, 1, 2, 3, 1, 4, 2, 3, 1, 1, 2, 4, 1, 1, 2, 4, 4, 3, 3, 2, 2, 1, 1, 1, 1, 1, 1, 4, 1, 3, 2, 4, 3, 2, 2, 4, 1, 3, 4, 1, 4, 1, 2, 1, 1, 1, 3, 1, 3, 4, 1, 3, 3, 4, 3, 1, 1, 1, 1, 4, 4, 1, 2, 1, 2, 4, 1, 1, 4, 2, 2, 1, 4, 3, 1, 2, 4, 1, 1, 1, 1, 1, 1, 1, 1, 4, 3, 1, 3, 2, 2, 3, 2, 2, 2, 4, 1, 1, 1, 4, 1, 4, 3, 3, 3, 1, 1, 1, 2, 1, 3, 2, 1, 1, 2, 3, 1, 1, 1, 1, 4, 2, 1, 2, 1, 2, 3, 1, 4, 4, 1, 3, 2, 1, 4, 4, 1, 2, 1, 1, 2, 3, 3, 2, 4, 4, 1, 4, 3, 2, 2, 1, 3, 1, 1, 1, 1, 1, 4, 1, 1, 2, 1, 3, 2, 1, 3, 1, 1, 2, 1, 4, 2, 1, 1, 3, 1, 3, 2, 1, 3, 4, 1, 1, 1, 4, 1, 4, 1, 1, 4, 1, 1, 1, 1, 1, 1, 4, 2, 3, 1, 4, 1, 1, 2, 4, 3, 2, 3, 3, 3, 3, 4, 1, 1, 2, 2, 3, 1, 4, 1, 1, 4, 4, 2, 4, 4, 3, 1, 1, 4, 1, 3, 2, 1, 3, 1, 3, 1, 1, 2, 3, 1, 3, 4, 1, 1, 3, 4, 3, 4, 1, 1, 4, 1, 2, 3, 4, 1, 4, 1, 3, 1, 1, 3, 3, 1, 2, 3, 1, 1, 1, 3, 1, 4, 1, 3, 1, 3, 1, 2, 3, 4, 1, 1, 4, 3, 4, 4, 1, 1, 1, 2, 4, 1, 4, 3, 1, 3, 3, 3, 1, 1, 1, 4, 4, 3, 4, 1, 1, 1, 1, 2, 1, 1, 3, 2, 1, 1, 2, 1, 4, 1, 1, 1, 1, 1, 4, 1, 3, 3, 1, 2, 1, 1, 1, 4, 1, 2, 2, 2, 4, 4, 1, 1, 1, 1, 4, 1, 3, 3, 1, 2, 3, 4, 3, 1, 1, 1, 1, 1, 1, 1, 1, 2, 3, 4, 2, 1, 1, 4, 1, 4, 1, 4, 2, 2, 1, 4, 2, 2, 3, 4, 1, 1, 4, 2, 2, 3, 1, 4, 2, 1, 4, 1, 4, 4, 4, 4, 2, 1, 2, 1, 1, 1, 1, 4, 4, 3, 1, 1, 2, 4, 1, 3, 3, 4, 2, 1, 1, 4, 3, 1, 3, 1, 2, 2, 3, 2, 2, 4, 2, 1, 3, 3, 3, 4, 1, 1, 2, 2, 4, 2, 3, 3, 1, 2, 1, 1, 1, 4, 3, 4, 1, 4, 1, 1, 1, 1, 3, 1, 4, 1, 4, 2, 2, 4, 2, 2, 1, 1, 4, 1, 3, 3, 3, 3, 1, 4, 4, 1, 4, 4, 1, 2, 2, 4, 3, 3, 1, 1, 3, 1, 4, 1, 3, 2, 3, 3, 3, 1, 2, 2, 4, 3, 4, 1, 4, 1, 1, 1, 1, 3, 3, 1, 1, 2, 2, 4, 1, 3, 1, 4, 4, 2, 1, 4, 4, 1, 2, 1, 4, 3, 1, 1, 2, 2, 1, 1, 4, 3, 3, 2, 3, 1, 3, 1, 2, 3, 3, 1, 4, 1, 1, 2, 3, 3, 2, 2, 1, 1, 2, 3, 3, 3, 1, 3, 1, 3, 3, 1, 3, 3, 4, 1, 1, 3, 1, 2, 4, 2, 1, 1, 3, 4, 1, 2, 1, 3, 4, 2, 1, 1, 3, 1, 4, 1, 3, 2, 1, 3, 1, 1, 1, 3, 1, 3, 1, 1, 3, 4, 1, 4, 1, 2, 1, 1, 4, 1, 3, 4, 3, 3, 1, 3, 1, 4, 4, 1, 3, 1, 4, 1, 3, 1, 3, 4, 4, 4, 3, 4, 1, 1, 1, 3, 4, 1, 3, 2, 2, 3, 4, 2, 2, 1, 2, 1, 4, 1, 2, 1, 2, 4, 3, 3, 3, 2, 3, 1, 3, 4, 1, 1, 1, 3, 4, 1, 3, 4, 3, 1, 2, 3, 4, 1, 3, 1, 3, 1, 1, 3, 3, 3, 1, 3, 1, 1, 4, 2, 1, 3, 1, 1, 1, 1, 3, 2, 1, 3, 2, 1, 4, 3, 1, 2, 4, 4, 2, 2, 3, 2, 4, 4, 1, 1, 3, 2, 3, 1, 4, 1, 1, 1, 3, 2, 1, 1, 1, 1, 3, 1, 4, 1, 1, 1, 3, 1, 2, 4, 1, 4, 4, 3, 4, 4, 1, 4, 1, 2, 4, 3, 2, 4, 4, 4, 1, 3, 4, 4, 1, 1, 3, 1, 1, 1, 1, 3, 4, 2, 3, 4, 4, 1, 1, 1, 1, 1, 4, 1, 1, 3, 1, 1, 2, 2, 1, 1, 1, 4, 2, 1, 1, 1, 4, 4, 1, 4, 4, 4, 1, 4, 3, 1, 4, 1, 2, 1, 1, 3, 2, 1, 2, 1, 1, 3, 2, 2, 2, 4, 4, 4, 1, 4, 2, 1, 4, 1, 2, 1, 3, 3, 2, 1, 3, 3, 1, 2, 2, 4, 2, 3, 1, 3, 4, 1, 3, 1, 1, 1, 3, 4, 3, 1, 3, 1, 1, 4, 4, 3, 1, 4, 2, 1, 3, 4, 4, 2, 2, 1, 4, 2, 3, 4, 1, 4, 2, 4, 1, 2, 3, 3, 2, 3, 4, 1, 1, 2, 1, 1, 1, 2, 3, 1, 4, 3, 3, 1, 1, 2, 4, 1, 4, 1, 1, 3, 1, 2, 1, 1, 4, 3, 1, 1, 1, 2, 1, 3, 3, 2, 4, 3, 3, 4, 2, 3, 1, 1, 3, 1, 4, 3, 3, 1, 1, 1, 2, 3, 4, 4, 4, 1, 2, 4, 4, 1, 3, 2, 2, 4, 4, 4, 1, 1, 1, 4, 2, 1, 1, 4, 1, 4, 1, 1, 2, 1, 1, 4, 1, 1, 3, 4, 1, 2, 4, 2, 3, 3, 1, 3, 3, 4, 1, 1, 4, 1, 1, 1, 1, 4, 2, 1, 4, 4, 3, 4, 4, 1, 3, 3, 1, 2, 2, 3, 1, 1, 2, 1, 1, 2, 3, 1, 4, 2, 4, 2, 1, 1, 3, 2, 1, 3, 1, 3, 3, 4, 1, 1, 3, 4, 4, 4, 4, 2, 3, 4, 3, 1, 4, 1, 4, 1, 2, 1, 2, 1, 3, 1, 3, 1, 4, 1, 3, 3, 1, 1, 3, 2, 3, 1, 1, 3, 3, 1, 1, 2, 2, 4, 2, 2, 3, 1, 4, 3, 1, 1, 4, 2, 1, 2, 2, 1, 1, 1, 4, 2, 3, 3, 2, 3, 4, 3, 3, 1, 3, 3, 2, 3, 1, 4, 1, 4, 4, 1, 4, 1, 1, 2, 1, 1, 1, 1, 2, 1, 2, 3, 3, 2, 4, 1, 3, 1, 4, 3, 1, 1, 2, 3, 3, 4, 1, 1, 1, 1, 1, 1, 4, 4, 3, 3, 1, 2, 3, 1, 4, 1, 1, 2, 1, 3, 1, 3, 2, 2, 3, 1, 4, 1, 4, 4, 1, 4, 1, 3, 1, 1, 2, 1, 3, 1, 3, 2, 2, 1, 1, 4, 1, 4, 4, 2, 2, 4, 1, 2, 1, 4, 4, 4, 1, 2, 4, 1, 3, 3, 1, 4, 4, 1, 1, 3, 3, 1, 1, 1, 4, 1, 2, 4, 1, 3, 1, 1, 3, 1, 3, 2, 1, 3, 1, 1, 4, 1, 1, 2, 1, 1, 1, 1, 1, 1, 2, 2, 2, 4, 1, 2, 2, 4, 4, 3, 4, 3, 2, 1, 2, 1, 1, 2, 3, 2, 2, 4, 4, 3, 2, 1, 4, 1, 4, 3, 2, 4, 3, 3, 1, 1, 1, 4, 2, 1, 3, 1, 1, 1, 1, 3, 4, 1, 2, 1, 1, 1, 4, 1, 2, 1, 1, 3, 4, 3, 1, 3, 1, 3, 3, 1, 1, 2, 2, 1, 1, 2, 1, 3, 1, 4, 4, 3, 3, 3, 1, 1, 4, 2, 4, 1, 2, 1, 1, 1, 1, 1, 1, 2, 2, 3, 3, 1, 1, 1, 1, 1, 3, 1, 1, 2, 1, 2, 4, 2, 1, 3, 2, 1, 4, 1, 1, 1, 3, 2, 1, 3, 1, 1, 1, 1, 3, 2, 3, 1, 1, 2, 1, 1, 4, 1, 2, 4, 3, 1, 1, 4, 3, 4, 3, 1, 1, 3, 3, 3, 3, 3, 1, 2, 4, 1, 1, 2, 2, 1, 1, 1, 3, 4, 1, 2, 2, 3, 3, 3, 1, 1, 1, 3, 1, 4, 1, 2, 1, 1, 1, 4, 4, 4, 3, 2, 3, 2, 4, 1, 1, 1, 1, 1, 3, 4, 4, 1, 1, 2, 4, 4, 3, 2, 1, 4, 1, 1, 4, 2, 1, 4, 3, 3, 4, 2, 1, 1, 2, 1, 1, 4, 3, 3, 2, 3, 3, 4, 3, 3, 1, 1, 1, 1, 4, 3, 1, 2, 1, 4, 3, 1, 1, 4, 4, 3, 2, 1, 1, 1, 1, 1, 2, 3, 4, 1, 1, 4, 4, 1, 2, 1, 1, 1, 4, 1, 2, 4, 1, 1, 1, 4, 3, 2, 2, 2, 3, 4, 3, 3, 4, 1, 4, 2, 1, 4, 4, 1, 1, 4, 1, 1, 1, 4, 1, 4, 3, 1, 3, 2, 4, 3, 4, 1, 2, 2, 1, 2, 1, 1, 1, 3, 1, 2, 2, 1, 4, 2, 1, 1, 1, 4, 2, 1, 2, 1, 1, 1, 3, 3, 1, 1, 1, 3, 1, 3, 3, 2, 4, 2, 1, 1, 1, 1, 1, 1, 3, 1, 1, 4, 1, 4, 4, 1, 1, 1, 3, 3, 4, 3, 1, 1, 2, 1, 3, 3, 2, 1, 4, 4, 2, 1, 4, 2, 2, 2, 1, 3, 3, 4, 1, 1, 2, 2, 1, 1, 1, 4, 3, 2, 2, 1, 2, 1, 4, 1, 3, 1, 1, 1, 4, 2, 4, 4, 1, 4, 4, 2, 3, 3, 1, 3, 1, 1, 1, 3, 3, 4, 3, 1, 1, 2, 3, 2, 1, 4, 4, 3, 3, 2, 3, 1, 4, 3, 2, 4, 1, 2, 1, 3, 1, 1, 1, 1, 1, 3, 3, 1, 1, 4, 4, 1, 4, 3, 2, 4, 2, 1, 1, 4, 4, 1, 2, 1, 4, 1, 2, 4, 4, 1, 3, 1, 1, 4, 1, 3, 1, 2, 1, 3, 1, 1, 3, 2, 3, 4, 3, 3, 4, 1, 1, 1, 4, 1, 4, 3, 1, 4, 3, 2, 1, 2, 1, 1, 3, 4, 1, 3, 1, 2, 1, 2, 4, 4, 4, 1, 3, 1, 1, 4, 1, 1, 1, 2, 4, 2, 4, 4, 3, 3, 2, 4, 2, 1, 1, 2, 3, 1, 4, 3, 1, 4, 1, 1, 1, 4, 1, 4, 3, 2, 1, 1, 2, 3, 2, 3, 1, 1, 2, 1, 3, 1, 3, 1, 2, 2, 1, 3, 3, 2, 1, 1, 2, 2, 3, 3, 3, 3, 4, 4, 4, 2, 1, 3, 1, 1, 1, 2, 4, 3, 1, 1, 1, 2, 4, 3, 1, 1, 4, 4, 2, 4, 3, 1, 1, 1, 3, 3, 1, 1, 1, 1, 2, 1, 4, 1, 1, 2, 2, 1, 2, 1, 4, 4, 1, 2, 2, 1, 1, 3, 4, 2, 1, 1, 1, 1, 4, 1, 1, 4, 1, 3, 4, 2, 3, 4, 1, 1, 1, 1, 1, 4, 3, 2, 4, 1, 1, 1, 1, 2, 4, 3, 3, 2, 2, 1, 4, 1, 3, 4, 2, 3, 2, 3, 1, 1, 3, 1, 4, 2, 1, 4, 1, 1, 4, 4, 1, 1, 1, 3, 4, 3, 1, 2, 2, 1, 2, 2, 4, 1, 2, 2, 2, 2, 1, 4, 4, 2, 4, 1, 2, 4, 3, 1, 1, 4, 4, 1, 3, 4, 2, 2, 2, 1, 4, 3, 1, 3, 1, 2, 2, 1, 2, 1, 4, 4, 1, 3, 2, 1, 1, 1, 2, 1, 3, 1, 1, 2, 1, 4, 1, 3, 3, 3, 3, 2, 2, 4, 3, 1, 1, 3, 4, 1, 1, 1, 1, 1, 2, 1, 4, 1, 3, 2, 2, 4, 1, 1, 1, 4, 1, 1, 4, 4, 4, 4, 2, 1, 1, 1, 4, 1, 1, 4, 1, 3, 4, 1, 1, 1, 4, 2, 4, 4, 4, 1, 1, 1, 4, 1, 3, 4, 1, 1, 1, 1, 1, 3, 1, 3, 2, 1, 4, 1, 1, 2, 3, 1, 1, 1, 3, 1, 1, 3, 1, 1, 4, 3, 4, 3, 1, 1, 4, 1, 1, 3, 2, 3, 1, 4, 4, 2, 1, 2, 2, 1, 3, 4, 4, 4, 3, 3, 3, 2, 1, 4, 4, 4, 1, 4, 1, 4, 1, 1, 1, 1, 1, 4, 1, 2, 3, 3, 1, 1, 1, 4, 1, 4, 1, 1, 1, 2, 4, 1, 3, 2, 2, 1, 1, 4, 1, 1, 1, 4, 2, 1, 1, 4, 4, 1, 3, 2, 2, 4, 4, 1, 1, 3, 1, 1, 1, 3, 3, 1, 1, 1, 1, 1, 3, 1, 1, 2, 4, 1, 1, 1, 1, 1, 3, 1, 4, 3, 2, 3, 1, 4, 1, 3, 1, 2, 2, 2, 1, 2, 4, 3, 4, 1, 1, 4, 3, 4, 1, 1, 3, 3, 4, 4, 2, 2, 4, 2, 2, 3, 2, 2, 1, 4, 1, 1, 2, 1, 1, 3, 1, 2, 1, 1, 3, 1, 2, 1, 1, 4, 2, 1, 3, 1, 3, 1, 3, 2, 3, 4, 4, 4, 3, 2, 3, 3, 3, 2, 4, 1, 1, 4, 3, 1, 4, 4, 2, 1, 3, 2, 2, 2, 3, 3, 4, 4, 3, 4, 1, 1, 1, 1, 1, 3, 1, 1, 3, 2, 1, 4, 2, 3, 3, 1, 3, 1, 1, 1, 1, 1, 1, 3, 4, 1, 3, 4, 3, 4, 1, 1, 3, 3, 2, 1, 4, 2, 1, 1, 1, 4, 1, 1, 1, 4, 4, 3, 1, 2, 2, 4, 2, 4, 4, 3, 1, 2, 1, 4, 3, 4, 4, 3, 1, 2, 4, 1, 4, 1, 4, 4, 1, 4, 1, 1, 1, 4, 2, 1, 4, 3, 3, 1, 1, 1, 4, 1, 4, 4, 1, 1, 4, 3, 1, 3, 3, 1, 3, 3, 1, 3, 4, 2, 1, 1, 3, 4, 1, 4, 2, 1, 1, 3, 1, 4, 1, 1, 4, 4, 4, 3, 3, 1, 4, 2, 2, 3, 2, 3, 1, 4, 4, 2, 1, 4, 1, 1, 1, 4, 1, 4, 3, 2, 4, 1, 1, 1, 3, 2, 4, 4, 3, 3, 1, 4, 1, 1, 1, 4, 3, 4, 2, 4, 3, 2, 1, 4, 1, 4, 2, 3, 3, 3, 1, 3, 2, 1, 1, 4, 4, 4, 1, 1, 3, 3, 4, 1, 2, 2, 1, 3, 4, 1, 4, 3, 1, 1, 1, 4, 1, 1, 3, 1, 4, 3, 1, 2, 1, 1, 2, 1, 1, 1, 3, 3, 3, 3, 3, 1, 1, 1, 3, 2, 1, 4, 1, 3, 1, 4, 4, 1, 4, 4, 1, 1, 1, 4, 1, 3, 4, 1, 1, 1, 4, 1, 1, 1, 2, 1, 1, 3, 3, 2, 3, 2, 3, 2, 2, 2, 1, 3, 1, 3, 1, 3, 2, 4, 4, 2, 1, 1, 3, 2, 1, 1, 3, 3, 1, 3, 1, 4, 2, 2, 1, 3, 2, 3, 1, 2, 3, 1, 2, 1, 4, 4, 4, 3, 2, 4, 1, 1, 2, 1, 1, 1, 4, 1, 1, 2, 3, 3, 4, 1, 1, 1, 1, 1, 4, 3, 1, 4, 1, 4, 3, 1, 4, 2, 3, 2, 3, 3, 4, 1, 3, 3, 4, 1, 1, 3, 1, 3, 4, 1, 1, 1, 1, 1, 4, 1, 3, 1, 1, 1, 4, 1, 2, 4, 1, 1, 1, 1, 1, 1, 1, 1, 1, 1, 4, 1, 1, 1, 4, 2, 4, 1, 1, 4, 3, 2, 3, 2, 1, 1, 2, 4, 1, 2, 2, 2, 1, 1, 1, 2, 1, 1, 4, 4, 4, 4, 3, 4, 1, 1, 1, 2, 2, 4, 1, 1, 1, 1, 4, 3, 1, 1, 4, 1, 1, 4, 1, 3, 4, 1, 2, 4, 2, 1, 1, 4, 1, 1, 1, 4, 2, 4, 2, 1, 3, 2, 1, 3, 4, 1, 1, 1, 3, 1, 1, 4, 3, 1, 4, 3, 2, 1, 1, 3, 4, 3, 1, 1, 1, 1, 1, 4, 2, 1, 4, 1, 1, 2, 1, 4, 4, 4, 1, 1, 3, 3, 4, 3, 1, 1, 2, 3, 4, 1, 2, 3, 1, 3, 1, 4, 4, 4, 2, 1, 1, 4, 1, 1, 2, 2, 4, 4, 2, 4, 2, 1, 2, 4, 3, 4, 4, 4, 1, 1, 4, 1, 1, 1, 3, 4, 1, 4, 1, 3, 4, 3, 1, 2, 1, 3, 4, 1, 3, 1, 4, 1, 1, 3, 4, 4, 1, 1, 4, 1, 1, 1, 4, 1, 3, 1, 3, 1, 3, 1, 2, 4, 2, 1, 4, 1, 2, 3, 3, 1, 2, 1, 2, 1, 1, 3, 3, 2, 1, 1, 4, 3, 3, 2, 1, 1, 1, 1, 3, 2, 3, 2, 2, 1, 1, 1, 1, 1, 4, 4, 4, 1, 2, 3, 3, 3, 2, 3, 4, 2, 3, 1, 1, 4, 1, 4, 3, 1, 3, 1, 1, 2, 4, 4, 2, 4, 1, 1, 3, 2, 3, 3, 1, 2, 2, 3, 3, 2, 1, 3, 1, 1, 4, 2, 2, 4, 3, 4, 1, 2, 2, 1, 1, 4, 2, 2, 3, 1, 1, 4, 2, 1, 1, 1, 4, 1, 1, 1, 3, 4, 4, 2, 1, 3, 4, 3, 1, 1, 2, 2, 1, 1, 2, 1, 1, 4, 4, 1, 1, 3, 2, 4, 1, 4, 1, 3, 1, 1, 3, 1, 2, 1, 1, 3, 1, 1, 4, 1, 3, 4, 3, 2, 1, 1, 3, 4, 2, 3, 3, 2, 3, 4, 1, 1, 4, 2, 4, 4, 2, 1, 4, 2, 4, 3, 3, 4, 3, 2, 4, 4, 4, 1, 1, 2, 4, 4, 4, 1, 4, 2, 1, 1, 1, 1, 2, 4, 1, 1, 1, 1, 2, 3, 4, 2, 3, 1, 1, 1, 2, 1, 2, 4, 1, 3, 3, 1, 2, 4, 2, 2, 2, 3, 1, 1, 1, 1, 2, 3, 3, 1, 2, 1, 3, 4, 1, 1, 3, 1, 1, 4, 2, 2, 1, 1, 1, 3, 4, 1, 1, 1, 2, 1, 4, 2, 1, 2, 4, 1, 1, 2, 2, 4, 1, 3, 1, 3, 3, 4, 1, 1, 2, 1, 4, 1, 2, 1, 3, 2, 4, 2, 2, 1, 4, 2, 2, 1, 1, 1, 4, 4, 2, 3, 1, 2, 3, 4, 1, 1, 2, 2, 2, 1, 1, 1, 1, 1, 2, 4, 1, 4, 4, 1, 2, 3, 2, 2, 4, 4, 1, 4, 1, 3, 1, 1, 4, 3, 2, 1, 2, 2, 3, 1, 1, 2, 1, 2, 1, 1, 2, 1, 1, 3, 1, 4, 1, 2, 2, 2, 1, 2, 2, 4, 1, 3, 1, 1, 1, 3, 1, 1, 4, 1, 3, 4, 2, 1, 3, 1, 2, 3, 1, 1, 1, 1, 2, 1, 3, 1, 4, 2, 2, 2, 3, 1, 4, 4, 1, 4, 3, 3, 1, 4, 1, 2, 4, 3, 1, 2, 4, 3, 4, 4, 4, 1, 2, 1, 3, 4, 1, 2, 4, 2, 2, 3, 1, 3, 1, 1, 1, 1, 4, 1, 3, 1, 4, 1, 4, 4, 2, 1, 1, 4, 1, 2, 1, 4, 2, 3, 4, 1, 3, 1, 4, 2, 4, 2, 3, 1, 4, 3, 2, 2, 1, 3, 4, 3, 3, 1, 2, 1, 1, 1, 4, 4, 2, 4, 2, 3, 4, 1, 4, 2, 1, 4, 2, 2, 1, 2, 2, 2, 1, 1, 3, 3, 3, 1, 2, 2, 1, 1, 3, 4, 1, 1, 1, 1, 3, 4, 4, 4, 1, 3, 2, 1, 1, 2, 3, 2, 4, 2, 3, 1, 4, 2, 1, 3, 1, 1, 2, 4, 1, 3, 4, 4, 1, 1, 2, 3, 1, 1, 1, 3, 4, 2, 4, 1, 3, 3, 1, 1, 4, 2, 4, 1, 2, 1, 4, 4, 1, 3, 1, 4, 1, 1, 1, 2, 3, 2, 2, 3, 4, 3, 1, 3, 3, 4, 3, 3, 1, 1, 4, 3, 1, 4, 3, 2, 3, 2, 2, 1, 1, 1, 3, 2, 3, 2, 1, 3, 3, 4, 2, 2, 4, 2, 3, 2, 3, 1, 1, 2, 1, 1, 2, 1, 3, 4, 2, 1, 4, 2, 1, 2, 1, 4, 1, 1, 4, 3, 3, 1, 2, 4, 2, 3, 1, 4, 1, 2, 4, 3, 2, 1, 1, 1, 1, 3, 2, 4, 2, 1, 1, 3, 1, 1, 4, 1, 3, 4, 2, 1, 4, 1, 2, 3, 1, 1, 1, 3, 3, 1, 2, 1, 2, 3, 3, 3, 1, 3, 3, 3, 1, 1, 2, 2, 1, 4, 1, 1, 3, 1, 4, 1, 3, 3, 3, 1, 1, 2, 4, 1, 1, 4, 1, 1, 2, 1, 2, 1, 2, 2, 4, 3, 1, 3, 2, 1, 1, 4, 3, 4, 2, 1, 1, 4, 2, 4, 3, 4, 4, 1, 3, 3, 1, 3, 1, 2, 1, 4, 3, 2, 2, 4, 3, 1, 1, 4, 1, 3, 3, 2, 4, 2, 1, 4, 1, 1, 1, 1, 4, 3, 2, 1, 2, 4, 1, 1, 1, 4, 1, 4, 1, 4, 1, 3, 3, 3, 2, 2, 4, 1, 3, 2, 4, 3, 3, 1, 3, 4, 4, 1, 2, 1, 1, 1, 1, 1, 3, 4, 1, 2, 1, 1, 4, 1, 2, 1, 1, 3, 1, 1, 1, 2, 4, 1, 3, 1, 1, 3, 2, 3, 1, 1, 1, 4, 1, 2, 4, 1, 4, 2, 1, 1, 1, 1, 1, 4, 3, 1, 3, 1, 1, 2, 1, 3, 4, 4, 3, 3, 4, 1, 1, 1, 1, 2, 1, 3, 4, 4, 1, 4, 1, 3, 3, 4, 1, 1, 1, 1, 3, 3, 1, 2, 4, 1, 4, 3, 2, 3, 2, 1, 3, 3, 1, 1, 4, 4, 3, 2, 4, 4, 2, 3, 1, 4, 3, 1, 4, 4, 1, 3, 1, 4, 1, 2, 4, 1, 1, 4, 1, 2, 4, 3, 4, 3, 1, 3, 2, 4, 4, 1, 1, 3, 1, 1, 1, 2, 2, 1, 4, 1, 4, 3, 1, 1, 2, 3, 1, 2, 2, 4, 4, 2, 4, 1, 1, 1, 3, 2, 2, 4, 4, 3, 4, 2, 1, 3, 1, 2, 4, 2, 1, 4, 1, 3, 2, 1, 3, 1, 1, 1, 2, 3, 1, 4, 1, 2, 3, 4, 2, 2, 2, 1, 4, 3, 4, 1, 1, 3, 4, 1, 4, 4, 4, 1, 1, 1, 1, 4, 4, 1, 4, 1, 4, 2, 2, 1, 1, 2, 3, 1, 3, 3, 4, 1, 4, 2, 2, 3, 2, 1, 1, 3, 4, 1, 3, 4, 3, 2, 3, 3, 3, 2, 3, 1, 1, 2, 1, 1, 4, 1, 3, 1, 1, 1, 1, 2, 4, 3, 1, 3, 1, 2, 3, 3, 4, 3, 3, 4, 3, 1, 1, 4, 1, 1, 3, 2, 3, 2, 1, 1, 1, 1, 3, 2, 4, 1, 4, 1, 4, 2, 1, 4, 1, 3, 2, 1, 1, 2, 2, 1, 3, 3, 2, 3, 1, 1, 4, 2, 4, 1, 3, 1, 3, 4, 4, 2, 3, 4, 1, 4, 3, 3, 4, 1, 3, 3, 4, 1, 2, 1, 3, 1, 1, 1, 1, 1, 3, 4, 3, 2, 4, 1, 2, 1, 1, 3, 3, 1, 2, 4, 4, 4, 4, 1, 1, 4, 1, 1, 1, 1, 1, 1, 3, 1, 1, 1, 2, 3, 3, 2, 4, 2, 2, 3, 3, 1, 3, 2, 4, 1, 4, 3, 4, 1, 4, 1, 3, 3, 4, 3, 1, 4, 4, 1, 1, 2, 3, 2, 4, 4, 1, 2, 2, 1, 2, 2, 4, 2, 1, 1, 1, 3, 3, 3, 2, 1, 1, 3, 3, 3, 2, 2, 4, 2, 3, 4, 1, 1, 1, 4, 1, 3, 1, 1, 4, 2, 2, 1, 1, 4, 4, 4, 4, 1, 1, 4, 4, 1, 1, 2, 3, 4, 3, 1, 4, 3, 1, 1, 4, 4, 3, 3, 2, 4, 4, 1, 3, 1, 1, 3, 1, 4, 2, 4, 1, 1, 1, 2, 1, 4, 1, 1, 1, 1, 1, 2, 2, 1, 1, 1, 3, 3, 3, 1, 1, 3, 1, 4, 3, 3, 1, 2, 1, 2, 4, 3, 1, 2, 1, 1, 2, 4, 3, 3, 4, 1, 1, 1, 2, 4, 2, 4, 4, 1, 3, 2, 4, 3, 2, 1, 1, 1, 4, 2, 4, 1, 4, 1, 1, 4, 4, 1, 2, 1, 4, 2, 3, 1, 2, 1, 2, 1, 2, 1, 1, 1, 1, 1, 4, 2, 1, 1, 1, 2, 1, 1, 1, 1, 1, 2, 1, 1, 1, 1, 2, 1, 1, 1, 4, 1, 3, 4, 1, 1, 2, 1, 1, 3, 4, 4, 3, 1, 1, 4, 1, 1, 1, 1, 1, 1, 3, 1, 1, 3, 4, 4, 1, 1, 2, 1, 1, 1, 2, 2, 1, 4, 1, 2, 1, 4, 1, 2, 1, 1, 2, 2, 1, 1, 2, 2, 2, 3, 4, 1, 2, 4, 2, 3, 1, 4, 3, 1, 1, 1, 1, 1, 2, 4, 1, 3, 4, 1, 2, 1, 1, 1, 1, 3, 3, 4, 1, 4, 2, 1, 1, 2, 2, 1, 1, 4, 3, 4, 1, 3, 4, 3, 4, 1, 4, 3, 2, 2, 3, 1, 4, 1, 1, 1, 4, 2, 1, 1, 4, 1, 3, 4, 3, 4, 4, 1, 3, 1, 2, 2, 1, 1, 3, 1, 3, 3, 1, 2, 2, 1, 4, 2, 3, 1, 1, 1, 1, 3, 1, 1, 4, 1, 1, 4, 1, 3, 1, 2, 3, 2, 1, 3, 3, 1, 3, 2, 1, 1, 2, 1, 1, 4, 1, 3, 1, 2, 2, 1, 1, 4, 1, 1, 2, 3, 4, 3, 1, 1, 2, 4, 2, 1, 1, 2, 3, 3, 1, 2, 1, 4, 1, 3, 4, 4, 1, 2, 2, 2, 1, 4, 4, 2, 3, 4, 3, 3, 2, 1, 3, 4, 1, 1, 1, 1, 2, 3, 4, 3, 1, 4, 1, 2, 1, 2, 1, 3, 4, 2, 2, 4, 4, 1, 1, 4, 2, 1, 3, 1, 1, 1, 1, 3, 3, 2, 4, 4, 3, 4, 1, 1, 1, 1, 1, 1, 3, 2, 1, 4, 4, 2, 1, 1, 1, 1, 3, 1, 4, 1, 4, 4, 3, 3, 3, 2, 2, 4, 3, 3, 4, 3, 1, 3, 1, 1, 1, 4, 2, 4, 1, 4, 3, 3, 4, 1, 1, 1, 1, 3, 4, 4, 3, 1, 1, 3, 3, 3, 2, 3, 3, 2, 2, 4, 1, 1, 4, 4, 3, 4, 2, 1, 4, 3, 2, 2, 4, 1, 1, 4, 1, 4, 1, 3, 1, 1, 1, 4, 2, 1, 4, 1, 1, 2, 4, 2, 1, 1, 2, 4, 1, 1, 3, 4, 2, 2, 1, 4, 2, 1, 4, 1, 1, 1, 3, 1, 4, 2, 1, 2, 1, 3, 1, 3, 2, 4, 4, 2, 4, 3, 3, 1, 1, 3, 4, 4, 2, 1, 3, 4, 4, 1, 4, 1, 1, 2, 4, 3, 2, 4, 4, 3, 3, 4, 1, 2, 1, 4, 4, 1, 3, 1, 1, 3, 4, 1, 1, 1, 2, 1, 4, 2, 4, 3, 4, 1, 1, 1, 4, 3, 4, 4, 1, 4, 2, 1, 3, 1, 1, 3, 1, 1, 1, 1, 2, 3, 2, 1, 4, 3, 2, 1, 2, 1, 1, 4, 2, 1, 4, 4, 1, 1, 1, 4, 2, 1, 2, 3, 2, 1, 2, 1, 3, 2, 1, 4, 4, 4, 4, 2, 1, 4, 4, 4, 2, 3, 1, 2, 1, 2, 3, 4, 1, 3, 4, 2, 2, 2, 2, 2, 3, 3, 3, 1, 3, 2, 3, 4, 3, 3, 1, 2, 4, 1, 1, 1, 3, 1, 4, 1, 4, 1, 1, 1, 1, 4, 3, 3, 3, 3, 4, 3, 1, 4, 4, 1, 4, 3, 3, 2, 3, 1, 1, 1, 4, 1, 4, 3, 3, 4, 1, 3, 1, 1, 4, 4, 2, 1, 2, 1, 2, 2, 1, 4, 1, 1, 4, 1, 1, 1, 1, 3, 1, 1, 2, 1, 2, 3, 3, 1, 1, 3, 1, 4, 1, 4, 1, 2, 2, 2, 3, 1, 3, 2, 3, 2, 3, 1, 3, 1, 1, 2, 1, 4, 3, 3, 2, 4, 1, 4, 1, 2, 1, 1, 4, 1, 2, 2, 1, 1, 3, 3, 1, 1, 1, 1, 3, 2, 3, 3, 1, 4, 4, 1, 1, 4, 1, 2, 2, 1, 1, 1, 1, 1, 1, 1, 1, 4, 4, 3, 4, 1, 2, 1, 2, 1, 4, 3, 1, 1, 1, 2, 1, 3, 1, 2, 3, 3, 1, 2, 1, 1, 1, 4, 2, 1, 2, 3, 1, 3, 1, 3, 1, 1, 1, 1, 1, 3, 3, 3, 4, 4, 2, 3, 3, 2, 4, 1, 2, 4, 4, 4, 3, 1, 1, 4, 2, 1, 4, 1, 2, 1, 4, 4, 2, 1, 4, 1, 3, 3, 3, 4, 1, 3, 1, 1, 3, 1, 4, 1, 4, 3, 2, 1, 2, 2, 4, 3, 1, 1, 4, 4, 1, 4, 1, 1, 1, 1, 3, 4, 2, 2, 4, 1, 1, 1, 1, 2, 1, 1, 3, 1, 2, 4, 3, 2, 1, 1, 3, 1, 1, 4, 1, 1, 4, 1, 3, 1, 3, 4, 1, 2, 4, 1, 3, 2, 4, 4, 1, 2, 4, 1, 4, 1, 1, 2, 3, 2, 3, 2, 1, 3, 1, 4, 4, 3, 4, 2, 1, 1, 1, 1, 1, 1, 3, 3, 2, 4, 3, 1, 4, 4, 4, 1, 4, 1, 1, 4, 2, 4, 1, 1, 4, 2, 4, 2, 4, 1, 1, 2, 2, 3, 4, 3, 2, 3, 1, 2, 2, 1, 4, 4, 2, 1, 3, 3, 4, 1, 3, 1, 4, 1, 2, 1, 3, 3, 3, 1, 3, 4, 2, 1, 1, 4, 1, 4, 1, 1, 4, 3, 1, 3, 2, 3, 1, 4, 1, 3, 4, 2, 1, 2, 3, 1, 1, 4, 2, 3, 2, 3, 2, 1, 1, 1, 4, 2, 3, 1, 1, 1, 1, 2, 1, 4, 2, 2, 3, 1, 3, 1, 1, 1, 2, 4, 3, 1, 3, 3, 3, 2, 3, 4, 2, 1, 4, 3, 4, 1, 2, 2, 4, 1, 2, 3, 1, 3, 1, 2, 1, 1, 4, 3, 2, 3, 3, 2, 1, 1, 1, 1, 1, 1, 1, 4, 1, 3, 1, 4, 2, 4, 2, 2, 4, 1, 2, 1, 4, 2, 2, 1, 2, 4, 1, 1, 4, 1, 1, 1, 4, 4, 4, 1, 4, 4, 1, 1, 2, 3, 1, 1, 1, 2, 1, 3, 3, 3, 3, 3, 3, 4, 4, 1, 1, 1, 1, 3, 3, 1, 2, 3, 2, 1, 1, 4, 2, 4, 4, 1, 3, 4, 4, 4, 2, 2, 4, 4, 1, 2, 4, 3, 1, 3, 4, 4, 2, 4, 2, 1, 4, 1, 1, 1, 2, 1, 3, 3, 3, 3, 1, 4, 1, 4, 3, 1, 3, 2, 2, 2, 3, 3, 1, 1, 2, 1, 3, 1, 3, 1, 3, 2, 1, 4, 4, 2, 3, 1, 2, 1, 4, 4, 4, 1, 4, 4, 1, 3, 2, 2, 3, 1, 3, 4, 2, 2, 1, 1, 3, 4, 1, 3, 3, 1, 1, 1, 4, 1, 1, 4, 3, 1, 1, 3, 4, 3, 1, 2, 1, 1, 2, 1, 4, 3, 3, 3, 1, 1, 1, 1, 4, 1, 3, 3, 1, 1, 1, 4, 2, 1, 2, 1, 1, 2, 1, 2, 4, 1, 4, 1, 4, 4, 2, 4, 2, 1, 1, 2, 2, 2, 3, 1, 3, 3, 1, 1, 4, 3, 1, 3, 1, 2, 4, 4, 4, 2, 4, 2, 4, 4, 2, 2, 1, 2, 1, 2, 3, 1, 3, 1, 2, 4, 1, 3, 1, 1, 4, 3, 1, 2, 4, 4, 1, 2, 1, 4, 1, 1, 4, 3, 4, 3, 3, 2, 1, 1, 2, 1, 2, 4, 3, 3, 3, 1, 4, 2, 4, 3, 1, 4, 4, 3, 1, 1, 1, 4, 1, 1, 2, 1, 3, 3, 4, 2, 1, 1, 4, 1, 1, 2, 4, 2, 1, 1, 1, 1, 1, 3, 1, 1, 2, 1, 2, 1, 3, 2, 1, 2, 1, 2, 4, 3, 2, 2, 4, 2, 1, 1, 1, 4, 4, 2, 4, 2, 2, 1, 2, 4, 1, 4, 1, 1, 3, 2, 4, 2, 3, 2, 3, 2, 4, 1, 3, 2, 1, 3, 2, 2, 4, 1, 3, 1, 1, 3, 2, 4, 1, 3, 4, 3, 4, 4, 1, 1, 3, 4, 2, 4, 1, 2, 2, 1, 4, 1, 2, 9, 8, 0, 0, 8, 9, 9, 8, 8, 7, 8, 0, 0, 0, 0, 7, 0, 0, 7, 8, 0, 2, 0, 1, 0, 0, 9, 7, 7, 9, 7, 0, 7, 1, 1, 4, 0, 7, 7, 7, 2, 0, 8, 1, 8, 7, 8, 0, 4, 0, 7, 1, 0, 9, 7, 9, 0, 1, 9, 7, 9, 2, 1, 0, 9, 2, 0, 7, 2, 0, 8, 1, 8, 4, 1, 9, 7, 0, 8, 0, 8, 3, 9, 8, 8, 8, 8, 7, 0, 8, 0, 4, 7, 8, 4, 8, 7, 8, 8, 8, 0, 8, 7, 2, 8, 8, 9, 0, 4, 4, 1, 7, 4, 8, 8, 0, 9, 4, 1, 2, 8, 7, 3, 7, 0, 8, 8, 0, 7, 0, 9, 0, 1, 0, 9, 7, 0, 8, 0, 8, 7, 1, 7, 7, 8, 0, 9, 0, 8, 8, 7, 1, 8, 7, 1, 0, 3, 9, 0, 0, 3, 8, 8, 1, 2, 1, 1, 3, 0, 9, 1, 8, 2, 0, 1, 1, 9, 2, 2, 1, 9, 1, 8, 2, 7, 4, 3, 4, 2, 2, 1, 8, 8, 1, 3, 2, 2, 3, 8, 4, 9, 3, 4, 2, 3, 2, 1, 3, 1, 9, 8, 7, 4, 3, 3, 1, 0, 7, 1, 9, 7, 1, 9, 0, 2, 1, 3, 0, 3, 4, 0, 4, 1, 0, 4, 1, 7, 2, 9, 1, 2, 1, 3, 4, 9, 2, 2, 3, 1, 1, 4, 8, 2, 1, 3, 2, 1, 3, 3, 4, 1, 8, 3, 1, 1, 4, 1, 9, 2, 2, 1, 4, 3, 7, 4, 0, 3, 9, 1, 0, 0, 2, 1, 4, 4, 0, 0, 2, 1, 8, 7, 0, 1, 4, 7, 7, 0, 1, 8, 7, 4, 2, 1, 8, 2, 4, 4, 1, 7, 3, 3, 1, 9, 8, 1, 0, 1, 3, 1, 9, 1, 8, 8, 8, 1, 1, 1, 7, 7, 3, 1, 4, 0, 9, 4, 1, 7, 4, 9, 4, 1, 3, 4, 4, 2, 4, 3, 1, 4, 8, 2, 1, 4, 1, 4, 4, 1, 1, 0, 8, 2, 9, 3, 4, 4, 4, 1, 3, 8, 0, 2, 1, 4, 0, 2, 3, 8, 9, 9, 9, 0, 7, 4, 1, 7, 2, 1, 3, 8, 1, 4, 2, 8, 1, 0, 1, 3, 8, 3, 2, 1, 1, 1, 1, 1, 4, 8, 1, 8, 3, 7, 2, 0, 3, 3, 1, 1, 3, 1, 2, 0, 4, 7, 3, 7, 0, 8, 8, 4, 9, 1, 8, 2, 8, 2, 1, 9, 2, 2, 3, 3, 4, 1, 1, 2, 4, 1, 1, 4, 8, 2, 9, 8, 2, 0, 0, 1, 8, 2, 4, 8, 0, 2, 3, 8, 7, 4, 4, 1, 3, 2, 4, 1, 2, 2, 1, 1, 0, 1, 2, 4, 4, 2, 2, 0, 3, 1, 2, 4, 1, 1, 2, 1, 1, 1, 3, 1, 1, 1, 0, 1, 4, 2, 1, 1, 8, 1, 7, 2, 1, 7, 1, 0, 9, 7, 3, 4, 1, 7, 1, 3, 1, 2, 2, 3, 4, 1, 4, 8, 8, 1, 3, 1, 3, 4, 3, 4, 2, 4, 7, 3, 3, 3, 1, 9, 3, 3, 7, 7, 2, 4, 0, 4, 3, 0, 7, 1, 4, 4, 4, 1, 1, 8, 3, 3, 4, 1, 2, 8, 7, 7, 3, 1, 8, 1, 8, 8, 3, 2, 7, 1, 8, 8, 1, 9, 1, 9, 4, 2, 4, 1, 4, 1, 8, 2, 1, 1, 9, 1, 1, 4, 2, 1, 2, 1, 4, 3, 7, 9, 9, 3, 0, 1, 9, 1, 4, 0, 2, 2, 1, 7, 2, 8, 3, 1, 4, 1, 8, 3, 3, 4, 4, 3, 1, 8, 0, 2, 2, 8, 2, 8, 9, 3, 3, 1, 2, 1, 7, 8, 4, 0, 0, 0, 1, 1, 1, 0, 2, 7, 1, 9, 0, 1, 7, 0, 0, 8, 1, 1, 1, 1, 1, 7, 2, 7, 7, 7, 0, 1, 0, 0, 4, 1, 9, 4, 2, 1, 1, 2, 8, 4, 3, 1, 1, 1, 9, 1, 7, 4, 3, 8, 2, 8, 9, 0, 7, 1, 0, 7, 4, 1, 7, 8, 3, 1, 7, 0, 0, 7, 1, 3, 7, 2, 7, 1, 4, 1, 0, 2, 7, 1, 4, 4, 3, 8, 3, 2, 2, 3, 1, 4, 3, 2, 3, 0, 2, 4, 0, 7, 1, 1, 1, 4, 2, 1, 1, 1, 2, 9, 7, 4, 0, 8, 2, 1, 3, 0, 3, 0, 3, 1, 1, 4, 1, 3, 2, 4, 0, 0, 3, 4, 0, 3, 7, 3, 1, 1, 1, 0, 1, 1, 4, 1, 8, 0, 3, 4, 4, 7, 2, 3, 1, 4, 4, 4, 4, 1, 0, 9, 3, 1, 2, 7, 2, 1, 1, 0, 8, 1, 3, 7, 1, 1, 1, 1, 9, 7, 0, 2, 8, 1, 0, 4, 8, 1, 3, 0, 1, 3, 2, 4, 4, 1, 1, 0, 4, 4, 0, 1, 1, 9, 8, 1, 7, 8, 0, 3, 1, 8, 4, 4, 1, 1, 0, 9, 1, 0, 1, 3, 8, 9, 1, 2, 0, 1, 1, 9, 3, 8, 0, 4, 3, 2, 4, 0, 1, 1, 1, 3, 1, 3, 4, 2, 2, 4, 1, 4, 2, 4, 1, 1, 3, 1, 1, 3, 1, 1, 1, 1, 1, 1, 4, 1, 3, 2, 2, 2, 1, 3, 1, 1, 1, 4, 2, 1, 2, 2, 1, 1, 1, 3, 2, 4, 1, 2, 1, 4, 2, 1, 3, 1, 3, 3, 1, 1, 4, 4, 4, 1, 1, 1, 3, 3, 1, 4, 2, 4, 4, 4, 4, 2, 1, 3, 2, 1, 1, 4, 1, 2, 1, 1, 4, 3, 4, 2, 3, 2, 2, 2, 4, 3, 2, 1, 1, 2, 4, 3, 3, 1, 1, 2, 4, 4, 3, 1, 2, 3, 8, 2, 9, 3, 1, 8, 0, 9, 9, 0, 1, 1, 8, 8, 9, 0, 4, 0, 1, 7, 7, 8, 1, 3, 1, 3, 7, 0, 8, 0, 0, 0, 0, 9, 2, 1, 9, 0, 0, 8, 8, 0, 8, 7, 8, 8, 0, 9, 7, 7, 0, 4, 3, 3, 0, 8, 0, 9, 0, 8, 8, 0, 7, 8, 0, 8, 1, 7, 0, 9, 0, 3, 1, 1, 4, 1, 7, 8, 0, 7, 8, 1, 1, 2, 0, 7, 0, 4, 1, 7, 7, 3, 3, 3, 2, 0, 8, 9, 0, 0, 7, 7, 8, 7, 9, 8, 8, 0, 0, 9, 8, 8, 1, 0, 0, 9, 1, 0, 1, 0, 7, 9, 7, 0, 1, 0, 2, 8, 7, 8, 7, 8, 0, 2, 9, 8, 3, 1, 0, 2, 9, 7, 1, 8, 0, 2, 8, 0, 0, 7, 9, 4, 9, 0, 7, 1, 4, 9, 7, 1, 8, 8, 0, 0, 8, 0, 7, 0, 1, 8, 0, 7, 9, 0, 0, 0, 8, 0, 0, 0, 8, 0, 1, 0, 0, 8, 8, 1, 7, 3, 3, 8, 8, 7, 0, 1, 7, 8, 8, 0, 9, 7, 8, 7, 0, 1, 8, 0, 0, 4, 2, 4, 0, 8, 4, 9, 8, 0, 8, 0, 9, 7, 1, 0, 0, 3, 0, 8, 9, 9, 0, 0, 8, 8, 9, 1, 0, 7, 9, 0, 0, 8, 0, 9, 7, 0, 0, 9, 8, 3, 0, 0, 7, 0, 3, 8, 9, 9, 7, 0, 8, 0, 7, 8, 2, 2, 7, 8, 8, 4, 0, 8, 7, 8, 9, 1, 0, 0, 1, 9, 0, 8, 7, 8, 0, 1, 8, 1, 8, 0, 0, 0, 7, 7, 7, 8, 8, 7, 9, 2, 3, 0, 7, 9, 9, 7, 7, 9, 8, 8, 0, 0, 8, 0, 0, 1, 7, 4, 9, 9, 1, 9, 2, 8, 2, 0, 8, 9, 0, 1, 4, 0, 9, 7, 0, 9, 0, 0, 0, 9, 9, 0, 0, 0, 8, 7, 3, 1, 4, 7, 0, 7, 1, 9, 7, 2, 7, 2, 0, 2, 0, 0, 0, 0, 9, 8, 7, 0, 0, 9, 0, 8, 9, 2, 1, 8, 3, 0, 9, 0, 0, 9, 1, 8, 8, 0, 0, 8, 0, 0, 8, 0, 8, 0, 2, 3, 8, 2, 0, 0, 0, 0, 9, 7, 9, 9, 9, 9, 7, 0, 2, 4, 7, 0, 8, 8, 8, 4, 7, 4, 1, 0, 2, 0, 2, 0, 9, 8, 7, 1, 0, 4, 4, 0, 0, 0, 8, 1, 0, 3, 0, 0, 9, 0, 7, 4, 8, 0, 7, 9, 9, 0, 7, 0, 1, 0, 1, 8, 8, 4, 8, 7, 9, 4, 0, 7, 8, 9, 9, 0, 7, 3, 1, 0, 9, 9, 0, 4, 8, 0, 8, 8, 3, 8, 8, 3, 0, 9, 8, 9, 7, 0, 0, 0, 4, 3, 0, 7, 4, 7, 0, 0, 4, 4, 0, 4, 8, 1, 0, 0, 0, 9, 8, 1, 7, 0, 7, 7, 0, 8, 1, 1, 7, 8, 3, 7, 7, 0, 9, 0, 9, 8, 1, 3, 2, 1, 0, 9, 2, 1, 0, 7, 0, 0, 7, 7, 0, 8, 0, 1, 8, 0, 0, 8, 1, 0, 8, 7, 8, 8, 8, 7, 8, 0, 3, 8, 8, 1, 0, 3, 2, 9, 0, 7, 8, 2, 7, 1, 3, 8, 2, 0, 7, 1, 3, 8, 9, 8, 0, 9, 7, 9, 9, 9, 4, 2, 1, 8, 9, 1, 8, 0, 7, 8, 7, 8, 8, 9, 0, 1, 9, 0, 8, 0, 2, 8, 2, 1, 7, 0, 1, 8, 9, 2, 9, 0, 2, 8, 9, 4, 8, 7, 0, 8, 9, 3, 7, 0, 0, 1, 0, 0, 9, 7, 9, 3, 9, 0, 1, 3, 8, 0, 0, 0, 7, 9, 8, 0, 8, 0, 0, 0, 9, 8, 0, 4, 0, 0, 1, 4, 0, 8, 0, 7, 0, 8, 0, 4, 0, 0, 1, 8, 0, 0, 3, 3, 1, 1, 0, 0, 4, 0, 0, 9, 7, 0, 7, 9, 8, 0, 9, 3, 0, 7, 0, 4, 7, 8, 8, 8, 8, 3, 0, 0, 0, 0, 7, 7, 7, 0, 4, 4, 0, 0, 8, 1, 9, 7, 7, 7, 0, 0, 3, 8, 1, 3, 4, 9, 0, 7, 0, 0, 4, 9, 7, 8, 0, 7, 9, 9, 2, 7, 0, 0, 0, 0, 9, 0, 1, 0, 7, 1, 0, 9, 2, 3, 4, 1, 1, 8, 0, 3, 0, 0, 2, 0, 0, 8, 7, 0, 8, 3, 7, 8, 7, 8, 0, 7, 0, 1, 0, 8, 0, 0, 0, 0, 7, 0, 0, 7, 0, 7, 8, 7, 0, 1, 9, 8, 8, 2, 0, 2, 7, 0, 9, 0, 1, 9, 8, 0, 2, 0, 7, 9, 7, 9, 8, 8, 7, 8, 8, 9, 0, 1, 8, 7, 4, 7, 8, 2, 0, 4, 2, 3, 4, 3, 9, 3, 4, 2, 9, 4, 7, 3, 7, 0, 9, 8, 7, 9, 8, 3, 0, 7, 0, 8, 8, 7, 8, 8, 4, 0, 7, 0, 1, 4, 8, 0, 9, 3, 8, 9, 3, 8, 0, 7, 8, 0, 7, 1, 7, 7, 0, 0, 0, 0, 7, 9, 9, 4, 7, 0, 4, 8, 0, 0, 0, 0, 0, 0, 8, 8, 0, 0, 0, 0, 9, 0, 0, 1, 9, 8, 8, 1, 0, 0, 0, 7, 0, 0, 0, 4, 8, 4, 9, 0, 1, 0, 8, 0, 8, 0, 8, 7, 8, 0, 0, 9, 2, 0, 0, 3, 0, 0, 7, 8, 8, 9, 7, 3, 0, 0, 7, 1, 8, 7, 0, 9, 9, 8, 7, 8, 0, 9, 8, 7, 0, 0, 2, 9, 7, 0, 1, 4, 7, 0, 0, 2, 8, 0, 7, 9, 8, 0, 4, 9, 7, 0, 0, 8, 8, 4, 8, 0, 8, 8, 7, 4, 1, 8, 8, 7, 9, 8, 4, 2, 4, 7, 0, 1, 0, 0, 9, 0, 9, 0, 9, 0, 8, 1, 0, 0, 7, 0, 1, 8, 4, 0, 8, 9, 0, 8, 0, 7, 4, 0, 4, 7, 0, 7, 7, 7, 8, 0, 2, 9, 0, 0, 0, 8, 8, 1, 0, 9, 8, 0, 3, 0, 4, 3, 1, 0, 3, 8, 0, 1, 2, 1, 0, 7, 3, 1, 8, 4, 8, 8, 1, 0, 9, 7, 8, 1, 7, 0, 8, 7, 8, 2, 1, 2, 7, 8, 7, 8, 8, 4, 1, 8, 7, 7, 0, 0, 3, 0, 4, 0, 7, 8, 9, 0, 7, 8, 4, 0, 8, 7, 0, 0, 8, 8, 0, 8, 7, 9, 8, 8, 8, 2, 8, 9, 0, 8, 0, 0, 8, 4, 3, 8, 8, 7, 4, 3, 9, 0, 9, 0, 0, 8, 0, 4, 0, 7, 9, 7, 1, 8, 0, 1, 0, 0, 8, 9, 2, 8, 4, 3, 2, 0, 0, 9, 0, 0, 0, 1, 9, 8, 7, 0, 1, 9, 0, 0, 0, 9, 3, 0, 0, 8, 7, 0, 7, 0, 4, 7, 0, 3, 7, 9, 3, 8, 9, 4, 8, 7, 1, 2, 0, 0, 0, 7, 8, 3, 9, 1, 7, 9, 0, 1, 7, 0, 0, 9, 1, 9, 0, 9, 4, 0, 0, 8, 0, 1, 9, 1, 9, 8, 9, 7, 1, 4, 8, 9, 2, 8, 0, 0, 8, 8, 4, 0, 0, 8, 9, 0, 8, 1, 0, 0, 2, 4, 8, 9, 0, 0, 0, 8, 9, 7, 8, 1, 1, 8, 1, 8, 2, 8, 8, 4, 1, 8, 8, 0, 3, 1, 8, 0, 1, 7, 1, 0, 0, 7, 3, 8, 1, 9, 0, 4, 2, 0, 8, 0, 8, 8, 8, 4, 0, 8, 7, 7, 0, 0, 8, 1, 7, 4, 7, 9, 7, 0, 3, 8, 2, 0, 3, 0, 1, 0, 2, 0, 9, 7, 9, 1, 9, 1, 8, 9, 2, 0, 7, 8, 0, 0, 8, 7, 2, 1, 0, 9, 0, 8, 8, 9, 8, 0, 9, 9, 7, 1, 4, 0, 7, 9, 1, 8, 1, 9, 4, 4, 0, 8, 0, 4, 9, 8, 9, 7, 0, 9, 2, 0, 0, 1, 7, 0, 9, 8, 0, 0, 7, 0, 0, 0, 8, 7, 8, 9, 9, 8, 9, 1, 7, 9, 0, 9, 0, 8, 8, 8, 0, 0, 1, 0, 8, 3, 2, 8, 0, 3, 9, 8, 9, 9, 0, 1, 8, 9, 4, 8, 1, 7, 8, 8, 0, 8, 0, 0, 9, 8, 0, 8, 8, 9, 1, 4, 7, 4, 0, 0, 0, 1, 4, 8, 0, 7, 9, 7, 1, 8, 9, 1, 4, 7, 2, 0, 0, 0, 9, 3, 2, 8, 0, 8, 4, 0, 8, 1, 0, 7, 8, 2, 0, 0, 2, 2, 0, 8, 0, 0, 8, 8, 0, 0, 8, 0, 9, 7, 3, 0, 0, 7, 0, 1, 0, 9, 1, 4, 9, 8, 1, 0, 7, 4, 8, 0, 3, 2, 0, 0, 0, 4, 7, 8, 0, 0, 8, 1, 0, 7, 4, 0, 7, 7, 1, 8, 0, 8, 1, 8, 4, 3, 8, 8, 7, 0, 1, 0, 1, 3, 8, 8, 8, 9, 0, 8, 8, 0, 0, 4, 4, 7, 0, 7, 0, 9, 9, 0, 0, 9, 0, 9, 9, 8, 7, 7, 7, 7, 4, 8, 0, 2, 0, 1, 0, 4, 9, 0, 9, 0, 0, 7, 0, 7, 0, 8, 0, 1, 9, 7, 0, 8, 9, 7, 0, 3, 3, 8, 8, 7, 0, 7, 0, 9, 2, 8, 0, 7, 8, 0, 0, 4, 7, 7, 0, 1, 9, 2, 2, 8, 9, 7, 1, 0, 2, 0, 8, 0, 8, 1, 8, 0, 3, 0, 0, 1, 8, 2, 7, 0, 1, 0, 2, 3, 0, 0, 1, 0, 9, 7, 8, 1, 0, 7, 7, 3, 8, 8, 8, 1, 9, 0, 2, 8, 1, 9, 8, 7, 9, 9, 0, 9, 4, 2, 7, 1, 7, 4, 8, 0, 1, 2, 0, 0, 3, 1, 7, 8, 8, 0, 4, 0, 1, 9, 7, 1, 9, 7, 7, 9, 8, 9, 7, 0, 4, 9, 0, 0, 0, 4, 0, 1, 7, 2, 2, 0, 0, 9, 7, 8, 3, 4, 8, 2, 0, 2, 8, 0, 1, 0, 8, 0, 9, 7, 8, 8, 0, 8, 9, 1, 0, 7, 4, 7, 0, 7, 8, 7, 7, 4, 7, 1, 0, 7, 1, 9, 1, 7, 8, 2, 9, 9, 7, 2, 7, 9, 0, 0, 0, 0, 0, 8, 4, 1, 0, 4, 9, 0, 3, 7, 0, 1, 0, 4, 7, 0, 7, 8, 9, 0, 8, 0, 0, 1, 8, 0, 8, 9, 1, 8, 0, 8, 9, 1, 8, 3, 9, 3, 0, 0, 8, 0, 1, 0, 1, 9, 4, 2, 7, 0, 3, 8, 8, 0, 0, 8, 7, 0, 0, 2, 0, 1, 4, 0, 7, 0, 1, 0, 1, 7, 1, 0, 7, 0, 7, 9, 0, 0, 1, 8, 1, 2, 1, 8, 0, 0, 7, 7, 1, 0, 4, 9, 8, 0, 7, 7, 8, 8, 1, 8, 7, 8, 0, 0, 9, 0, 0, 1, 2, 8, 8, 0, 0, 8, 0, 0, 9, 0, 7, 0, 7, 9, 0, 0, 8, 9, 7, 0, 2, 1, 4, 9, 0, 0, 0, 8, 1, 1, 3, 0, 7, 0, 8, 4, 4, 1, 7, 1, 0, 7, 7, 1, 7, 8, 8, 0, 0, 8, 8, 0, 1, 0, 4, 4, 9, 3, 9, 0, 9, 0, 7, 1, 3, 2, 3, 8, 0, 9, 1, 0, 7, 4, 0, 0, 7, 9, 8, 8, 0, 0, 4, 2, 8, 1, 3, 0, 0, 7, 0, 7, 1, 0, 7, 0, 3, 7, 9, 9, 3, 0, 0, 2, 0, 7, 0, 8, 8, 0, 8, 0, 7, 8, 1, 7, 8, 1, 7, 7, 4, 9, 8, 2, 9, 3, 8, 8, 1, 2, 8, 4, 2, 1, 9, 7, 0, 9, 0, 1, 1, 0, 0, 8, 8, 0, 0, 7, 4, 0, 9, 4, 0, 3, 3, 1, 8, 8, 9, 9, 0, 1, 7, 0, 0, 7, 2, 8, 0, 0, 9, 1, 1, 2, 8, 4, 0, 4, 9, 9, 3, 2, 1, 9, 2, 1, 2, 9, 9, 7, 9, 9, 4, 7, 1, 9, 7, 9, 1, 7, 1, 8, 7, 7, 0, 0, 7, 7, 8, 8, 1, 8, 7, 8, 0, 2, 2, 7, 9, 7, 1, 9, 0, 1, 8, 2, 8, 1, 2, 9, 3, 1, 2, 8, 3, 1, 9, 0, 8, 7, 4, 0, 1, 2, 8, 0, 3, 1, 7, 0, 0, 1, 4, 4, 1, 7, 2, 0, 7, 8, 7, 7, 7, 1, 0, 0, 0, 7, 1, 2, 1, 0, 8, 9, 9, 4, 8, 1, 0, 1, 8, 8, 0, 8, 8, 1, 7, 0, 0, 1, 7, 9, 3, 1, 0, 0, 2, 7, 2, 0, 8, 8, 7, 1, 1, 7, 8, 0, 7, 7, 9, 1, 1, 2, 7, 0, 9, 7, 4, 9, 0, 8, 8, 7, 7, 4, 9, 7, 0, 9, 7, 7, 7, 0, 7, 8, 2, 9, 0, 3, 8, 0, 4, 4, 2, 7, 0, 3, 2, 0, 4, 0, 7, 8, 1, 7, 0, 3, 0, 8, 7, 3, 8, 4, 1, 1, 9, 7, 1, 3, 1, 4, 3, 0, 9, 7, 9, 1, 0, 8, 7, 0, 7, 0, 7, 1, 4, 8, 8, 8, 8, 0, 8, 0, 3, 7, 0, 3, 1, 2, 8, 1, 1, 0, 9, 8, 3, 7, 7, 1, 8, 7, 0, 7, 1, 1, 0, 0, 0, 3, 9, 7, 0, 8, 7, 7, 1, 8, 7, 1, 2, 8, 9, 8, 0, 4, 0, 8, 7, 8, 8, 0, 9, 7, 8, 9, 2, 4, 7, 8, 2, 1, 7, 0, 7, 8, 1, 1, 0, 9, 8, 0, 7, 8, 7, 8, 8, 7, 7, 7, 0, 0, 0, 2, 0, 9, 0, 0, 7, 0, 0, 3, 7, 3, 0, 9, 9, 8, 0, 7, 1, 0, 8, 0, 9, 7, 8, 0, 9, 8, 9, 9, 4, 1, 0, 0, 7, 2, 0, 4, 8, 9, 7, 1, 0, 8, 3, 9, 0, 0, 0, 9, 1, 8, 0, 8, 0, 0, 0, 8, 7, 3, 9, 2, 9, 9, 7, 0, 7, 8, 1, 7, 9, 4, 8, 9, 3, 2, 1, 7, 9, 0, 9, 0, 3, 1, 9, 1, 4, 2, 2, 7, 0, 1, 0, 8, 0, 8, 7, 2, 8, 8, 7, 1, 0, 2, 1, 0, 3, 0, 0, 0, 3, 7, 7, 0, 9, 1, 9, 0, 8, 9, 0, 8, 1, 7, 9, 7, 0, 2, 1, 2, 2, 1, 4, 1, 8, 8, 4, 9, 0, 0, 9, 0, 7, 7, 0, 0, 0, 4, 7, 1, 7, 0, 1, 3, 3, 8, 2, 0, 9, 3, 8, 0, 7, 8, 0, 0, 0, 8, 0, 3, 7, 9, 7, 7, 8, 8, 0, 8, 4, 9, 0, 7, 3, 9, 0, 4, 0, 4, 2, 3, 2, 8, 8, 0, 4, 9, 9, 0, 2, 4, 2, 2, 4, 7, 0, 4, 1, 7, 7, 8, 2, 8, 8, 0, 0, 9, 1, 1, 0, 2, 8, 9, 2, 9, 4, 3, 2, 9, 7, 9, 0, 9, 0, 1, 0, 7, 8, 8, 2, 4, 0, 0, 9, 8, 7, 7, 7, 8, 1, 1, 7, 3, 1, 0, 0, 8, 0, 8, 0, 0, 7, 7, 3, 0, 1, 0, 0, 3, 8, 3, 1, 3, 7, 0, 7, 9, 4, 0, 8, 3, 3, 1, 0, 0, 1, 0, 3, 0, 0, 0, 0, 7, 8, 4, 2, 7, 0, 9, 0, 0, 8, 1, 9, 8, 8, 2, 3, 0, 8, 9, 9, 0, 8, 3, 8, 8, 3, 7, 9, 9, 8, 0, 9, 4, 1, 9, 8, 4, 1, 0, 1, 8, 7, 9, 8, 8, 0, 1, 8, 0, 3, 9, 0, 2, 9, 1, 8, 8, 0, 0, 7, 2, 8, 9, 0, 0, 1, 0, 7, 0, 8, 8, 8, 1, 3, 1, 7, 1, 8, 0, 9, 1, 8, 7, 0, 8, 9, 9, 2, 7, 8, 2, 1, 2, 1, 0, 8, 7, 0, 8, 2, 1, 0, 9, 1, 4, 7, 9, 9, 0, 7, 0, 0, 7, 9, 4, 8, 7, 0, 0, 8, 0, 9, 3, 4, 1, 7, 8, 8, 0, 0, 9, 9, 9, 8, 1, 7, 7, 0, 8, 0, 8, 8, 9, 9, 4, 3, 7, 1, 7, 9, 7, 1, 8, 9, 0, 0, 8, 2, 8, 2, 0, 9, 0, 1, 8, 8, 4, 9, 1, 0, 8, 9, 2, 7, 8, 7, 7, 3, 7, 8, 0, 8, 4, 9, 9, 4, 8, 9, 2, 7, 0, 0, 9, 9, 0, 8, 0, 7, 8, 7, 1, 0, 4, 0, 8, 7, 2, 0, 9, 8, 1, 1, 0, 1, 9, 8, 7, 8, 3, 7, 1, 0, 8, 0, 9, 7, 7, 4, 8, 1, 1, 0, 8, 3, 8, 4, 0, 3, 9, 0, 8, 3, 2, 8, 0, 1, 9, 0, 0, 7, 0, 0, 8, 8, 0, 8, 2, 7, 0, 8, 4, 0, 1, 0, 9, 3, 7, 4, 1, 3, 0, 7, 8, 1, 8, 1, 7, 3, 9, 1, 9, 8, 2, 0, 8, 9, 7, 0, 0, 0, 0, 8, 0, 8, 1, 4, 9, 8, 0, 9, 1, 0, 1, 4, 0, 0, 0, 1, 0, 2, 0, 7, 8, 7, 0, 7, 2, 2, 1, 3, 0, 9, 0, 0, 8, 4, 0, 0, 7, 7, 0, 7, 3, 2, 0, 0, 1, 0, 0, 4, 8, 1, 1, 7, 0, 0, 3, 1, 2, 1, 0, 9, 0, 2, 7, 7, 8, 0, 1, 0, 9, 7, 7, 0, 0, 2, 0, 8, 8, 0, 4, 3, 0, 8, 0, 9, 8, 1, 8, 9, 9, 7, 7, 0, 0, 0, 9, 0, 1, 0, 9, 1, 8, 1, 3, 0, 0, 0, 1, 9, 3, 9, 2, 9, 0, 9, 9, 9, 7, 1, 8, 3, 0, 7, 9, 1, 8, 8, 3, 8, 9, 0, 0, 7, 9, 4, 8, 0, 9, 0, 0, 0, 0, 0, 2, 9, 0, 3, 8, 0, 8, 7, 7, 0, 4, 4, 9, 0, 0, 8, 3, 4, 0, 7, 1, 2, 0, 2, 8, 0, 1, 0, 9, 1, 0, 7, 0, 8, 0, 0, 0, 7, 9, 9, 9, 8, 8, 8, 4, 1, 1, 7, 8, 7, 7, 0, 0, 8, 8, 8, 0, 2, 9, 8, 9, 0, 8, 8, 7, 7, 0, 7, 2, 0, 0, 9, 9, 0, 2, 7, 7, 0, 0, 7, 8, 0, 0, 7, 0, 7, 7, 7, 1, 0, 9, 0, 0, 9, 4, 0, 4, 3, 0, 0, 1, 9, 7, 9, 1, 0, 8, 0, 9, 0, 0, 0, 8, 0, 8, 4, 0, 0, 0, 7, 7, 1, 9, 1, 9, 8, 9, 4, 9, 7, 0, 8, 0, 2, 9, 8, 9, 8, 3, 9, 9, 8, 0, 8, 7, 1, 0, 9, 7, 9, 9, 9, 4, 7, 3, 8, 8, 1, 3, 0, 1, 1, 8, 0, 0, 7, 3, 0, 7, 7, 0, 8, 1, 2, 8, 0, 9, 8, 7, 8, 0, 7, 0, 0, 8, 0, 8, 8, 8, 0, 4, 9, 9, 0, 8, 9, 0, 1, 8, 1, 0, 8, 0, 1, 9, 8, 4, 8, 0, 8, 8, 1, 8, 8, 1, 9, 8, 8, 0, 8, 7, 1, 1, 2, 0, 7, 8, 7, 1, 1, 0, 1, 9, 8, 0, 8, 9, 1, 8, 1, 4, 9, 0, 7, 8, 1, 0, 0, 7, 7, 3, 0, 8, 0, 0, 2, 2, 8, 0, 2, 4, 0, 8, 8, 9, 9, 7, 9, 4, 3, 4, 8, 7, 7, 0, 7, 9, 9, 0, 8, 0, 2, 8, 8, 7, 8, 7, 3, 3, 0, 0, 0, 0, 9, 4, 9, 0, 9, 7, 1, 8, 7, 0, 1, 9, 8, 1, 8, 1, 1, 1, 9, 0, 0, 8, 0, 0, 0, 0, 0, 8, 8, 3, 9, 1, 9, 8, 0, 8, 9, 8, 8, 7, 4, 7, 8, 9, 7, 8, 1, 7, 0, 8, 1, 0, 0, 0, 7, 8, 0, 8, 9, 9, 0, 1, 9, 3, 0, 0, 4, 1, 0, 7, 9, 0, 7, 9, 8, 1, 4, 7, 9, 0, 0, 9, 1, 0, 8, 0, 0, 7, 0, 1, 1, 1, 9, 9, 7, 4, 0, 3, 7, 8, 8, 8, 9, 9, 0, 8, 8, 9, 8, 7, 0, 1, 0, 8, 0, 1, 8, 8, 8, 0, 9, 0, 8, 0, 7, 8, 9, 7, 3, 0, 0, 7, 1, 9, 0, 0, 0, 0, 9, 8, 1, 1, 7, 0, 7, 0, 7, 4, 7, 0, 7, 0, 7, 4, 0, 8, 0, 2, 7, 8, 8, 4, 0, 1, 8, 4, 0, 0, 8, 9, 0, 0, 8, 1, 0, 0, 9, 1, 0, 1, 9, 8, 7, 7, 8, 0, 8, 7, 1, 8, 7, 0, 8, 8, 0, 0, 8, 1, 0, 0, 8, 0, 8, 0, 9, 9, 0, 1, 0, 7, 7, 0, 9, 0, 0, 0, 9, 9, 0, 8, 7, 8, 0, 8, 0, 1, 8, 0, 9, 0, 0, 9, 0, 7, 7, 3, 1, 3, 0, 7, 1, 1, 7, 0, 8, 8, 9, 8, 7, 9, 0, 0, 9, 8, 8, 0, 1, 4, 7, 0, 3, 7, 0, 2, 0, 8, 7, 9, 8, 9, 9, 0, 0, 7, 7, 0, 7, 8, 1, 8, 8, 0, 0, 8, 1, 8, 0, 7, 7, 7, 9, 2, 9, 0, 0, 0, 7, 0, 7, 0, 7, 1, 1, 2, 9, 7, 8, 0, 7, 0, 9, 0, 9, 9, 4, 7, 0, 9, 4, 1, 3, 9, 1, 2, 1, 0, 9, 0, 0, 0, 1, 9, 0, 9, 8, 4, 9, 0, 0, 0, 1, 2, 0, 7, 0, 0, 0, 8, 0, 0, 0, 8, 1, 8, 8, 8, 9, 7, 1, 3, 9, 3, 8, 9, 0, 1, 0, 7, 0, 9, 8, 9, 0, 0, 0, 8, 1, 7, 0, 0, 0, 8, 0, 8, 9, 2, 0, 3, 0, 9, 1, 8, 7, 8, 8, 7, 0, 8, 1, 4, 9, 9, 1, 2, 8, 8, 8, 7, 8, 9, 8, 0, 0, 1, 7, 1, 0, 9, 7, 0, 0, 0, 0, 9, 8, 9, 8, 4, 2, 0, 1, 0, 2, 7, 1, 1, 0, 7, 9, 2, 1, 0, 1, 0, 8, 1, 7, 4, 4, 1, 4, 1, 9, 8, 9, 9, 4, 7, 1, 7, 4, 8, 9, 0, 7, 3, 7, 7, 0, 1, 2, 1, 1, 7, 7, 8, 0, 9, 1, 8, 8, 2, 1, 0, 1, 9, 0, 0, 0, 9, 9, 0, 9, 2, 1, 8, 1, 7, 8, 1, 7, 3, 7, 8, 1, 1, 3, 7, 2, 0, 1, 0, 3, 8, 4, 7, 2, 9, 9, 7, 2, 4, 0, 1, 1, 1, 0, 8, 7, 0, 0, 3, 3, 8, 0, 9, 1, 9, 7, 0, 0, 8, 1, 8, 9, 0, 9, 4, 1, 1, 7, 0, 8, 7, 1, 7, 7, 0, 1, 1, 0, 2, 8, 0, 0, 1, 3, 7, 4, 0, 2, 7, 3, 0, 8, 7, 4, 2, 0, 1, 9, 1, 8, 7, 1, 3, 2, 2, 2, 7, 0, 0, 0, 3, 0, 1, 1, 2, 0, 1, 8, 3, 1, 8, 1, 9, 7, 3, 3, 4, 1, 8, 4, 0, 0, 8, 1, 4, 7, 0, 9, 0, 8, 0, 9, 1, 7, 7, 7, 0, 8, 3, 8, 7, 1, 8, 2, 0, 7, 0, 9, 7, 8, 7, 3, 8, 3, 7, 8, 9, 7, 0, 0, 1, 3, 7, 2, 0, 1, 1, 8, 8, 0, 7, 0, 2, 0, 0, 9, 8, 0, 8, 8, 2, 8, 0, 1, 0, 8, 8, 7, 7, 0, 9, 7, 1, 8, 9, 8, 0, 9, 9, 0, 0, 9, 1, 0, 7, 4, 0, 3, 7, 8, 0, 9, 0, 0, 7, 0, 3, 8, 1, 8, 9, 8, 0, 1, 8, 1, 0, 8, 8, 7, 2, 0, 0, 9, 9, 8, 2, 8, 0, 0, 0, 1, 3, 1, 0, 8, 9, 7, 0, 2, 8, 2, 7, 2, 1, 0, 0, 0, 1, 7, 2, 2, 8, 7, 2, 8, 9, 2, 7, 2, 3, 8, 0, 8, 3, 8, 0, 9, 1, 0, 9, 0, 2, 8, 4, 3, 8, 8, 0, 0, 7, 9, 9, 0, 1, 7, 0, 8, 1, 0, 3, 9, 1, 2, 3, 4, 0, 9, 0, 7, 1, 2, 7, 1, 0, 3, 8, 0, 0, 0, 0, 4, 1, 9, 1, 0, 8, 9, 8, 3, 0, 2, 9, 7, 7, 7, 8, 0, 4, 8, 8, 9, 0, 8, 1, 7, 3, 1, 8, 9, 8, 1, 3, 7, 7, 7, 0, 1, 8, 8, 9, 9, 7, 8, 8, 7, 9, 2, 8, 9, 8, 8, 8, 8, 3, 7, 4, 8, 8, 7, 0, 9, 9, 9, 1, 0, 7, 9, 9, 9, 2, 0, 0, 0, 7, 0, 1, 9, 7, 0, 4, 9, 1, 8, 7, 0, 7, 8, 7, 0, 8, 9, 7, 8, 4, 9, 0, 7, 8, 1, 0, 8, 3, 0, 9, 7, 9, 1, 3, 8, 0, 9, 7, 7, 4, 7, 7, 0, 9, 8, 7, 3, 0, 9, 7, 8, 7, 8, 9, 0, 8, 0, 0, 0, 8, 7, 7, 7, 2, 0, 8, 1, 9, 9, 9, 8, 7, 0, 8, 8, 9, 1, 1, 8, 0, 8, 8, 0, 8, 0, 9, 3, 7, 9, 9, 9, 1, 4, 0, 7, 1, 9, 7, 8, 1, 9, 2, 1, 2, 7, 9, 7, 7, 8, 3, 1, 7, 3, 0, 0, 8, 8, 0, 8, 7, 9, 1, 7, 1, 3, 7, 8, 2, 0, 7, 3, 2, 1, 4, 8, 7, 0, 0, 7, 0, 7, 0, 0, 8, 1, 9, 9, 0, 0, 0, 2, 7, 2, 8, 9, 0, 8, 0, 0, 7, 0, 9, 1, 8, 0, 7, 8, 9, 9, 8, 7, 7, 9, 0, 9, 7, 1, 8, 8, 7, 9, 8, 9, 0, 8, 7, 9, 8, 0, 9, 7, 8, 8, 9, 7, 0, 9, 7, 0, 1, 9, 0, 0, 8, 3, 0, 0, 7, 9, 9, 9, 0, 8, 8, 1, 1, 7, 8, 8, 9, 7, 8, 1, 7, 0, 0, 0, 0, 9, 7, 1, 8, 1, 8, 8, 7, 0, 9, 9, 8, 0, 8, 8, 0, 9, 7, 0, 9, 8, 3, 1, 7, 9, 9, 0, 3, 1, 2, 0, 0, 0, 9, 7, 7, 8, 3, 9, 0, 0, 0, 3, 9, 8, 2, 0, 0, 9, 0, 9, 9, 0, 1, 0, 0, 8, 4, 8, 9, 1, 7, 0, 8, 0, 7, 7, 8, 0, 8, 8, 1, 0, 0, 2, 8, 7, 8, 7, 0, 0, 7, 3, 8, 9, 0, 0, 8, 0, 3, 3, 8, 1, 9, 0, 7, 4, 8, 0, 7, 8, 1, 8, 8, 9, 8, 0, 7, 7, 2, 8, 3, 4, 8, 7, 0, 7, 8, 7, 7, 1, 9, 8, 0, 1, 9, 9, 9, 0, 0, 8, 7, 1, 0, 7, 4, 1, 0, 7, 4, 1, 1, 1, 9, 7, 7, 4, 8, 8, 1, 8, 1, 0, 1, 0, 0, 8, 7, 0, 4, 8, 0, 4, 7, 0, 0, 9, 8, 2, 3, 0, 2, 8, 8, 8, 7, 9, 4, 3, 0, 9, 1, 7, 2, 8, 9, 0, 2, 1, 0, 8, 3, 1, 8, 0, 9, 7, 8, 9, 9, 0, 8, 9, 9, 1, 9, 9, 9, 0, 0, 0, 7, 0, 4, 0, 1, 7, 0, 0, 0, 0, 2, 0, 7, 0, 8, 7, 8, 1, 2, 3, 7, 0, 7, 0, 9, 1, 8, 1, 0, 3, 7, 3, 0, 8, 1, 0, 8, 4, 0, 7, 9, 9, 2, 2, 1, 0, 0, 2, 0, 7, 0, 9, 8, 4, 0, 0, 4, 2, 0, 0, 7, 0, 1, 4, 9, 1, 9, 8, 9, 4, 7, 8, 9, 8, 1, 8, 4, 0, 1, 1, 7, 7, 7, 8, 9, 8, 8, 9, 7, 0, 9, 1, 8, 9, 8, 8, 7, 0, 7, 2, 1, 7, 8, 9, 8, 0, 1, 4, 0, 8, 1, 0, 0, 2, 8, 8, 0, 1, 1, 0, 3, 0, 9, 7, 8, 7, 0, 2, 0, 4, 0, 8, 8, 1, 0, 1, 7, 0, 1, 0, 2, 8, 8, 0, 8, 0, 2, 8, 7, 0, 9, 7, 9, 8, 7, 8, 0, 0, 0, 2, 1, 0, 8, 7, 0, 9, 8, 9, 0, 9, 9, 7, 0, 8, 0, 2, 1, 9, 2, 9, 0, 7, 9, 8, 0, 9, 0, 0, 0, 0, 8, 0, 9, 9, 0, 0, 0, 9, 0, 4, 8, 9, 8, 7, 1, 8, 0, 0, 9, 7, 9, 1, 9, 0, 0, 0, 1, 9, 0, 2, 8, 3, 8, 0, 8, 0, 8, 1, 8, 8, 7, 8, 0, 0, 9, 8, 3, 0, 0, 8, 0, 9, 1, 7, 9, 7, 1, 9, 0, 8, 8, 0, 0, 0, 0, 7, 8, 1, 0, 1, 8, 8, 1, 0, 8, 9, 7, 1, 0, 3, 8, 1, 9, 3, 0, 9, 1, 8, 9, 0, 7, 7, 1, 9, 9, 7, 8, 0, 0, 0, 9, 0, 7, 0, 9, 7, 0, 9, 9, 7, 2, 8, 0, 8, 8, 8, 7, 8, 7, 1, 1, 8, 1, 0, 8, 0, 0, 1, 0, 4, 7, 9, 7, 0, 0, 0, 9, 1, 8, 3, 9, 8, 8, 2, 7, 8, 2, 7, 0, 7, 1, 0, 7, 7, 9, 0, 8, 9, 0, 0, 9, 3, 1, 0, 0, 4, 0, 8, 0, 0, 8, 7, 3, 0, 0, 0, 1, 0, 1, 7, 1, 0, 9, 3, 7, 7, 7, 9, 0, 0, 0, 8, 8, 0, 0, 8, 0, 1, 7, 1, 0, 8, 7, 7, 3, 8, 7, 0, 0, 8, 0, 8, 9, 0, 1, 0, 3, 0, 1, 7, 7, 0, 0, 0, 3, 8, 7, 7, 0, 0, 8, 1, 9, 7, 8, 8, 7, 9, 9, 0, 0, 7, 8, 0, 3, 8, 1, 7, 9, 3, 0, 0, 8, 7, 1, 0, 3, 1, 9, 4, 0, 8, 0, 1, 1, 8, 4, 0, 1, 0, 7, 0, 0, 3, 0, 7, 4, 7, 8, 0, 7, 7, 0, 8, 8, 0, 3, 0, 8, 9, 0, 7, 0, 4, 0, 9, 1, 0, 0, 0, 8, 8, 9, 9, 8, 9, 0, 7, 0, 4, 0, 0, 7, 7, 3, 4, 1, 1, 3, 0, 9, 7, 0, 7, 0, 2, 0, 0, 7, 9, 9, 0, 0, 7, 0, 0, 9, 0, 1, 9, 0, 4, 0, 0, 1, 0, 8, 8, 0, 8, 9, 0, 0, 4, 0, 1, 0, 7, 8, 3, 0, 0, 9, 3, 8, 0, 9, 1, 8, 1, 8, 0, 0, 0, 8, 0, 7, 0, 0, 9, 2, 9, 7, 9, 0, 0, 7, 9, 8, 4, 7, 0, 0, 0, 7, 3, 4, 9, 8, 2, 8, 0, 0, 8, 8, 8, 8, 9, 1, 8, 9, 0, 8, 0, 0, 0, 8, 4, 9, 9, 8, 8, 8, 1, 1, 0, 0, 7, 0, 8, 8, 1, 9, 0, 8, 9, 8, 0, 0, 1, 7, 8, 8, 2, 0, 8, 0, 0, 0, 0, 3, 0, 4, 0, 8, 0, 0, 0, 0, 3, 8, 8, 0, 0, 1, 8, 0, 7, 0, 2, 9, 7, 9, 0, 7, 1, 1, 9, 8, 0, 0, 9, 9, 2, 3, 8, 7, 0, 1, 2, 2, 0, 1, 9, 1, 7, 0, 8, 7, 1, 7, 9, 1, 0, 3, 0, 7, 3, 1, 1, 4, 1, 0, 9, 0, 0, 0, 7, 0, 1, 0, 8, 4, 8, 0, 0, 0, 1, 0, 0, 7, 8, 8, 1, 0, 7, 0, 9, 0, 0, 8, 7, 8, 9, 7, 0, 8, 1, 8, 9, 0, 9, 8, 0, 1, 9, 8, 1, 8, 0, 8, 3, 9, 0, 8, 8, 8, 0, 7, 8, 0, 8, 7, 9, 9, 9, 8, 0, 4, 0, 7, 8, 4, 8, 9, 9, 0, 8, 0, 8, 9, 0, 4, 9, 0, 0, 0, 8, 7, 2, 8, 9, 7, 1, 7, 3, 0, 9, 2, 2, 9, 7, 9, 7, 0, 9, 1, 1, 7, 4, 8, 0, 8, 4, 7, 8, 3, 0, 7, 3, 1, 8, 3, 0, 9, 9, 7, 8, 8, 7, 7, 3, 0, 2, 0, 7, 9, 1, 8, 8, 7, 0, 8, 7, 7, 0, 9, 4, 1, 7, 1, 4, 8, 0, 7, 2, 7, 3, 0, 1, 2, 8, 7, 0, 9, 8, 7, 7, 1, 9, 0, 0, 1, 8, 9, 8, 4, 2, 1, 1, 3, 7, 9, 0, 7, 2, 8, 9, 3, 8, 9, 9, 8, 8, 7, 8, 4, 7, 0, 4, 0, 7, 8, 8, 9, 3, 9, 4, 0, 1, 0, 7, 0, 8, 9, 9, 8, 3, 8, 8, 3, 8, 8, 1, 2, 0, 0, 0, 7, 0, 4, 9, 3, 7, 7, 3, 9, 8, 9, 8, 8, 1, 9, 8, 9, 3, 9, 7, 7, 8, 7, 2, 9, 3, 1, 8, 0, 7, 8, 0, 8, 0, 0, 9, 0, 2, 0, 9, 1, 0, 0, 0, 3, 3, 7, 3, 2, 8, 8, 9, 8, 7, 9, 0, 0, 8, 4, 9, 3, 9, 0, 8, 0, 8, 8, 7, 2, 8, 1, 8, 7, 0, 8, 3, 8, 8, 7, 3, 7, 4, 7, 8, 8, 7, 9, 8, 1, 0, 7, 0, 0, 7, 9, 8, 2, 0, 2, 1, 7, 8, 0, 2, 8, 9, 1, 1, 0, 7, 9, 0, 7, 0, 4, 8, 0, 0, 0, 0, 8, 8, 9, 8, 8, 3, 8, 4, 9, 0, 0, 7, 7, 9, 7, 0, 0, 2, 0, 0, 0, 8, 9, 7, 8, 9, 1, 0, 4, 7, 7, 4, 0, 1, 9, 7, 7, 1, 1, 9, 1, 0, 0, 9, 7, 9, 7, 0, 9, 7, 8, 0, 0, 7, 9, 4, 0, 8, 1, 7, 8, 7, 9, 0, 7, 1, 9, 9, 7, 0, 8, 4, 7, 1, 7, 7, 9, 4, 7, 0, 3, 9, 8, 0, 4, 8, 9, 0, 0, 8, 1, 8, 8, 3, 3, 7, 0, 2, 0, 0, 0, 8, 7, 1, 7, 9, 0, 0, 0, 0, 8, 0, 9, 0, 0, 0, 8, 8, 0, 2, 7, 2, 7, 0, 8, 9, 0, 0, 3, 8, 7, 0, 1, 7, 0, 1, 8, 1, 9, 8, 2, 0, 4, 9, 4, 7, 7, 0, 7, 9, 8, 7, 3, 0, 8, 3, 1, 9, 1, 7, 8, 2, 0, 3, 8, 1, 9, 3, 4, 0, 1, 7, 7, 8, 9, 7, 9, 4, 9, 0, 0, 9, 7, 7, 7, 8, 8, 9, 7, 0, 3, 8, 0, 7, 7, 0, 4, 4, 0, 9, 7, 0, 9, 0, 8, 1, 0, 8, 0, 1, 2, 8, 0, 9, 0, 2, 0, 7, 0, 0, 9, 1, 1, 1, 2, 8, 0, 8, 0, 4, 0, 7, 3, 1, 9, 7, 7, 3, 9, 9, 8, 0, 9, 0, 9, 8, 7, 9, 9, 9, 1, 9, 0, 7, 7, 0, 8, 7, 1, 1, 0, 9, 2, 7, 2, 0, 7, 0, 7, 2, 1, 2, 8, 8, 0, 8, 0, 8, 0, 0, 0, 9, 0, 0, 8, 9, 0, 0, 7, 9, 8, 1, 2, 0, 7, 0, 4, 9, 4, 8, 1, 0, 0, 0, 7, 4, 9, 0, 8, 8, 7, 9, 0, 3, 1, 7, 1, 1, 0, 0, 0, 0, 2, 7, 0, 7, 9, 1, 8, 0, 0, 0, 4, 9, 0, 8, 7, 9, 9, 8, 1, 1, 4, 9, 1, 4, 0, 1, 8, 9, 9, 0, 0, 2, 9, 0, 8, 9, 7, 9, 1, 3, 0, 0, 7, 0, 4, 4, 7, 8, 1, 0, 0, 0, 8, 1, 8, 0, 2, 8, 9, 9, 1, 2, 7, 7, 0, 3, 1, 3, 0, 7, 2, 7, 3, 0, 0, 4, 7, 0, 0, 2, 1, 7, 4, 0, 0, 7, 1, 0, 0, 1, 3, 9, 7, 0, 7, 7, 7, 7, 9, 0, 1, 0, 8, 8, 0, 8, 0, 9, 0, 9, 2, 9, 7, 0, 9, 8, 2, 7, 7, 0, 0, 8, 9, 0, 7, 0, 9, 0, 0, 0, 1, 9, 8, 7, 7, 7, 0, 9, 9, 1, 8, 8, 8, 9, 0, 8, 3, 9, 1, 3, 3, 8, 1, 9, 0, 7, 8, 1, 3, 4, 0, 9, 8, 0, 8, 1, 9, 0, 8, 0, 0, 0, 7, 9, 0, 8, 0, 0, 9, 0, 3, 7, 9, 0, 9, 2, 0, 0, 2, 4, 4, 0, 4, 8, 1, 9, 8, 7, 2, 0, 0, 0, 1, 9, 8, 3, 7, 0, 0, 9, 1, 8, 4, 0, 1, 0, 0, 1, 4, 1, 0, 8, 8, 0, 1, 4, 8, 8, 7, 7, 4, 7, 0, 0, 0, 0, 8, 9, 0, 9, 0, 4, 1, 7, 4, 2, 7, 1, 1, 7, 2, 8, 7, 8, 7, 9, 1, 0, 0, 9, 2, 3, 9, 8, 3, 8, 0, 3, 4, 7, 8, 7, 7, 1, 8, 0, 0, 7, 8, 4, 2, 0, 0, 0, 3, 8, 9, 1, 0, 8, 4, 0, 8, 0, 0, 9, 9, 0, 8, 7, 8, 1, 1, 8, 0, 0, 8, 9, 0, 0, 9, 8, 0, 0, 9, 0, 1, 2, 0, 4, 8, 8, 0, 8, 1, 8, 3, 8, 8, 1, 0, 0, 8, 9, 8, 8, 8, 4, 8, 7, 1, 1, 8, 7, 9, 9, 9, 7, 8, 8, 0, 0, 8, 0, 0, 9, 1, 0, 7, 0, 9, 7, 8, 9, 9, 0, 8, 2, 0, 9, 4, 3, 0, 7, 0, 0, 1, 7, 9, 0, 0, 0, 0, 1, 7, 9, 0, 4, 7, 8, 4, 8, 0, 0, 1, 9, 1, 0, 4, 9, 0, 7, 9, 7, 3, 9, 1, 9, 0, 7, 7, 1, 0, 0, 8, 3, 8, 9, 0, 0, 9, 0, 0, 2, 4, 0, 0, 4, 9, 3, 0, 0, 9, 8, 0, 7, 8, 8, 1, 3, 2, 9, 7, 1, 0, 3, 8, 0, 2, 8, 9, 4, 8, 1, 2, 8, 0, 1, 0, 8, 0, 0, 8, 8, 2, 0, 4, 8, 0, 9, 0, 9, 0, 4, 0, 8, 0, 2, 1, 7, 0, 9, 0, 8, 0, 9, 7, 8, 0, 1, 0, 0, 8, 8, 1, 8, 1, 9, 9, 1, 4, 9, 8, 0, 7, 7, 0, 7, 0, 0, 7, 8, 7, 4, 8, 9, 3, 1, 0, 0, 8, 4, 7, 7, 3, 9, 1, 8, 3, 7, 7, 0, 9, 8, 0, 7, 9, 0, 8, 1, 1, 8, 8, 0, 9, 8, 7, 3, 0, 0, 1, 0, 9, 9, 0, 0, 1, 0, 7, 0, 0, 4, 7, 8, 9, 8, 1, 0, 7, 9, 8, 7, 9, 8, 0, 0, 7, 8, 8, 9, 7, 8, 0, 8, 1, 2, 7, 7, 2, 7, 9, 0, 0, 2, 3, 0, 7, 0, 7, 7, 8, 7, 0, 7, 2, 8, 8, 7, 9, 8, 0, 0, 0, 8, 0, 0, 0, 1, 1, 9, 0, 3, 2, 7, 0, 0, 1, 9, 8, 8, 0, 9, 2, 8, 7, 1, 7, 2, 0, 8, 1, 1, 8, 4, 7, 7, 0, 0, 0, 1, 0, 4, 1, 9, 0, 8, 8, 7, 9, 0, 7, 0, 0, 1, 3, 2, 4, 9, 0, 0, 0, 0, 9, 8, 4, 7, 1, 3, 1, 0, 3, 9, 2, 0, 1, 8, 0, 7, 0, 3, 0, 9, 3, 8, 7, 9, 4, 7, 7, 7, 7, 7, 8, 9, 3, 3, 1, 0, 0, 3, 2, 8, 1, 0, 0, 9, 0, 0, 0, 9, 7, 8, 9, 2, 4, 8, 7, 2, 0, 3, 0, 0, 1, 1, 9, 0, 4, 8, 8, 9, 8, 7, 2, 0, 8, 0, 9, 0, 8, 0, 8, 2, 0, 3, 7, 8, 9, 4, 0, 0, 9, 0, 0, 0, 4, 0, 7, 4, 7, 0, 9, 9, 9, 9, 8, 7, 2, 0, 1, 0, 7, 4, 0, 4, 7, 0, 7, 7, 1, 7, 7, 7, 1, 9, 1, 3, 4, 0, 7, 9, 0, 7, 3, 0, 0, 7, 3, 0, 0, 8, 7, 0, 7, 0, 0, 0, 0, 7, 0, 9, 4, 0, 2, 7, 0, 0, 7, 9, 0, 8, 4, 8, 0, 7, 9, 9, 0, 2, 8, 4, 7, 7, 0, 4, 1, 7, 0, 7, 0, 7, 0, 9, 0, 8, 0, 2, 0, 0, 0, 8, 0, 9, 0, 9, 9, 7, 0, 0, 9, 8, 9, 4, 1, 7, 0, 3, 1, 0, 3, 4, 1, 3, 7, 0, 0, 8, 4, 0, 0, 4, 1, 8, 8, 8, 2, 7, 9, 0, 1, 0, 4, 8, 7, 0, 9, 8, 7, 0, 1, 8, 9, 8, 0, 7, 9, 8, 0, 9, 8, 8, 8, 1, 0, 2, 8, 7, 9, 4, 0, 1, 9, 9, 4, 8, 0, 2, 7, 7, 9, 4, 4, 0, 4, 8, 8, 1, 0, 1, 2, 1, 2, 4, 8, 9, 3, 0, 7, 7, 8, 3, 0, 0, 7, 9, 1, 7, 9, 7, 0, 3, 2, 1, 0, 7, 1, 0, 7, 7, 0, 0, 0, 0, 2, 0, 8, 7, 8, 9, 0, 0, 9, 1, 8, 8, 9, 0, 8, 1, 2, 0, 1, 2, 3, 7, 3, 9, 4, 1, 1, 3, 0, 0, 0, 9, 0, 0, 7, 2, 9, 0, 0, 8, 0, 0, 0, 3, 4, 8, 4, 4, 0, 7, 0, 9, 1, 0, 1, 0, 3, 9, 0, 8, 7, 9, 0, 0, 8, 0, 9, 7, 7, 0, 0, 0, 8, 7, 0, 4, 3, 8, 1, 2, 0, 3, 2, 0, 1, 9, 7, 8, 8, 0, 9, 9, 9, 9, 9, 8, 8, 4, 8, 0, 0, 0, 9, 8, 8, 4, 0, 0, 3, 9, 8, 4, 8, 8, 0, 1, 0, 9, 8, 0, 4, 7, 1, 0, 0, 0, 1, 9, 4, 8, 8, 0, 0, 7, 8, 0, 0, 4, 7, 1, 9, 7, 1, 7, 8, 0, 0, 8, 7, 0, 8, 4, 7, 7, 0, 8, 9, 0, 8, 0, 0, 9, 0, 0, 0, 8, 1, 1, 9, 7, 9, 8, 9, 1, 9, 0, 4, 8, 7, 1, 0, 9, 1, 9, 0, 8, 9, 2, 1, 7, 0, 0, 0, 8, 8, 0, 8, 8, 8, 4, 4, 7, 9, 8, 7, 8, 7, 7, 7, 1, 9, 8, 9, 2, 7, 9, 7, 8, 4, 4, 2, 0, 2, 8, 0, 0, 0, 1, 0, 0, 0, 0, 1, 0, 4, 1, 7, 1, 1, 0, 7, 7, 1, 4, 0, 0, 0, 8, 9, 7, 0, 2, 3, 0, 0, 7, 0, 0, 8, 0, 0, 8, 7, 1, 0, 0, 0, 7, 7, 1, 0, 7, 8, 0, 7, 7, 8, 3, 8, 0, 4, 8, 4, 8, 7, 0, 2, 8, 1, 9, 7, 9, 0, 1, 3, 0, 7, 8, 9, 0, 4, 8, 0, 8, 8, 8, 8, 0, 7, 7, 9, 0, 1, 0, 8, 2, 1, 2, 2, 7, 2, 8, 7, 9, 9, 7, 0, 0, 0, 1, 0, 3, 8, 3, 8, 0, 3, 8, 7, 0, 8, 8, 7, 8, 0, 0, 8, 0, 8, 8, 0, 9, 0, 0, 2, 0, 8, 7, 8, 9, 4, 1, 1, 8, 0, 2, 0, 8, 0, 8, 9, 8, 8, 9, 0, 8, 0, 4, 7, 1, 7, 1, 0, 8, 7, 7, 1, 8, 1, 0, 0, 8, 0, 8, 9, 7, 0, 1, 3, 0, 1, 7, 4, 7, 8, 7, 1, 2, 0, 0, 9, 8, 0, 1, 1, 9, 0, 7, 9, 4, 9, 0, 8, 7, 0, 8, 8, 1, 8, 7, 7, 9, 4, 0, 3, 0, 9, 7, 1, 1, 0, 1, 9, 9, 9, 0, 0, 0, 0, 8, 0, 0, 0, 9, 3, 3, 4, 1, 8, 0, 7, 0, 1, 8, 9, 7, 8, 8, 0, 7, 8, 7, 0, 7, 0, 7, 0, 0, 9, 7, 1, 0, 9, 3, 1, 7, 4, 7, 8, 9, 1, 7, 0, 1, 0, 8, 8, 0, 4, 2, 1, 7, 7, 8, 0, 0, 8, 0, 4, 8, 9, 8, 8, 7, 0, 8, 1, 0, 1, 0, 7, 8, 1, 2, 0, 8, 8, 0, 9, 8, 0, 0, 4, 0, 0, 0, 4, 8, 0, 8, 3, 7, 8, 7, 0, 4, 9, 8, 9, 1, 0, 7, 0, 8, 7, 4, 7, 3, 1, 0, 8, 7, 9, 3, 0, 4, 7, 1, 0, 4, 0, 8, 9, 0, 0, 1, 0, 1, 9, 0, 8, 8, 8, 7, 7, 8, 7, 7, 9, 7, 9, 7, 7, 8, 2, 0, 0, 3, 8, 8, 9, 8, 3, 0, 9, 8, 0, 9, 8, 7, 7, 0, 9, 1, 8, 7, 8, 1, 3, 0, 0, 2, 7, 7, 1, 0, 1, 0, 9, 9, 0, 7, 7, 0, 9, 8, 0, 7, 9, 7, 7, 2, 0, 2, 7, 7, 1, 7, 4, 1, 8, 0, 7, 0, 8, 7, 0, 7, 7, 8, 4, 0, 7, 1, 1, 8, 9, 9, 0, 7, 9, 8, 7, 3, 7, 7, 0, 9, 0, 7, 4, 0, 8, 7, 8, 0, 7, 9, 7, 1, 0, 2, 7, 0, 7, 8, 8, 1, 9, 0, 3, 7, 9, 8, 2, 0, 1, 9, 7, 2, 2, 9, 7, 0, 1, 8, 3, 9, 0, 8, 7, 0, 0, 9, 7, 0, 8, 1, 9, 0, 4, 2, 0, 9, 8, 2, 8, 7, 0, 0, 0, 0, 0, 2, 3, 9, 0, 0, 2, 7, 9, 0, 8, 9, 4, 8, 9, 9, 0, 1, 0, 3, 0, 0, 1, 0, 0, 0, 1, 0, 7, 7, 0, 3, 0, 9, 9, 8, 9, 3, 0, 8, 3, 7, 9, 2, 8, 8, 7, 0, 0, 8, 8, 0, 8, 0, 9, 0, 1, 8, 8, 2, 7, 8, 0, 3, 7, 9, 0, 8, 7, 3, 8, 8, 8, 7, 0, 1, 0, 0, 0, 8, 8, 4, 0, 9, 7, 8, 8, 0, 0, 0, 0, 0, 3, 0, 3, 1, 9, 7, 7, 0, 8, 0, 8, 9, 0, 7, 4, 0, 7, 3, 9, 0, 0, 9, 4, 0, 9, 0, 8, 0, 7, 0, 0, 7, 8, 7, 7, 0, 9, 3, 0, 7, 7, 0, 8, 3, 8, 7, 4, 0, 0, 0, 9, 0, 8, 0, 7, 8, 0, 4, 1, 1, 9, 0, 4, 7, 9, 7, 8, 2, 7, 0, 2, 3, 8, 4, 7, 7, 7, 9, 9, 9, 4, 1, 3, 0, 7, 8, 8, 9, 7, 7, 0, 8, 9, 9, 2, 4, 8, 7, 0, 3, 0, 8, 3, 0, 0, 0, 7, 7, 7, 7, 9, 0, 0, 4, 2, 9, 1, 1, 3, 8, 0, 0, 0, 9, 0, 9, 7, 1, 0, 9, 1, 7, 2, 0, 7, 1, 3, 3, 8, 9, 7, 7, 7, 7, 0, 8, 4, 3, 2, 9, 0, 0, 3, 1, 7, 8, 0, 0, 0, 0, 7, 8, 4, 7, 9, 8, 1, 8, 8, 1, 0, 7, 8, 1, 8, 1, 9, 9, 0, 0, 7, 7, 0, 8, 8, 0, 0, 0, 2, 8, 0, 1, 1, 7, 3, 7, 0, 4, 0, 0, 8, 0, 1, 4, 0, 1, 0, 8, 2, 7, 8, 8, 1, 7, 1, 7, 8, 8, 7, 7, 7, 7, 7, 7, 0, 7, 0, 9, 7, 2, 0, 3, 1, 0, 0, 7, 2, 8, 8, 1, 1, 9, 3, 9, 8, 1, 8, 9, 3, 8, 0, 1, 0, 7, 0, 7, 8, 8, 8, 0, 8, 8, 7, 7, 1, 2, 8, 8, 2, 8, 9, 0, 9, 8, 0, 7, 4, 0, 7, 8, 1, 1, 1, 9, 0, 0, 8, 1, 9, 0, 4, 0, 7, 3, 1, 4, 0, 2, 7, 1, 9, 8, 1, 7, 7, 8, 7, 0, 4, 8, 0, 0, 1, 3, 7, 1, 2, 0, 0, 7, 8, 0, 8, 0, 0, 0, 9, 7, 8, 0, 0, 7, 7, 4, 0, 7, 8, 8, 2, 0, 3, 0, 1, 0, 0, 0, 7, 9, 0, 0, 3, 3, 2, 9, 0, 7, 4, 7, 0, 8, 1, 0, 9, 1, 1, 8, 8, 9, 0, 9, 7, 0, 1, 8, 0, 8, 8, 1, 8, 8, 8, 7, 0, 7, 7, 3, 4, 7, 7, 7, 7, 0, 1, 8, 7, 7, 1, 9, 8, 8, 8, 8, 7, 8, 0, 2, 8, 9, 4, 9, 0, 0, 7, 9, 0, 9, 1, 8, 9, 0, 9, 7, 0, 3, 8, 0, 9, 0, 9, 8, 0, 0, 7, 7, 7, 2, 9, 7, 0, 9, 9, 9, 7, 0, 7, 7, 1, 0, 1, 0, 4, 3, 4, 7, 9, 8, 0, 9, 8, 1, 0, 8, 9, 0, 1, 8, 9, 7, 8, 7, 2, 9, 8, 9, 1, 7, 0, 9, 3, 7, 8, 1, 7, 8, 4, 0, 7, 0, 9, 2, 3, 0, 7, 7, 7, 0, 1, 8, 7, 0, 1, 3, 9, 0, 8, 0, 8, 9, 8, 9, 9, 7, 4, 0, 0, 8, 1, 7, 4, 1, 4, 0, 0, 0, 3, 7, 0, 8, 7, 2, 0, 7, 1, 7, 1, 7, 8, 7, 0, 7, 0, 4, 9, 2, 9, 7, 7, 8, 9, 7, 8, 8, 7, 7, 8, 3, 8, 8, 8, 9, 7, 0, 8, 7, 7, 2, 8, 7, 7, 1, 8, 8, 2, 8, 9, 7, 8, 9, 8, 0, 7, 0, 3, 0, 7, 8, 1, 3, 7, 9, 2, 0, 0, 0, 2, 1, 9, 4, 8, 3, 0, 1, 0, 2, 0, 0, 0, 9, 2, 0, 8, 7, 9, 1, 0, 7, 1, 9, 9, 8, 0, 8, 0, 8, 8, 4, 8, 9, 1, 0, 8, 3, 9, 8, 3, 1, 7, 0, 9, 0, 0, 0, 8, 7, 8, 9, 8, 4, 2, 0, 0, 7, 1, 4, 0, 9, 7, 4, 0, 7, 3, 9, 9, 1, 2, 0, 0, 8, 8, 8, 9, 3, 4, 9, 8, 0, 7, 2, 9, 1, 8, 7, 1, 0, 0, 2, 3, 1, 7, 8, 0, 9, 1, 8, 4, 4, 8, 3, 8, 0, 0, 9, 7, 0, 7, 8, 0, 0, 0, 9, 0, 0, 1, 0, 8, 7, 9, 1, 0, 2, 9, 2, 7, 8, 0, 7, 9, 9, 2, 8, 4, 0, 0, 7, 7, 7, 9, 9, 0, 8, 0, 0, 3, 7, 4, 9, 4, 3, 3, 0, 7, 0, 8, 8, 4, 0, 4, 8, 8, 8, 0, 8, 0, 9, 7, 9, 3, 0, 1, 9, 9, 7, 8, 2, 7, 7, 3, 3, 7, 3, 7, 7, 3, 0, 0, 8, 0, 0, 0, 0, 0, 0, 0, 0, 4, 0, 0, 7, 7, 8, 0, 0, 9, 7, 0, 0, 2, 0, 7, 7, 7, 8, 1, 7, 7, 7, 2, 0, 9, 8, 0, 2, 7, 1, 1, 0, 1, 0, 9, 7, 0, 8, 2, 1, 8, 7, 1, 0, 0, 2, 0, 9, 8, 0, 9, 7, 0, 7, 0, 9, 9, 4, 1, 4, 7, 1, 7, 8, 1, 0, 8, 1, 2, 8, 8, 8, 9, 8, 1, 4, 4, 3, 0, 7, 9, 4, 4, 4, 0, 0, 7, 9, 0, 1, 8, 0, 7, 3, 1, 9, 8, 8, 8, 1, 7, 7, 7, 0, 1, 8, 9, 2, 2, 0, 9, 7, 7, 2, 0, 0, 1, 7, 0, 0, 0, 7, 7, 7, 1, 0, 7, 7, 8, 9, 7, 8, 1, 8, 3, 3, 0, 8, 0, 0, 7, 1, 8, 0, 7, 0, 0, 8, 8, 0, 0, 8, 0, 9, 0, 7, 8, 8, 0, 1, 1, 9, 7, 7, 1, 2, 7, 8, 0, 7, 9, 3, 1, 7, 3, 8, 8, 0, 1, 8, 0, 9, 4, 1, 0, 9, 2, 0, 8, 3, 0, 8, 0, 9, 7, 0, 7, 1, 7, 7, 1, 9, 7, 8, 7, 9, 7, 8, 8, 1, 8, 9, 1, 1, 1, 9, 2, 1, 4, 7, 8, 0, 8, 3, 7, 8, 7, 0, 1, 8, 0, 7, 2, 0, 0, 8, 3, 9, 0, 2, 1, 0, 8, 8, 1, 9, 1, 9, 7, 7, 0, 0, 0, 3, 7, 0, 3, 7, 2, 1, 8, 8, 7, 0, 9, 8, 0, 0, 8, 9, 0, 9, 1, 3, 1, 8, 0, 7, 7, 0, 8, 0, 1, 0, 8, 8, 0, 0, 8, 4, 8, 0, 3, 7, 8, 0, 8, 0, 1, 2, 2, 1, 4, 9, 0, 8, 9, 9, 8, 3, 0, 8, 8, 8, 1, 0, 9, 9, 0, 9, 8, 8, 0, 9, 8, 9, 7, 1, 0, 1, 9, 0, 7, 3, 9, 7, 9, 9, 0, 9, 7, 7, 8, 0, 9, 0, 3, 0, 0, 0, 0, 9, 2, 1, 7, 7, 4, 0, 0, 9, 0, 0, 8, 8, 0, 8, 0, 7, 2, 8, 2, 8, 7, 0, 0, 7, 9, 9, 8, 8, 0, 0, 4, 0, 9, 7, 9, 9, 0, 3, 2, 7, 1, 9, 9, 8, 0, 7, 1, 0, 8, 9, 7, 0, 8, 7, 0, 4, 9, 0, 9, 7, 9, 3, 0, 3, 4, 7, 0, 0, 0, 9, 7, 3, 9, 3, 8, 8, 4, 0, 0, 4, 9, 0, 7, 9, 4, 0, 0, 1, 9, 1, 7, 8, 3, 4, 0, 0, 7, 9, 3, 0, 7, 0, 1, 0, 7, 7, 8, 8, 9, 9, 2, 1, 2, 9, 7, 0, 7, 0, 3, 2, 9, 7, 0, 0, 9, 2, 2, 8, 4, 9, 7, 0, 2, 9, 7, 7, 4, 7, 2, 9, 8, 4, 9, 0, 9, 8, 8, 0, 7, 3, 7, 1, 7, 2, 4, 7, 1, 7, 8, 8, 0, 1, 0, 8, 8, 7, 1, 0, 0, 2, 0, 0, 9, 8, 9, 0, 8, 7, 9, 0, 4, 8, 4, 8, 0, 9, 7, 0, 4, 8, 9, 0, 8, 8, 7, 8, 8, 7, 0, 8, 9, 8, 1, 8, 1, 0, 0, 8, 9, 4, 9, 9, 8, 1, 7, 0, 8, 7, 7, 7, 7, 9, 3, 8, 8, 9, 8, 8, 8, 0, 1, 0, 0, 1, 0, 0, 0, 0, 0, 0, 9, 7, 0, 0, 8, 0, 0, 8, 1, 8, 0, 9, 0, 9, 0, 8, 7, 0, 8, 8, 9, 0, 1, 7, 9, 3, 0, 9, 9, 1, 8, 7, 7, 7, 8, 9, 8, 0, 8, 9, 9, 8, 8, 8, 8, 2, 9, 0, 7, 8, 7, 8, 0, 7, 0, 2, 1, 0, 7, 0, 7, 9, 0, 8, 8, 3, 4, 4, 9, 2, 9, 0, 9, 0, 4, 7, 0, 3, 0, 0, 9, 7, 0, 9, 0, 7, 1, 0, 1, 0, 9, 0, 7, 0, 8, 3, 7, 8, 7, 8, 0, 0, 0, 7, 4, 9, 7, 0, 8, 9, 7, 7, 2, 7, 0, 7, 0, 7, 7, 0, 7, 2, 9, 0, 1, 7, 0, 7, 1, 0, 0, 8, 0, 4, 9, 8, 9, 8, 0, 7, 0, 0, 1, 7, 0, 7, 8, 9, 9, 8, 0, 0, 7, 1, 3, 8, 0, 8, 4, 8, 0, 7, 9, 0, 8, 8, 7, 4, 0, 0, 9, 1, 0, 4, 3, 7, 9, 0, 1, 7, 8, 9, 3, 8, 7, 1, 0, 0, 1, 8, 1, 1, 1, 8, 0, 8, 9, 0, 8, 0, 8, 1, 0, 9, 1, 0, 9, 0, 1, 7, 1, 7, 9, 7, 1, 1, 1, 9, 0, 8, 1, 4, 1, 8, 0, 0, 1, 8, 1, 4, 7, 1, 8, 7, 0, 9, 3, 0, 8, 0, 0, 1, 0, 3, 7, 0, 0, 8, 1, 2, 0, 0, 0, 4, 8, 0, 0, 0, 8, 9, 3, 1, 1, 9, 1, 0, 7, 0, 1, 1, 0, 7, 7, 7, 8, 8, 0, 0, 0, 8, 9, 7, 0, 0, 7, 8, 8, 0, 9, 8, 0, 8, 0, 7, 0, 1, 1, 7, 9, 4, 0, 2, 9, 1, 7, 0, 0, 7, 0, 7, 0, 8, 8, 0, 4, 1, 9, 2, 0, 8, 7, 4, 0, 7, 4, 8, 3, 9, 7, 4, 7, 8, 2, 7, 2, 9, 7, 9, 1, 8, 9, 0, 1, 1, 0, 1, 7, 7, 0, 7, 2, 2, 0, 2, 8, 1, 1, 7, 0, 9, 0, 7, 9, 0, 0, 1, 8, 0, 0, 0, 0, 0, 0, 1, 0, 9, 8, 8, 9, 3, 0, 9, 7, 3, 0, 8, 4, 4, 0, 0, 9, 1, 3, 0, 1, 1, 0, 8, 7, 0, 7, 8, 4, 0, 1, 0, 0, 1, 0, 0, 7, 8, 0, 0, 0, 0, 8, 7, 0, 2, 7, 7, 7, 8, 8, 2, 2, 0, 8, 1, 0, 7, 9, 7, 8, 3, 7, 7, 1, 9, 0, 8, 1, 8, 8, 4, 8, 7, 7, 0, 0, 0, 9, 4, 0, 1, 9, 8, 2, 7, 1, 7, 7, 0, 4, 7, 9, 1, 8, 0, 0, 7, 9, 8, 7, 1, 4, 8, 8, 9, 3, 9, 3, 7, 4, 1, 3, 0, 7, 0, 8, 7, 7, 8, 0, 7, 3, 0, 7, 8, 1, 9, 3, 0, 8, 9, 1, 0, 8, 0, 7, 4, 1, 7, 9, 0, 2, 1, 8, 1, 9, 8, 8, 8, 0, 0, 2, 1, 0, 9, 1, 8, 7, 8, 9, 8, 0, 1, 7, 0, 2, 9, 0, 0, 7, 7, 0, 7, 1, 1, 8, 0, 2, 2, 9, 8, 9, 7, 0, 8, 3, 8, 7, 2, 0, 3, 0, 1, 8, 0, 0, 7, 0, 8, 0, 7, 2, 0, 8, 1, 7, 0, 0, 2, 2, 7, 0, 0, 0, 9, 9, 4, 2, 7, 9, 8, 1, 4, 1, 0, 0, 0, 1, 7, 1, 1, 0, 0, 0, 9, 8, 7, 0, 1, 1, 0, 4, 8, 8, 7, 0, 0, 1, 1, 0, 7, 7, 0, 0, 9, 1, 3, 8, 7, 4, 7, 7, 7, 8, 3, 7, 9, 0, 7, 7, 4, 9, 9, 1, 8, 0, 1, 1, 1, 7, 7, 9, 8, 8, 8, 9, 8, 7, 0, 9, 8, 8, 0, 3, 0, 1, 1, 1, 0, 0, 8, 1, 7, 8, 9, 0, 9, 7, 7, 9, 0, 4, 0, 2, 8, 7, 2, 7, 0, 4, 0, 9, 8, 0, 8, 8, 7, 9, 8, 7, 0, 8, 4, 8, 1, 0, 8, 0, 9, 3, 8, 0, 8, 0, 0, 9, 1, 8, 0, 9, 2, 9, 7, 7, 0, 7, 9, 9, 2, 0, 0, 0, 7, 0, 4, 0, 0, 0, 2, 9, 0, 2, 8, 1, 0, 0, 9, 0, 0, 8, 0, 0, 4, 7, 0, 1, 0, 0, 4, 1, 8, 0, 0, 2, 8, 0, 8, 7, 0, 0, 7, 4, 0, 7, 0, 0, 3, 7, 8, 0, 9, 8, 9, 2, 0, 8, 8, 9, 0, 1, 1, 9, 1, 0, 0, 0, 0, 0, 3, 0, 4, 7, 1, 8, 0, 8, 9, 1, 0, 7, 0, 9, 7, 8, 8, 9, 7, 9, 9, 9, 9, 0, 0, 0, 2, 0, 8, 8, 0, 7, 4, 8, 9, 1, 0, 9, 9, 1, 8, 0, 3, 0, 7, 0, 9, 9, 9, 4, 7, 0, 1, 4, 3, 3, 0, 7, 0, 0, 8, 3, 7, 8, 8, 7, 8, 1, 1, 9, 2, 8, 7, 0, 2, 7, 8, 8, 0, 0, 3, 0, 3, 3, 1, 0, 3, 8, 8, 0, 1, 9, 7, 0, 9, 0, 3, 0, 0, 0, 9, 8, 0, 0, 0, 3, 8, 7, 0, 8, 7, 0, 8, 0, 1, 1, 7, 0, 7, 8, 9, 0, 8, 0, 9, 1, 0, 0, 0, 0, 4, 7, 0, 8, 4, 1, 8, 9, 8, 2, 8, 7, 8, 0, 1, 8, 0, 8, 9, 3, 9, 0, 1, 8, 9, 3, 2, 0, 4, 8, 3, 0, 7, 7, 0, 4, 0, 9, 8, 0, 8, 8, 0, 0, 9, 4, 7, 1, 8, 0, 1, 1, 0, 7, 2, 0, 8, 3, 8, 1, 4, 8, 0, 8, 0, 0, 2, 0, 9, 0, 1, 0, 7, 9, 7, 3, 9, 9, 0, 2, 8, 0, 0, 0, 0, 2, 1, 0, 8, 0, 0, 4, 0, 9, 8, 2, 9, 0, 1, 0, 8, 8, 2, 3, 7, 4, 0, 2, 8, 9, 2, 0, 0, 8, 0, 0, 8, 0, 7, 1, 1, 0, 8, 0, 7, 9, 0, 0, 0, 0, 8, 4, 1, 0, 7, 9, 4, 0, 0, 0, 8, 7, 9, 8, 0, 0, 0, 2, 8, 8, 4, 3, 7, 0, 2, 9, 7, 0, 8, 9, 9, 2, 8, 7, 9, 9, 7, 0, 8, 0, 7, 7, 7, 0, 8, 4, 7, 1, 7, 0, 0, 7, 3, 0, 1, 1, 0, 7, 0, 0, 0, 9, 4, 9, 8, 0, 7, 9, 9, 7, 9, 8, 0, 0, 9, 3, 1, 1, 9, 2, 3, 0, 0, 0, 4, 0, 1, 3, 0, 1, 3, 8, 2, 0, 1, 0, 1, 8, 0, 8, 0, 3, 9, 1, 1, 9, 9, 1, 0, 8, 0, 0, 1, 0, 3, 9, 0, 0, 7, 0, 8, 0, 0, 3, 7, 8, 7, 7, 7, 0, 9, 0, 4, 8, 0, 1, 8, 7, 8, 0, 0, 4, 4, 2, 8, 7, 7, 0, 0, 2, 0, 0, 0, 9, 0, 7, 7, 7, 9, 9, 3, 0, 8, 9, 4, 0, 7, 9, 0, 8, 7, 8, 8, 7, 9, 7, 0, 0, 0, 7, 7, 9, 9, 0, 0, 0, 0, 8, 7, 0, 9, 7, 9, 8, 9, 7, 7, 4, 7, 7, 7, 7, 7, 9, 2, 0, 7, 9, 8, 0, 8, 8, 8, 7, 8, 9, 9, 0, 0, 8, 9, 4, 1, 9, 9, 0, 1, 8, 9, 2, 4, 0, 0, 0, 0, 0, 9, 7, 7, 8, 4, 0, 9, 9, 8, 9, 8, 0, 7, 0, 9, 9, 0, 9, 8, 0, 8, 0, 8, 7, 9, 2, 4, 7, 0, 0, 8, 7, 7, 9, 0, 9, 1, 0, 7, 7, 8, 9, 7, 9, 0, 8, 4, 9, 0, 4, 8, 0, 7, 8, 7, 1, 9, 0, 0, 0, 3, 0, 7, 8, 4, 7, 0, 0, 1, 9, 8, 9, 7, 0, 8, 8, 0, 7, 0, 7, 1, 0, 8, 4, 0, 0, 4, 0, 9, 1, 4, 7, 8, 2, 9, 9, 0, 8, 9, 8, 8, 0, 0, 0, 9, 0, 0, 2, 9, 8, 9, 8, 7, 4, 8, 9, 9, 9, 0, 2, 7, 0, 0, 0, 3, 0, 7, 7, 0, 7, 7, 8, 7, 0, 0, 1, 7, 3, 0, 7, 9, 7, 0, 9, 0, 0, 0, 8, 7, 7, 0, 8, 7, 4, 3, 9, 2, 0, 7, 8, 1, 7, 9, 7, 0, 0, 8, 8, 4, 9, 2, 0, 8, 9, 1, 1, 8, 9, 7, 7, 0, 7, 0, 2, 0, 8, 0, 7, 7, 9, 8, 4, 0, 1, 8, 9, 7, 1, 1, 0, 8, 9, 8, 7, 9, 0, 9, 0, 8, 8, 0, 8, 8, 0, 7, 9, 0, 8, 7, 0, 0, 7, 9, 7, 8, 0, 3, 8, 8, 3, 8, 9, 7, 0, 7, 0, 9, 1, 1, 0, 8, 0, 7, 0, 7, 9, 0, 4, 7, 8, 0, 8, 0, 8, 0, 0, 8, 0, 8, 8, 9, 8, 7, 2, 7, 9, 7, 3, 8, 2, 7, 3, 7, 0, 9, 4, 0, 8, 7, 1, 0, 8, 9, 8, 0, 1, 8, 0, 8, 8, 0, 1, 7, 0, 8, 1, 9, 7, 8, 8, 8, 8, 7, 9, 0, 8, 0, 0, 0, 8, 0, 0, 8, 8, 8, 8, 8, 0, 9, 7, 3, 9, 4, 2, 0, 0, 9, 0, 0, 7, 0, 8, 0, 4, 0, 0, 2, 0, 4, 7, 8, 0, 8, 7, 1, 7, 3, 0, 7, 8, 7, 7, 1, 8, 7, 2, 7, 8, 2, 7, 9, 7, 0, 1, 8, 9, 3, 3, 0, 9, 0, 0, 0, 4, 2, 9, 0, 3, 0, 7, 8, 8, 7, 9, 9, 2, 7, 1, 7, 0, 0, 0, 0, 0, 0, 9, 7, 8, 0, 0, 3, 0, 7, 4, 1, 0, 9, 0, 0, 8, 0, 1, 0, 7, 0, 8, 0, 8, 1, 9, 1, 8, 0, 9, 9, 2, 9, 1, 7, 3, 4, 7, 3, 3, 8, 8, 9, 0, 9, 0, 8, 3, 7, 9, 7, 8, 3, 0, 8, 8, 8, 8, 2, 0, 8, 0, 9, 8, 8, 0, 7, 8, 8, 8, 0, 8, 3, 0, 8, 8, 0, 9, 8, 9, 0, 7, 1, 0, 0, 9, 4, 8, 9, 0, 8, 0, 8, 7, 1, 7, 8, 9, 0, 7, 7, 0, 9, 8, 8, 8, 9, 9, 0, 9, 8, 7, 4, 0, 0, 8, 0, 1, 0, 0, 0, 9, 3, 8, 0, 1, 9, 0, 8, 4, 9, 7, 0, 7, 7, 9, 8, 7, 7, 8, 9, 9, 9, 0, 0, 9, 0, 8, 3, 9, 0, 8, 8, 8, 7, 8, 8, 0, 8, 7, 9, 9, 0, 2, 0, 8, 4, 8, 7, 9, 0, 2, 8, 9, 8, 8, 9, 0, 0, 0, 0, 9, 7, 8, 9, 7, 0, 0, 7, 7, 9, 8, 7, 7, 8, 7, 1, 1, 0, 3, 0, 8, 0, 1, 9, 0, 8, 8, 0, 0, 8, 9, 9, 8, 0, 7, 7, 7, 0, 0, 8, 1, 8, 0, 2, 0, 9, 1, 7, 7, 0, 9, 0, 1, 9, 0, 7, 4, 0, 7, 7, 0, 8, 8, 3, 8, 2, 9, 9, 8, 8, 8, 8, 7, 9, 7, 8, 3, 8, 8, 7, 9, 8, 7, 7, 0, 3, 9, 8, 0, 2, 7, 0, 0, 8, 0, 0, 0, 4, 8, 0, 8, 1, 9, 7, 4, 8, 3, 9, 0, 0, 7, 8, 9, 1, 4, 8, 1, 0, 8, 8, 8, 1, 8, 1, 1, 7, 0, 0, 7, 9, 9, 0, 0, 2, 0, 0, 7, 0, 7, 9, 9, 8, 7, 9, 9, 8, 2, 8, 0, 2, 7, 8, 7, 8, 7, 7, 0, 2, 1, 9, 2, 8, 0, 0, 8, 0, 8, 7, 9, 9, 0, 8, 9, 2, 0, 8, 0, 2, 9, 0, 9, 0, 8, 7, 8, 0, 8, 7, 4, 8, 7, 9, 0, 0, 0, 1, 8, 4, 3, 9, 8, 7, 9, 1, 7, 7, 7, 8, 9, 0, 2, 7, 8, 0, 7, 8, 8, 4, 8, 9, 0, 8, 8, 8, 4, 0, 9, 7, 7, 9, 9, 0, 8, 0, 2, 0, 4, 7, 8, 0, 7, 8, 2, 8, 7, 4, 7, 8, 3, 4, 0, 0, 7, 7, 0, 7, 7, 0, 9, 9, 8, 8, 7, 4, 0, 7, 7, 1, 8, 0, 8, 9, 0, 0, 9, 0, 8, 1, 8, 8, 8, 0, 7, 7, 9, 7, 9, 8, 8, 1, 8, 3, 8, 0, 7, 0, 4, 4, 9, 0, 8, 0, 8, 8, 8, 9, 9, 9, 2, 0, 7, 4, 8, 8, 0, 0, 8, 0, 7, 8, 9, 0, 0, 1, 0, 8, 3, 9, 0, 3, 4, 0, 7, 0, 0, 7, 0, 8, 0, 0, 9, 2, 4, 9, 0, 4, 0, 3, 1, 9, 0, 7, 3, 9, 8, 0, 9, 9, 9, 8, 0, 4, 9, 9, 0, 1, 9, 8, 9, 1, 7, 0, 3, 0, 7, 8, 8, 0, 7, 8, 0, 0, 9, 7, 8, 1, 4, 7, 0, 4, 7, 7, 8, 8, 7, 7, 3, 9, 9, 8, 3, 9, 1, 7, 9, 8, 4, 0, 8, 8, 8, 9, 1, 0, 0, 3, 7, 1, 9, 0, 9, 1, 1, 2, 8, 0, 8, 8, 0, 0, 7, 8, 2, 0, 9, 9, 7, 7, 0, 7, 7, 0, 9, 0, 4, 9, 0, 9, 0, 8, 8, 1, 1, 8, 0, 7, 9, 9, 8, 0, 0, 8, 0, 8, 2, 0, 0, 9, 8, 2, 0, 0, 7, 0, 0, 7, 0, 8, 0, 8, 0, 7, 0, 7, 2, 8, 0, 0, 7, 0, 8, 0, 7, 9, 7, 1, 2, 4, 8, 8, 3, 0, 0, 8, 0, 4, 0, 8, 0, 8, 7, 8, 3, 9, 7, 7, 9, 7, 1, 7, 0, 8, 9, 9, 3, 8, 8, 0, 7, 4, 4, 9, 9, 8, 7, 1, 8, 7, 7, 1, 2, 1, 0, 9, 0, 1, 7, 8, 0, 1, 0, 8, 0, 0, 0, 8, 0, 0, 7, 9, 1, 0, 0, 7, 8, 9, 1, 0, 9, 2, 9, 0, 8, 2, 0, 7, 9, 9, 2, 0, 0, 8, 0, 4, 0, 8, 8, 9, 0, 8, 0, 7, 1, 0, 8, 0, 0, 9, 0, 1, 9, 0, 0, 8, 7, 1, 8, 0, 7, 1, 8, 9, 3, 0, 0, 8, 3, 1, 0, 7, 0, 1, 3, 8, 4, 8, 9, 1, 8, 7, 0, 8, 9, 8, 1, 7, 0, 2, 7, 1, 7, 3, 0, 9, 0, 3, 0, 9, 8, 4, 7, 0, 7, 9, 4, 9, 0, 9, 0, 9, 4, 8, 3, 0, 7, 1, 9, 4, 0, 8, 0, 8, 0, 1, 8, 2, 9, 0, 9, 8, 0, 4, 3, 1, 2, 8, 1, 9, 9, 7, 9, 3, 7, 4, 4, 3, 9, 0, 8, 8, 7, 7, 0, 8, 3, 8, 1, 0, 0, 0, 0, 4, 0, 0, 0, 7, 9, 8, 0, 1, 8, 8, 8, 0, 7, 0, 9, 7, 3, 0, 0, 7, 0, 1, 0, 7, 7, 0, 4, 9, 9, 1, 0, 9, 2, 0, 0, 7, 1, 9, 0, 9, 3, 0, 0, 9, 8, 1, 1, 9, 9, 3, 3, 9, 9, 2, 4, 0, 0, 9, 0, 0, 1, 7, 4, 9, 0, 0, 8, 7, 4, 4, 3, 8, 0, 8, 7, 9, 0, 3, 1, 2, 3, 1, 7, 3, 7, 8, 9, 3, 8, 8, 0, 8, 8, 8, 8, 1, 0, 8, 2, 0, 9, 7, 9, 8, 0, 7, 1, 0, 0, 8, 8, 4, 0, 0, 9, 0, 4, 4, 7, 0, 9, 4, 0, 0, 0, 4, 2, 0, 0, 0, 9, 9, 7, 9, 0, 0, 4, 0, 2, 9, 0, 7, 0, 2, 0, 0, 1, 9, 0, 0, 7, 7, 1, 7, 9, 0, 0, 1, 0, 8, 0, 2, 7, 7, 8, 9, 9, 8, 1, 8, 1, 1, 9, 0, 7, 1, 8, 0, 7, 9, 3, 0, 7, 1, 9, 0, 3, 0, 8, 0, 0, 9, 4, 9, 0, 8, 0, 1, 0, 0, 9, 8, 0, 9, 0, 8, 8, 9, 0, 9, 0, 0, 7, 0, 8, 1, 0, 8, 0, 9, 0, 7, 0, 9, 9, 0, 0, 7, 0, 1, 9, 8, 0, 1, 0, 0, 9, 0, 0, 8, 7, 0, 9, 0, 0, 0, 1, 0, 8, 9, 0, 1, 0, 9, 3, 0, 8, 9, 9, 0, 0, 8, 0, 8, 0, 0, 9, 8, 0, 0, 9, 0, 7, 0, 0, 8, 8, 7, 8, 9, 0, 0, 0, 0, 7, 1, 8, 0, 0, 7, 2, 9, 8, 7, 0, 9, 0, 3, 0, 1, 3, 0, 0, 1, 0, 9, 0, 8, 0, 2, 0, 0, 7, 8, 9, 7, 0, 2, 0, 8, 0, 1, 4, 8, 0, 7, 0, 0, 7, 0, 0, 2, 8, 7, 9, 0, 9, 7, 8, 9, 0, 0, 9, 4, 0, 8, 0, 1, 0, 8, 0, 0, 9, 8, 0, 0, 0, 1, 9, 7, 9, 1, 0, 0, 8, 9, 0, 2, 7, 8, 0, 0, 0, 0, 0, 8, 0, 0, 7, 2, 8, 1, 0, 1, 7, 8, 4, 3, 8, 7, 0, 8, 9, 3, 8, 1, 8, 7, 8, 9, 0, 0, 2, 7, 0, 8, 3, 9, 1, 0, 0, 0, 8, 2, 9, 8, 7, 0, 9, 7, 8, 0, 0, 0, 8, 0, 7, 9, 0, 1, 7, 9, 3, 1, 8, 8, 8, 0, 8, 9, 9, 8, 0, 7, 8, 8, 7, 8, 8, 4, 9, 0, 2, 8, 3, 9, 9, 1, 0, 9, 8, 4, 0, 0, 7, 1, 0, 0, 0, 8, 7, 9, 4, 1, 1, 9, 7, 0, 1, 8, 0, 0, 8, 7, 0, 9, 7, 1, 0, 0, 1, 9, 1, 1, 0, 0, 3, 0, 3, 8, 0, 0, 9, 0, 9, 0, 0, 1, 1, 0, 0, 7, 0, 8, 0, 9, 0, 0, 8, 8, 7, 0, 8, 0, 0, 0, 1, 3, 2, 4, 1, 8, 8, 8, 9, 0, 0, 9, 1, 9, 1, 9, 0, 0, 2, 7, 9, 3, 9, 9, 0, 8, 4, 2, 1, 9, 9, 8, 0, 4, 9, 9, 7, 7, 7, 0, 8, 0, 1, 9, 0, 0, 0, 0, 4, 0, 2, 0, 9, 9, 0, 8, 3, 0, 2, 8, 0, 2, 2, 7, 2, 0, 4, 8, 9, 0, 0, 7, 2, 8, 1, 9, 8, 7, 0, 8, 7, 7, 2, 0, 0, 7, 8, 1, 0, 7, 8, 0, 0, 8, 9, 8, 4, 2, 1, 0, 2, 0, 9, 0, 3, 4, 0, 1, 0, 9, 7, 0, 1, 0, 9, 4, 8, 8, 7, 9, 7, 2, 0, 0, 8, 0, 2, 1, 9, 1, 0, 0, 4, 0, 9, 1, 9, 0, 7, 3, 7, 0, 7, 0, 7, 8, 0, 8, 0, 8, 1, 2, 9, 1, 9, 1, 9, 1, 0, 7, 0, 4, 8, 9, 0, 2, 2, 0, 1, 9, 2, 3, 7, 1, 0, 1, 7, 7, 9, 9, 8, 9, 0, 9, 0, 9, 7, 0, 0, 8, 8, 3, 7, 0, 1, 0, 9, 7, 1, 7, 9, 0, 0, 8, 1, 1, 0, 0, 0, 0, 0, 0, 9, 7, 8, 4, 3, 0, 1, 7, 1, 7, 0, 8, 4, 9, 7, 9, 0, 9, 0, 8, 9, 7, 4, 0, 0, 0, 1, 9, 9, 1, 0, 9, 8, 0, 9, 0, 0, 4, 1, 7, 0, 7, 0, 9, 8, 0, 0, 0, 8, 0, 8, 0, 0, 3, 7, 0, 4, 8, 4, 0, 0, 0, 7, 9, 0, 0, 8, 7, 7, 0, 1, 8, 8, 8, 0, 9, 8, 0, 1, 0, 7, 0, 0, 4, 0, 8, 9, 7, 4, 0, 2, 8, 0, 3, 7, 0, 7, 0, 9, 2, 7, 0, 7, 0, 7, 7, 7, 9, 8, 2, 8, 0, 8, 7, 8, 1, 9, 8, 0, 0, 7, 0, 8, 2, 0, 0, 0, 0, 0, 9, 7, 7, 0, 9, 0, 9, 8, 0, 3, 8, 4, 8, 7, 1, 8, 9, 0, 8, 9, 7, 4, 0, 7, 0, 4, 1, 7, 4, 0, 4, 0, 0, 8, 8, 0, 8, 0, 0, 1, 8, 7, 0, 9, 0, 7, 0, 9, 0, 2, 9, 1, 4, 8, 0, 8, 8, 8, 8, 8, 0, 7, 3, 0, 0, 8, 8, 7, 0, 0, 0, 4, 1, 1, 0, 9, 0, 0, 1, 8, 9, 8, 8, 0, 7, 9, 8, 1, 9, 9, 7, 3, 0, 7, 8, 0, 0, 0, 7, 1, 7, 3, 0, 0, 1, 0, 2, 0, 9, 8, 0, 0, 8, 3, 1, 8, 1, 1, 1, 9, 0, 0, 7, 8, 9, 7, 9, 8, 7, 0, 0, 8, 2, 9, 8, 0, 8, 1, 0, 0, 0, 4, 7, 0, 0, 0, 9, 2, 7, 8, 4, 7, 7, 0, 4, 2, 3, 0, 1, 9, 1, 2, 0, 8, 7, 1, 4, 0, 8, 8, 0, 9, 0, 8, 9, 0, 7, 0, 7, 9, 7, 7, 0, 8, 0, 3, 0, 1, 0, 8, 0, 8, 0, 0, 9, 8, 9, 2, 0, 8, 8, 0, 9, 9, 2, 4, 9, 0, 8, 8, 8, 2, 7, 8, 0, 0, 8, 8, 1, 7, 8, 9, 9, 1, 4, 0, 0, 9, 7, 3, 0, 1, 8, 8, 7, 9, 0, 1, 7, 9, 8, 0, 9, 0, 2, 0, 4, 0, 0, 2, 3, 8, 7, 9, 2, 0, 9, 8, 4, 0, 7, 8, 3, 0, 8, 0, 7, 0, 7, 8, 0, 1, 8, 0, 2, 8, 8, 9, 2, 0, 4, 4, 7, 0, 4, 7, 1, 0, 4, 7, 0, 8, 9, 7, 0, 8, 0, 3, 0, 2, 0, 8, 1, 2, 8, 8, 9, 4, 7, 3, 8, 9, 7, 2, 8, 9, 1, 0, 8, 1, 4, 9, 1, 0, 8, 9, 9, 3, 0, 0, 8, 0, 0, 3, 0, 3, 0, 7, 0, 7, 8, 0, 0, 0, 0, 9, 4, 7, 1, 1, 0, 0, 8, 8, 9, 9, 4, 9, 4, 7, 7, 8, 0, 0, 8, 9, 8, 1, 0, 8, 4, 9, 9, 7, 2, 4, 7, 7, 7, 8, 1, 8, 0, 2, 8, 9, 0, 4, 8, 9, 7, 0, 0, 4, 7, 8, 2, 0, 0, 0, 0, 9, 0, 8, 1, 8, 3, 8, 7, 8, 9, 0, 0, 1, 0, 0, 3, 0, 3, 0, 8, 0, 7, 8, 8, 8, 9, 8, 7, 9, 9, 0, 8, 0, 2, 7, 7, 8, 0, 7, 2, 4, 0, 0, 9, 9, 7, 8, 7, 9, 2, 8, 7, 8, 0, 0, 8, 0, 1, 7, 8, 3, 0, 9, 9, 8, 1, 3, 0, 0, 0, 4, 9, 7, 2, 8, 9, 0, 8, 8, 2, 0, 0, 9, 9, 9, 1, 4, 7, 1, 8, 7, 8, 0, 2, 9, 1, 0, 9, 7, 0, 8, 9, 0, 8, 7, 8, 1, 8, 3, 9, 2, 9, 0, 7, 0, 3, 9, 0, 3, 4, 0, 8, 8, 0, 9, 9, 0, 9, 0, 4, 8, 7, 2, 7, 9, 7, 7, 0, 8, 7, 0, 8, 8, 8, 9, 1, 0, 4, 0, 9, 0, 2, 7, 0, 8, 0, 7, 0, 3, 9, 0, 7, 0, 7, 9, 0, 1, 9, 0, 4, 2, 0, 0, 2, 0, 7, 0, 3, 9, 1, 7, 3, 0, 8, 2, 0, 0, 0, 8, 1, 8, 8, 1, 3, 4, 7, 1, 7, 1, 0, 0, 1, 8, 9, 0, 0, 7, 9, 3, 0, 0, 0, 0, 1, 0, 4, 0, 0, 0, 0, 4, 3, 1, 4, 9, 7, 0, 9, 9, 8, 1, 1, 8, 3, 7, 3, 8, 8, 0, 7, 9, 8, 0, 7, 9, 7, 0, 8, 1, 8, 0, 9, 3, 1, 9, 8, 9, 0, 0, 0, 2, 2, 7, 0, 9, 9, 7, 7, 7, 9, 0, 8, 2, 8, 3, 2, 4, 2, 4, 8, 9, 8, 0, 2, 0, 9, 0, 1, 4, 7, 0, 3, 0, 2, 4, 8, 8, 7, 8, 0, 0, 2, 7, 9, 0, 2, 8, 9, 0, 4, 4, 0, 8, 9, 1, 8, 2, 3, 8, 1, 7, 1, 1, 0, 7, 4, 7, 0, 7, 7, 0, 8, 9, 7, 1, 0, 0, 0, 7, 0, 8, 7, 0, 9, 0, 8, 0, 9, 2, 8, 3, 4, 8, 0, 3, 7, 0, 8, 0, 9, 8, 4, 0, 3, 2, 0, 2, 2, 7, 4, 2, 7, 8, 9, 3, 1, 7, 7, 0, 0, 7, 9, 0, 0, 4, 0, 0, 1, 1, 7, 3, 0, 0, 9, 0, 9, 7, 8, 0, 9, 4, 8, 0, 1, 7, 0, 9, 9, 9, 7, 8, 8, 7, 9, 8, 4, 4, 7, 0, 1, 9, 0, 8, 1, 9, 7, 7, 0, 9, 8, 0, 1, 8, 8, 7, 1, 3, 9, 8, 8, 1, 0, 1, 7, 8, 0, 7, 7, 1, 0, 9, 0, 0, 8, 1, 7, 0, 3, 9, 7, 7, 4, 0, 4, 7, 3, 2, 1, 8, 1, 8, 0, 0, 9, 0, 0, 9, 1, 8, 9, 0, 0, 2, 0, 1, 0, 7, 2, 9, 7, 7, 0, 3, 3, 8, 8, 7, 8, 9, 3, 9, 8, 8, 9, 0, 9, 1, 1, 9, 3, 9, 1, 0, 0, 0, 0, 0, 8, 0, 0, 7, 8, 0, 8, 9, 8, 0, 8, 8, 0, 0, 0, 1, 4, 2, 7, 8, 0, 1, 9, 2, 0, 0, 8, 1, 9, 7, 1, 0, 9, 8, 4, 8, 0, 8, 0, 0, 8, 8, 0, 0, 0, 0, 4, 3, 0, 7, 9, 0, 4, 1, 3, 0, 0, 0, 0, 0, 8, 4, 3, 0, 1, 4, 0, 0, 9, 7, 1, 1, 8, 0, 8, 0, 1, 7, 8, 3, 2, 9, 0, 2, 8, 9, 1, 0, 3, 7, 9, 7, 0, 0, 3, 8, 9, 3, 8, 8, 1, 0, 4, 2, 7, 0, 0, 1, 3, 0, 1, 8, 0, 7, 0, 1, 7, 2, 7, 0, 8, 0, 0, 1, 9, 1, 7, 1, 0, 8, 0, 0, 9, 0, 0, 7, 2, 8, 2, 7, 9, 0, 4, 1, 8, 0, 3, 9, 8, 1, 0, 0, 0, 0, 9, 8, 8, 7, 7, 8, 9, 8, 0, 4, 8, 0, 4, 0, 0, 9, 0, 2, 3, 8, 8, 1, 7, 0, 0, 4, 4, 2, 0, 0, 0, 9, 8, 0, 8, 9, 9, 8, 1, 0, 8, 0, 1, 7, 0, 4, 7, 8, 8, 1, 7, 8, 2, 8, 4, 9, 8, 2, 8, 3, 9, 0, 7, 0, 1, 7, 3, 0, 0, 0, 7, 7, 1, 0, 9, 4, 4, 3, 0, 1, 2, 0, 1, 0, 9, 0, 7, 0, 0, 4, 0, 4, 0, 8, 7, 4, 3, 0, 8, 9, 4, 8, 0, 1, 9, 4, 9, 0, 0, 0, 0, 4, 4, 9, 1, 7, 8, 3, 0, 7, 7, 9, 3, 3, 0, 8, 9, 9, 9, 0, 7, 8, 1, 1, 7, 8, 9, 0, 0, 1, 9, 0, 1, 9, 1, 7, 7, 7, 2, 7, 1, 3, 7, 0, 7, 8, 8, 9, 4, 7, 2, 0, 9, 0, 1, 8, 8, 9, 9, 3, 7, 9, 0, 1, 9, 9, 7, 4, 2, 0, 0, 7, 1, 1, 7, 7, 8, 0, 9, 8, 9, 0, 9, 1, 0, 0, 0, 0, 0, 0, 9, 0, 2, 1, 9, 9, 1, 3, 0, 8, 3, 0, 4, 2, 9, 8, 7, 8, 3, 3, 1, 9, 0, 7, 0, 7, 9, 7, 8, 8, 1, 0, 9, 0, 9, 0, 0, 0, 9, 7, 9, 8, 0, 0, 0, 3, 4, 8, 9, 8, 0, 8, 0, 8, 9, 0, 0, 0, 3, 0, 7, 0, 0, 1, 0, 7, 0, 9, 1, 8, 7, 9, 3, 8, 9, 8, 0, 7, 1, 9, 0, 7, 0, 7, 0, 9, 7, 8, 8, 1, 0, 0, 0, 2, 8, 8, 9, 9, 0, 7, 8, 7, 0, 0, 0, 8, 7, 0, 0, 0, 2, 9, 9, 9, 3, 0, 4, 0, 1, 7, 0, 1, 0, 8, 1, 7, 8, 0, 0, 0, 8, 3, 9, 0, 0, 0, 7, 0, 9, 0, 9, 9, 2, 8, 9, 0, 0, 4, 0, 7, 0, 8, 8, 0, 9, 0, 8, 8, 9, 4, 0, 7, 9, 3, 8, 9, 8, 1, 1, 0, 9, 0, 0, 7, 1, 8, 4, 0, 8, 0, 9, 0, 0, 0, 1, 1, 1, 8, 2, 8, 8, 8, 9, 8, 2, 7, 9, 9, 0, 0, 0, 9, 0, 0, 0, 0, 3, 9, 7, 7, 8, 0, 3, 9, 0, 8, 8, 0, 9, 9, 3, 0, 3, 0, 1, 7, 0, 8, 7, 0, 9, 0, 8, 1, 8, 7, 8, 7, 0, 0, 0, 0, 4, 0, 0, 7, 1, 8, 0, 8, 0, 9, 7, 8, 9, 0, 7, 8, 9, 0, 0, 8, 0, 9, 4, 1, 0, 7, 7, 0, 0, 2, 0, 9, 8, 9, 4, 7, 4, 3, 1, 3, 8, 8, 8, 1, 0, 0, 0, 9, 0, 0, 9, 0, 1, 0, 7, 1, 2, 0, 2, 4, 7, 8, 0, 4, 7, 9, 0, 8, 4, 1, 0, 0, 8, 9, 0, 0, 7, 0, 8, 0, 0, 0, 0, 0, 0, 8, 2, 0, 0, 4, 7, 0, 8, 4, 7, 2, 0, 0, 9, 7, 8, 0, 7, 0, 8, 0, 9, 2, 0, 0, 7, 7, 3, 0, 1, 4, 9, 8, 1, 4, 7, 9, 8, 8, 1, 0, 9, 8, 8, 7, 9, 0, 4, 9, 4, 0, 0, 0, 0, 9, 8, 0, 0, 7, 0, 0, 0, 7, 4, 9, 0, 0, 0, 0, 9, 9, 9, 8, 7, 3, 9, 8, 0, 0, 8, 9, 9, 3, 0, 2, 1, 8, 8, 8, 9, 7, 0, 0, 7, 9, 0, 3, 1, 7, 7, 0, 0, 0, 0, 0, 9, 3, 0, 8, 7, 0, 9, 0, 9, 7, 4, 0, 8, 4, 3, 9, 8, 9, 7, 8, 8, 8, 0, 0, 9, 8, 8, 7, 0, 4, 3, 8, 9, 2, 9, 9, 4, 7, 4, 0, 9, 0, 2, 9, 8, 8, 4, 9, 0, 7, 8, 2, 9, 8, 2, 0, 0, 0, 8, 4, 8, 1, 7, 8, 7, 8, 1, 1, 9, 0, 9, 0, 8, 0, 0, 7, 1, 8, 8, 0, 9, 0, 9, 4, 7, 7, 7, 9, 3, 0, 1, 7, 8, 1, 8, 8, 7, 8, 0, 9, 7, 8, 4, 4, 4, 7, 0, 1, 8, 2, 2, 9, 7, 8, 9, 9, 7, 2, 0, 0, 4, 8, 7, 0, 3, 2, 7, 8, 1, 8, 3, 0, 8, 7, 8, 0, 8, 9, 0, 7, 9, 0, 8, 7, 8, 8, 4, 8, 3, 7, 1, 0, 8, 7, 0, 0, 0, 0, 9, 0, 9, 1, 7, 8, 7, 0, 7, 0, 1, 8, 1, 2, 9, 4, 0, 8, 1, 0, 9, 0, 3, 0, 0, 0, 4, 4, 7, 1, 0, 1, 8, 0, 7, 4, 9, 0, 4, 0, 0, 7, 8, 7, 8, 1, 8, 1, 0, 1, 4, 4, 9, 8, 3, 0, 9, 0, 7, 0, 9, 0, 7, 7, 7, 9, 7, 0, 0, 7, 8, 8, 0, 1, 0, 7, 8, 9, 8, 1, 8, 7, 1, 8, 1, 8, 1, 9, 1, 0, 8, 8, 0, 7, 9, 8, 0, 9, 4, 8, 8, 0, 8, 9, 8, 8, 1, 1, 8, 0, 2, 8, 4, 8, 8, 0, 3, 9, 1, 0, 4, 7, 1, 4, 4, 0, 8, 0, 0, 0, 8, 3, 8, 4, 8, 0, 8, 7, 4, 1, 0, 7, 1, 1, 8, 3, 8, 7, 4, 0, 9, 0, 4, 0, 2, 0, 0, 7, 2, 9, 3, 7, 4, 1, 7, 0, 9, 9, 1, 0, 7, 0, 2, 4, 4, 7, 7, 7, 9, 0, 9, 0, 8, 9, 0, 0, 0, 0, 0, 0, 9, 1, 8, 1, 7, 0, 8, 0, 0, 1, 0, 8, 0, 9, 9, 7, 0, 0, 0, 7, 7, 8, 0, 2, 8, 8, 8, 0, 1, 9, 8, 2, 0, 0, 9, 2, 0, 8, 0, 4, 7, 9, 0, 7, 9, 8, 4, 0, 9, 1, 9, 0, 9, 0, 2, 0, 1, 0, 8, 0, 9, 4, 0, 8, 1, 9, 8, 9, 3, 0, 8, 8, 8, 9, 8, 7, 0, 7, 1, 7, 4, 3, 7, 0, 1, 9, 4, 8, 0, 7, 0, 4, 8, 0, 3, 8, 4, 4, 0, 8, 9, 8, 0, 0, 0, 9, 8, 8, 1, 8, 8, 7, 1, 7, 2, 3, 7, 0, 9, 0, 7, 1, 0, 1, 2, 3, 9, 1, 8, 9, 9, 8, 8, 0, 0, 0, 3, 2, 1, 9, 1, 8, 3, 8, 9, 7, 0, 8, 2, 8, 0, 8, 9, 8, 0, 8, 0, 0, 0, 7, 7, 2, 7, 7, 0, 1, 0, 8, 3, 0, 3, 7, 1, 8, 2, 8, 1, 7, 4, 7, 7, 9, 0, 9, 9, 0, 4, 1, 1, 0, 8, 0, 9, 7, 2, 0, 7, 9, 8, 3, 0, 7, 9, 7, 9, 1, 8, 9, 9, 2, 0, 0, 1, 9, 9, 4, 0, 9, 0, 0, 0, 0, 8, 0, 0, 7, 9, 7, 1, 1, 4, 9, 9, 7, 1, 9, 9, 0, 9, 0, 9, 3, 1, 1, 9, 4, 9, 3, 7, 1, 0, 9, 7, 8, 7, 0, 7, 0, 8, 0, 0, 0, 8, 0, 0, 7, 9, 9, 8, 0, 2, 7, 4, 8, 0, 7, 0, 9, 4, 0, 0, 9, 0, 7, 3, 0, 9, 1, 8, 8, 0, 0, 4, 0, 8, 7, 8, 0, 8, 7, 8, 0, 0, 0, 0, 0, 4, 0, 8, 2, 0, 0, 3, 1, 8, 8, 7, 0, 0, 1, 9, 0, 0, 0, 1, 0, 7, 9, 4, 7, 9, 9, 0, 0, 7, 7, 9, 7, 8, 8, 4, 8, 0, 7, 3, 7, 7, 9, 8, 7, 9, 8, 0, 4, 9, 0, 9, 0, 1, 1, 0, 3, 3, 0, 1, 3, 9, 4, 1, 7, 4, 1, 0, 0, 8, 4, 0, 0, 3, 4, 2, 0, 9, 0, 0, 0, 1, 1, 9, 0, 0, 0, 0, 3, 4, 1, 7, 3, 9, 8, 0, 3, 0, 3, 4, 0, 0, 3, 7, 2, 0, 0, 1, 0, 0, 3, 1, 9, 0, 7, 8, 0, 0, 1, 9, 8, 1, 8, 8, 1, 0, 9, 3, 7, 0, 9, 8, 4, 4, 0, 4, 7, 0, 8, 1, 2, 1, 7, 8, 8, 9, 0, 9, 7, 0, 1, 8, 1, 7, 7, 8, 1, 9, 1, 0, 4, 1, 9, 9, 0, 0, 2, 9, 7, 0, 0, 9, 7, 8, 0, 3, 0, 0, 2, 0, 0, 0, 1, 7, 0, 0, 3, 8, 3, 0, 7, 9, 0, 0, 9, 7, 0, 7, 8, 2, 0, 9, 1, 8, 0, 1, 0, 8, 1, 0, 3, 8, 0, 4, 8, 0, 8, 7, 3, 7, 2, 7, 1, 7, 0, 0, 0, 4, 3, 0, 0, 0, 9, 0, 7, 3, 0, 0, 4, 7, 0, 9, 8, 0, 9, 8, 0, 7, 2, 2, 0, 7, 0, 1, 0, 0, 9, 8, 9, 1, 1, 2, 7, 4, 8, 0, 8, 2, 7, 0, 1, 2, 7, 9, 1, 9, 0, 8, 0, 8, 7, 0, 0, 0, 9, 9, 0, 0, 8, 0, 9, 3, 8, 8, 0, 2, 0, 0, 0, 7, 9, 9, 0, 8, 1, 7, 2, 0, 1, 7, 8, 8, 8, 9, 4, 0, 4, 8, 7, 3, 7, 3, 0, 2, 0, 0, 8, 8, 7, 2, 3, 8, 1, 0, 7, 8, 4, 2, 9, 0, 3, 4, 1, 9, 3, 4, 7, 3, 0, 2, 2, 8, 0, 4, 3, 9, 2, 0, 0, 0, 7, 0, 9, 0, 0, 4, 8, 0, 8, 0, 7, 9, 0, 9, 0, 9, 8, 7, 9, 7, 1, 1, 7, 0, 8, 8, 0, 0, 0, 7, 0, 8, 0, 1, 3, 9, 0, 0, 9, 7, 0, 0, 9, 0, 0, 0, 8, 4, 8, 2, 0, 9, 0, 3, 0, 8, 9, 8, 9, 7, 8, 8, 0, 0, 8, 0, 2, 0, 0, 8, 4, 0, 9, 0, 0, 8, 9, 7, 4, 7, 1, 4, 4, 1, 0, 4, 4, 7, 9, 0, 7, 9, 7, 0, 0, 9, 8, 7, 3, 4, 0, 0, 1, 0, 0, 9, 8, 0, 9, 0, 0, 0, 7, 8, 8, 8, 9, 0, 8, 0, 9, 8, 7, 9, 3, 0, 7, 4, 1, 8, 0, 0, 0, 4, 4, 0, 0, 8, 8, 7, 0, 0, 8, 0, 7, 0, 0, 4, 8, 0, 0, 9, 0, 9, 8, 0, 1, 9, 7, 1, 9, 3, 0, 8, 0, 0, 9, 8, 8, 0, 2, 8, 0, 1, 9, 1, 9, 0, 7, 0, 2, 7, 0, 8, 7, 8, 0, 0, 0, 0, 0, 9, 7, 1, 8, 0, 0, 8, 8, 8, 0, 9, 9, 9, 4, 7, 0, 9, 0, 7, 7, 0, 0, 1, 7, 9, 0, 8, 0, 9, 8, 3, 7, 9, 0, 9, 0, 7, 8, 1, 0, 0, 7, 0, 0, 0, 0, 8, 4, 8, 2, 0, 2, 7, 0, 9, 8, 9, 0, 4, 9, 7, 8, 8, 7, 0, 8, 0, 0, 8, 8, 0, 0, 9, 8, 0, 9, 9, 7, 0, 4, 8, 0, 8, 2, 8, 1, 4, 7, 2, 8, 7, 0, 8, 4, 0, 2, 0, 8, 0, 0, 9, 7, 7, 0, 9, 9, 7, 9, 3, 8, 4, 0, 9, 7, 8, 0, 8, 0, 8, 0, 8, 0, 0, 8, 0, 9, 0, 0, 0, 9, 1, 0, 9, 0, 0, 0, 1, 4, 9, 0, 0, 7, 9, 0, 9, 7, 0, 0, 7, 0, 7, 2, 9, 0, 0, 0, 7, 7, 0, 8, 7, 8, 0, 8, 0, 1, 8, 7, 4, 8, 0, 9, 1, 2, 1, 7, 0, 0, 4, 0, 4, 0, 9, 0, 9, 2, 0, 0, 0, 0, 3, 3, 0, 4, 1, 8, 8, 8, 7, 8, 8, 9, 7, 7, 7, 0, 0, 9, 2, 9, 0, 8, 8, 1, 0, 9, 9, 8, 9, 2, 0, 7, 1, 1, 0, 0, 0, 4, 0, 9, 8, 0, 8, 3, 0, 0, 7, 0, 7, 0, 0, 1, 9, 0, 0, 3, 1, 8, 7, 0, 9, 2, 8, 8, 0, 0, 0, 9, 4, 9, 0, 7, 0, 7, 7, 0, 9, 8, 8, 9, 9, 8, 0, 0, 7, 0, 8, 9, 4, 7, 2, 8, 9, 8, 0, 9, 9, 0, 8, 8, 9, 0, 9, 9, 3, 1, 0, 0, 8, 0, 7, 0, 0, 0, 9, 0, 7, 0, 0, 0, 9, 7, 0, 0, 7, 8, 1, 7, 9, 8, 0, 0, 7, 4, 0, 0, 7, 0, 7, 8, 0, 9, 0, 1, 2, 0, 8, 0, 0, 8, 7, 0, 0, 1, 0, 0, 8, 0, 7, 0, 0, 0]\n"
          ]
        }
      ]
    },
    {
      "cell_type": "code",
      "source": [
        "\n",
        "# Оценка производительности модели\n",
        "accuracy = accuracy_score(y1, y_pred_labels)\n",
        "\n",
        "print(\"Accuracy:\", accuracy)\n",
        "print(\"Precision:\", precision)\n",
        "print(\"Recall:\", recall)\n",
        "print(\"F1-score:\", f1)"
      ],
      "metadata": {
        "colab": {
          "base_uri": "https://localhost:8080/",
          "height": 254
        },
        "id": "6XMpwBpWgk8T",
        "outputId": "c231baeb-5148-4a18-e7c3-5e64dc71eed8"
      },
      "execution_count": null,
      "outputs": [
        {
          "output_type": "stream",
          "name": "stdout",
          "text": [
            "Accuracy: 0.91592\n"
          ]
        },
        {
          "output_type": "error",
          "ename": "NameError",
          "evalue": "ignored",
          "traceback": [
            "\u001b[0;31m---------------------------------------------------------------------------\u001b[0m",
            "\u001b[0;31mNameError\u001b[0m                                 Traceback (most recent call last)",
            "\u001b[0;32m<ipython-input-40-68131fa0a3e7>\u001b[0m in \u001b[0;36m<cell line: 5>\u001b[0;34m()\u001b[0m\n\u001b[1;32m      3\u001b[0m \u001b[0;34m\u001b[0m\u001b[0m\n\u001b[1;32m      4\u001b[0m \u001b[0mprint\u001b[0m\u001b[0;34m(\u001b[0m\u001b[0;34m\"Accuracy:\"\u001b[0m\u001b[0;34m,\u001b[0m \u001b[0maccuracy\u001b[0m\u001b[0;34m)\u001b[0m\u001b[0;34m\u001b[0m\u001b[0;34m\u001b[0m\u001b[0m\n\u001b[0;32m----> 5\u001b[0;31m \u001b[0mprint\u001b[0m\u001b[0;34m(\u001b[0m\u001b[0;34m\"Precision:\"\u001b[0m\u001b[0;34m,\u001b[0m \u001b[0mprecision\u001b[0m\u001b[0;34m)\u001b[0m\u001b[0;34m\u001b[0m\u001b[0;34m\u001b[0m\u001b[0m\n\u001b[0m\u001b[1;32m      6\u001b[0m \u001b[0mprint\u001b[0m\u001b[0;34m(\u001b[0m\u001b[0;34m\"Recall:\"\u001b[0m\u001b[0;34m,\u001b[0m \u001b[0mrecall\u001b[0m\u001b[0;34m)\u001b[0m\u001b[0;34m\u001b[0m\u001b[0;34m\u001b[0m\u001b[0m\n\u001b[1;32m      7\u001b[0m \u001b[0mprint\u001b[0m\u001b[0;34m(\u001b[0m\u001b[0;34m\"F1-score:\"\u001b[0m\u001b[0;34m,\u001b[0m \u001b[0mf1\u001b[0m\u001b[0;34m)\u001b[0m\u001b[0;34m\u001b[0m\u001b[0;34m\u001b[0m\u001b[0m\n",
            "\u001b[0;31mNameError\u001b[0m: name 'precision' is not defined"
          ]
        }
      ]
    },
    {
      "cell_type": "code",
      "source": [
        "from sklearn.metrics import precision_score, recall_score, f1_score\n",
        "\n",
        "# Precision\n",
        "precision = precision_score(y1, y_pred_labels, average='micro')\n",
        "\n",
        "# Recall\n",
        "recall = recall_score(y1, y_pred_labels, average='micro')\n",
        "\n",
        "# F1-score\n",
        "f1 = f1_score(y1, y_pred_labels, average='micro')\n",
        "\n",
        "print(\"Precision:\", precision)\n",
        "print(\"Recall:\", recall)\n",
        "print(\"F1-score:\", f1)"
      ],
      "metadata": {
        "colab": {
          "base_uri": "https://localhost:8080/"
        },
        "id": "JN1gb0Ttnsdl",
        "outputId": "8f638361-84e1-4ae0-8436-5e3d7a995656"
      },
      "execution_count": null,
      "outputs": [
        {
          "output_type": "stream",
          "name": "stdout",
          "text": [
            "Precision: 0.91592\n",
            "Recall: 0.91592\n",
            "F1-score: 0.91592\n"
          ]
        }
      ]
    },
    {
      "cell_type": "code",
      "source": [
        "X = []\n",
        "y = []\n",
        "file_paths = glob.glob('/content/drive/MyDrive/GreenAtom/aclImdb_v1/aclImdb/test/all/*.txt')\n",
        "for file_path in file_paths:\n",
        "        with open(file_path,'r') as file:\n",
        "            content = file.read()\n",
        "            file_name = os.path.basename(file_path)\n",
        "            name = file_name.split('.')[0]\n",
        "            X.append(content)\n",
        "            y.append(name[-1])\n",
        "X_test = X\n",
        "y_test = [int(el) for el in y]"
      ],
      "metadata": {
        "id": "Lfu_WU7KOY8M"
      },
      "execution_count": 8,
      "outputs": []
    },
    {
      "cell_type": "code",
      "source": [
        "print(X_test[0])\n",
        "print(y_test[0])"
      ],
      "metadata": {
        "colab": {
          "base_uri": "https://localhost:8080/"
        },
        "id": "hh47_abynF6F",
        "outputId": "92afb56c-99b8-43cc-8e33-f21a869aba1e"
      },
      "execution_count": 9,
      "outputs": [
        {
          "output_type": "stream",
          "name": "stdout",
          "text": [
            "If you want to waste a small portion of your life sit in front of this predictable zombie film. It fails at the first post by not being scary OR funny. It is a dull grey movie that I guess went straight to video. Hammy and tongue in cheek acting leave a sour taste in the mouth. If you want to watch a poor but still watchable recent zombie film watch Diary of the Dead. Poor special effects, school level script. Zombie films work if they have a moral point or even a political point . This movie has nothing, there is no worthy point that zombification underscores. This is as thrilling and convincing as a Republican Convention, no sorry watching the Republican Convention would be a better example of a Zombie movie.\n",
            "1\n"
          ]
        }
      ]
    },
    {
      "cell_type": "code",
      "source": [
        "import re\n",
        "\n",
        "for i in range(len(X_test)):\n",
        "    s = str(X_test[i])\n",
        "    s = s.lower()\n",
        "    X_test[i] = s"
      ],
      "metadata": {
        "id": "slyAtd-6nLXw"
      },
      "execution_count": 10,
      "outputs": []
    },
    {
      "cell_type": "code",
      "source": [
        "tokenizer = BertTokenizer.from_pretrained('bert-base-uncased')\n",
        "test_encodings = tokenizer(X_test, truncation=True, padding=True, max_length=256, return_tensors = 'tf')"
      ],
      "metadata": {
        "id": "MebrvTDuPU0B",
        "colab": {
          "base_uri": "https://localhost:8080/",
          "height": 81,
          "referenced_widgets": [
            "e2f33b59d35d4b78a440722f1b668668",
            "396df4837dc64b1e9eacfeb2de787355",
            "647c8f16c0a74ed8949f61297344ae52",
            "a39d7e65481c496a85f96dba7010bef8",
            "e0c022ada4904ffbbb0260a0f8645a98",
            "8b3c5eec2e684a28869d68d432a5b30f",
            "2352809b1d8d49119c0b1ebb0d7b0fc1",
            "fe07862bfbae4443b32a01f24403c8d0",
            "a105408da77b44d2aee44b97b06f5b89",
            "ee8e1bc736b34408a37ada12ebea507d",
            "5bc6a31b271f484f878eb27a4970370e",
            "ef7acaea2abb4fedb31a6c5a2730e09c",
            "edf1c3bb55044d989b93096c9a41bd04",
            "10cd2f2ba0cd4ce18149cd2b5ddc84ee",
            "f2f9e13e6ad84968be97ad6eb40d568e",
            "ef23054887804fd999d58c0cd1715f86",
            "9dc91390add344c384f938cfd444c90d",
            "670e013fc5644d8eb3d4166fc1d1f0ff",
            "3f00e8e768fe463bb61f0bcdb5faf39a",
            "353213a2125e4246a236b738dadf0fe9",
            "bf7a9f202c9b45c895df8531d4bdec81",
            "53572e846a0c4d269a663e5bde2a2e3d"
          ]
        },
        "outputId": "53531a88-8cad-4408-e539-057a38ebe6db"
      },
      "execution_count": 12,
      "outputs": [
        {
          "output_type": "display_data",
          "data": {
            "text/plain": [
              "Downloading (…)solve/main/vocab.txt:   0%|          | 0.00/232k [00:00<?, ?B/s]"
            ],
            "application/vnd.jupyter.widget-view+json": {
              "version_major": 2,
              "version_minor": 0,
              "model_id": "e2f33b59d35d4b78a440722f1b668668"
            }
          },
          "metadata": {}
        },
        {
          "output_type": "display_data",
          "data": {
            "text/plain": [
              "Downloading (…)okenizer_config.json:   0%|          | 0.00/28.0 [00:00<?, ?B/s]"
            ],
            "application/vnd.jupyter.widget-view+json": {
              "version_major": 2,
              "version_minor": 0,
              "model_id": "ef7acaea2abb4fedb31a6c5a2730e09c"
            }
          },
          "metadata": {}
        }
      ]
    },
    {
      "cell_type": "code",
      "source": [
        "from sklearn.metrics import accuracy_score,precision_score,recall_score, f1_score\n",
        "\n",
        "y_pred = model2.predict(dict(test_encodings))\n",
        "\n",
        "\n",
        "y_pred_labels = np.argmax(y_pred.logits, axis=1)"
      ],
      "metadata": {
        "colab": {
          "base_uri": "https://localhost:8080/"
        },
        "id": "ivOJT9kHnjRU",
        "outputId": "b9a29f8a-79b9-4bd6-8e6d-290307014e55"
      },
      "execution_count": 15,
      "outputs": [
        {
          "output_type": "stream",
          "name": "stdout",
          "text": [
            "782/782 [==============================] - 443s 551ms/step\n"
          ]
        }
      ]
    },
    {
      "cell_type": "code",
      "source": [
        "from sklearn.metrics import accuracy_score,precision_score,recall_score, f1_score\n",
        "\n",
        "accuracy = accuracy_score(y_test, y_pred_labels)\n",
        "\n",
        "precision = precision_score(y_test, y_pred_labels, average='micro')\n",
        "\n",
        "recall = recall_score(y_test, y_pred_labels, average='micro')\n",
        "\n",
        "f1 = f1_score(y_test, y_pred_labels, average='micro')\n",
        "\n",
        "print(\"Accuracy:\", accuracy)\n",
        "print(\"Precision:\", precision)\n",
        "print(\"Recall:\", recall)\n",
        "print(\"F1-score:\", f1)"
      ],
      "metadata": {
        "colab": {
          "base_uri": "https://localhost:8080/"
        },
        "id": "FRrLAK59p4zF",
        "outputId": "a15d6a3c-211a-4ce2-b746-18ac4bf537c3"
      },
      "execution_count": 20,
      "outputs": [
        {
          "output_type": "stream",
          "name": "stdout",
          "text": [
            "Accuracy: 0.4596\n",
            "Precision: 0.4596\n",
            "Recall: 0.4596\n",
            "F1-score: 0.4596\n"
          ]
        }
      ]
    },
    {
      "cell_type": "code",
      "source": [
        "accuracy = accuracy_score(y_test, y_pred_labels)\n",
        "\n",
        "precision = precision_score(y_test, y_pred_labels, average='macro')\n",
        "\n",
        "recall = recall_score(y_test, y_pred_labels, average='macro')\n",
        "\n",
        "f1 = f1_score(y_test, y_pred_labels, average='macro')\n",
        "\n",
        "print(\"Accuracy:\", accuracy)\n",
        "print(\"Precision:\", precision)\n",
        "print(\"Recall:\", recall)\n",
        "print(\"F1-score:\", f1)"
      ],
      "metadata": {
        "colab": {
          "base_uri": "https://localhost:8080/"
        },
        "id": "Es7XqrPBt1_x",
        "outputId": "d929df78-1672-48f4-b39f-0f0e8ccaac4c"
      },
      "execution_count": 21,
      "outputs": [
        {
          "output_type": "stream",
          "name": "stdout",
          "text": [
            "Accuracy: 0.4596\n",
            "Precision: 0.4178634627120205\n",
            "Recall: 0.41485336143364526\n",
            "F1-score: 0.4154445521068101\n"
          ]
        }
      ]
    },
    {
      "cell_type": "code",
      "source": [
        "accuracy = accuracy_score(y_test, y_pred_labels)\n",
        "\n",
        "precision = precision_score(y_test, y_pred_labels, average='weighted')\n",
        "\n",
        "recall = recall_score(y_test, y_pred_labels, average='weighted')\n",
        "\n",
        "f1 = f1_score(y_test, y_pred_labels, average='weighted')\n",
        "\n",
        "print(\"Accuracy:\", accuracy)\n",
        "print(\"Precision:\", precision)\n",
        "print(\"Recall:\", recall)\n",
        "print(\"F1-score:\", f1)"
      ],
      "metadata": {
        "colab": {
          "base_uri": "https://localhost:8080/"
        },
        "id": "aRo-avRet60u",
        "outputId": "fc4319ef-146e-4348-aa36-bdc413873543"
      },
      "execution_count": 22,
      "outputs": [
        {
          "output_type": "stream",
          "name": "stdout",
          "text": [
            "Accuracy: 0.4596\n",
            "Precision: 0.4642574944131446\n",
            "Recall: 0.4596\n",
            "F1-score: 0.461155512520404\n"
          ]
        }
      ]
    }
  ]
}